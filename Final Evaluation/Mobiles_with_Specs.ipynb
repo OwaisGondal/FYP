{
 "cells": [
  {
   "cell_type": "code",
   "execution_count": 1,
   "id": "ce2b5c2f-6cb9-433e-9f42-f28700fde0ae",
   "metadata": {
    "execution": {
     "iopub.execute_input": "2021-06-19T13:50:12.714931Z",
     "iopub.status.busy": "2021-06-19T13:50:12.714931Z",
     "iopub.status.idle": "2021-06-19T13:50:16.156157Z",
     "shell.execute_reply": "2021-06-19T13:50:16.156157Z",
     "shell.execute_reply.started": "2021-06-19T13:50:12.714931Z"
    }
   },
   "outputs": [],
   "source": [
    "import re\n",
    "import time\n",
    "\n",
    "import bs4 as bs\n",
    "import firebase_admin\n",
    "import pandas as pd\n",
    "from firebase_admin import credentials, firestore\n",
    "from selenium import webdriver"
   ]
  },
  {
   "cell_type": "code",
   "execution_count": 2,
   "id": "607d862d-f63e-4411-a47d-54cafed352d2",
   "metadata": {
    "execution": {
     "iopub.execute_input": "2021-06-19T13:50:52.874185Z",
     "iopub.status.busy": "2021-06-19T13:50:52.874185Z",
     "iopub.status.idle": "2021-06-19T13:50:54.277153Z",
     "shell.execute_reply": "2021-06-19T13:50:54.277153Z",
     "shell.execute_reply.started": "2021-06-19T13:50:52.874185Z"
    }
   },
   "outputs": [],
   "source": [
    "driver = webdriver.Chrome(\n",
    "    \"C:/Users/OwaisGondal/Downloads/Compressed/chromedriver_win32/chromedriver.exe\"\n",
    ")"
   ]
  },
  {
   "cell_type": "markdown",
   "id": "ad4e2122-0fe7-4ed1-8b30-09bd6f6f8906",
   "metadata": {},
   "source": [
    "#### Firebase Credentials"
   ]
  },
  {
   "cell_type": "code",
   "execution_count": 3,
   "id": "2768266e-3b99-4b92-81bf-3ed82ab8cbf9",
   "metadata": {
    "execution": {
     "iopub.execute_input": "2021-06-19T13:53:53.555789Z",
     "iopub.status.busy": "2021-06-19T13:53:53.555789Z",
     "iopub.status.idle": "2021-06-19T13:53:53.596265Z",
     "shell.execute_reply": "2021-06-19T13:53:53.596265Z",
     "shell.execute_reply.started": "2021-06-19T13:53:53.555789Z"
    },
    "tags": []
   },
   "outputs": [
    {
     "data": {
      "text/plain": [
       "<firebase_admin.App at 0x21ff0d99280>"
      ]
     },
     "execution_count": 3,
     "metadata": {},
     "output_type": "execute_result"
    }
   ],
   "source": [
    "cred = credentials.Certificate(\n",
    "    \"C://Users/OwaisGondal/Documents/Python/FYP/TestKey.json\"\n",
    ")\n",
    "firebase_admin.initialize_app(cred)"
   ]
  },
  {
   "cell_type": "markdown",
   "id": "b2a9fafd-03b9-492a-80e5-e9d8f0311b6b",
   "metadata": {},
   "source": [
    "#### Connect to Firebase"
   ]
  },
  {
   "cell_type": "code",
   "execution_count": 4,
   "id": "f0f35ac2-29f0-46cd-8d30-ead4ffe5b1b6",
   "metadata": {
    "execution": {
     "iopub.execute_input": "2021-06-19T13:53:57.130984Z",
     "iopub.status.busy": "2021-06-19T13:53:57.130984Z",
     "iopub.status.idle": "2021-06-19T13:53:57.148008Z",
     "shell.execute_reply": "2021-06-19T13:53:57.147010Z",
     "shell.execute_reply.started": "2021-06-19T13:53:57.130984Z"
    },
    "tags": []
   },
   "outputs": [],
   "source": [
    "db = firestore.client()  # this connects to Firestore"
   ]
  },
  {
   "cell_type": "code",
   "execution_count": null,
   "id": "8d437c59-1c11-4345-aa80-7f1b3c972ee9",
   "metadata": {},
   "outputs": [],
   "source": []
  }
 ],
 "metadata": {
  "kernelspec": {
   "display_name": "Python 3",
   "language": "python",
   "name": "python3"
  },
  "language_info": {
   "codemirror_mode": {
    "name": "ipython",
    "version": 3
   },
   "file_extension": ".py",
   "mimetype": "text/x-python",
   "name": "python",
   "nbconvert_exporter": "python",
   "pygments_lexer": "ipython3",
   "version": "3.8.10"
  }
 },
 "nbformat": 4,
 "nbformat_minor": 5
}
