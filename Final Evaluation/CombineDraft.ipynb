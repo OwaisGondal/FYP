{
 "cells": [
  {
   "cell_type": "code",
   "execution_count": null,
   "id": "9e452f51-1f3b-48a8-b103-273b8c3f5421",
   "metadata": {},
   "outputs": [],
   "source": [
    "import re\n",
    "\n",
    "import bs4 as bs\n",
    "import pandas as pd\n",
    "from selenium import webdriver"
   ]
  },
  {
   "cell_type": "code",
   "execution_count": null,
   "id": "3c703705-6699-4198-acea-8ec63f67f0f6",
   "metadata": {},
   "outputs": [],
   "source": [
    "\n",
    "vendors=[\"Daraz\",\"Telemart\",\"Zaibis\",\"Myshop\",\"Symbios.pk\",\"Homeshopping\",\"Paklap\",\"Czone\"]\n",
    "# Links=[\"www.daraz.pk\",\"www.telemart.pk\",\"www.zaibis.com\",\"www.myshop.pk\",\"www.symbios.pk\",\"www.homeshopping.pk\",\"www.paklap.pk\",\"www.czone.com.pk\"]\n",
    "\n",
    "\n",
    "Names = []\n",
    "Prices = []\n",
    "url = \"https://www.telemart.pk/mobile-and-tablets-deals.html\"\n",
    "Links=\n",
    "driver = webdriver.Chrome(\"C:/Users/Usman/Downloads/chromedriver.exe\")\n",
    "driver.get(url)\n",
    "# for j in range(2,6):\n",
    "#   page=driver.find_element_by_xpath('/html/body/div[2]/div[3]/div/div/div[3]/div/div[2]/div[2]/div/div/ul/li['+str(j)+']/a')\n",
    "#  driver.get(page.get_attribute(\"onclick\"))\n",
    "\n",
    "\n",
    "for i in range(1, 48):\n",
    "    target_name = driver.find_element_by_xpath(\n",
    "        '//*[@id=\"result\"]/div[1]/div[' + str(i) + \"]/a/div[2]/h2/span\"\n",
    "    )\n",
    "    target_prize = driver.find_element_by_xpath(\n",
    "        '//*[@id=\"result\"]/div[1]/div[' + str(i) + \"]/a/div[2]/div[2]/ins\"\n",
    "    )\n",
    "    name.append(target_name.text)\n",
    "    price.append(target_prize.text)\n",
    "\n",
    "\n",
    "driver.close()\n",
    "# print(name)\n",
    "# print(price)\n",
    "df = pd.DataFrame(list(zip(name, price)), columns=[\"Name\", \"Price\"])\n",
    "df.sort_values([\"Name\", \"Price\"], inplace=True)\n",
    "df.reset_index(0, inplace=True)\n",
    "df"
   ]
  }
 ],
 "metadata": {
  "kernelspec": {
   "display_name": "Python 3",
   "language": "python",
   "name": "python3"
  },
  "language_info": {
   "codemirror_mode": {
    "name": "ipython",
    "version": 3
   },
   "file_extension": ".py",
   "mimetype": "text/x-python",
   "name": "python",
   "nbconvert_exporter": "python",
   "pygments_lexer": "ipython3",
   "version": "3.8.10"
  }
 },
 "nbformat": 4,
 "nbformat_minor": 5
}
