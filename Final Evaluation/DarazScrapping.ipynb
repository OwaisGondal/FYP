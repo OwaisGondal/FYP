{
 "cells": [
  {
   "cell_type": "code",
   "execution_count": 106,
   "id": "ea617101-bec1-43b6-8ce3-19012416bb8c",
   "metadata": {
    "execution": {
     "iopub.execute_input": "2021-05-31T18:24:02.662602Z",
     "iopub.status.busy": "2021-05-31T18:24:02.662602Z",
     "iopub.status.idle": "2021-05-31T18:24:02.683734Z",
     "shell.execute_reply": "2021-05-31T18:24:02.682780Z",
     "shell.execute_reply.started": "2021-05-31T18:24:02.662602Z"
    },
    "tags": []
   },
   "outputs": [],
   "source": [
    "import re\n",
    "\n",
    "import firebase_admin\n",
    "import pandas as pd\n",
    "from firebase_admin import credentials, firestore\n",
    "from selenium import webdriver"
   ]
  },
  {
   "cell_type": "code",
   "execution_count": 2,
   "id": "ee99e671-88ba-4e48-8f16-563e4d4b2305",
   "metadata": {
    "execution": {
     "iopub.execute_input": "2021-05-30T08:57:21.142268Z",
     "iopub.status.busy": "2021-05-30T08:57:21.141272Z",
     "iopub.status.idle": "2021-05-30T08:57:22.843468Z",
     "shell.execute_reply": "2021-05-30T08:57:22.842470Z",
     "shell.execute_reply.started": "2021-05-30T08:57:21.142268Z"
    },
    "tags": []
   },
   "outputs": [],
   "source": [
    "driver = webdriver.Chrome(\n",
    "    \"C:/Users/OwaisGondal/Downloads/Compressed/chromedriver_win32/chromedriver.exe\"\n",
    ")"
   ]
  },
  {
   "cell_type": "code",
   "execution_count": 3,
   "id": "997162ca-13f7-48d3-a558-770c86abc7fd",
   "metadata": {
    "execution": {
     "iopub.execute_input": "2021-05-30T08:57:22.845558Z",
     "iopub.status.busy": "2021-05-30T08:57:22.845558Z",
     "iopub.status.idle": "2021-05-30T09:06:08.968480Z",
     "shell.execute_reply": "2021-05-30T09:06:08.967571Z",
     "shell.execute_reply.started": "2021-05-30T08:57:22.845558Z"
    },
    "scrolled": true,
    "tags": []
   },
   "outputs": [],
   "source": [
    "Names = []\n",
    "Prices = []\n",
    "Links = []\n",
    "for i in range(1, 80):\n",
    "    driver.get(\"https://www.daraz.pk/smartphones/?page=\" + str(i))\n",
    "    try:\n",
    "        for j in range(1, 40):\n",
    "            Name = driver.find_element_by_xpath(\n",
    "                '//*[@id=\"root\"]/div/div[3]/div[1]/div/div[1]/div[2]/div['\n",
    "                + str(j)\n",
    "                + \"]/div/div/div[2]/div[2]/a\"\n",
    "            )\n",
    "            Price = driver.find_element_by_xpath(\n",
    "                '//*[@id=\"root\"]/div/div[3]/div[1]/div/div[1]/div[2]/div['\n",
    "                + str(j)\n",
    "                + \"]/div/div/div[2]/div[3]/span\"\n",
    "            )\n",
    "\n",
    "            Names.append(Name.text)\n",
    "\n",
    "            Prices.append(Price.text)\n",
    "            Links.append(Name.get_attribute(\"href\"))\n",
    "    except:\n",
    "        1 == 1"
   ]
  },
  {
   "cell_type": "code",
   "execution_count": 4,
   "id": "2460dd8c-c900-47e3-972e-b1007b9fdfea",
   "metadata": {
    "execution": {
     "iopub.execute_input": "2021-05-30T09:06:08.972252Z",
     "iopub.status.busy": "2021-05-30T09:06:08.972252Z",
     "iopub.status.idle": "2021-05-30T09:06:09.574464Z",
     "shell.execute_reply": "2021-05-30T09:06:09.573435Z",
     "shell.execute_reply.started": "2021-05-30T09:06:08.972252Z"
    },
    "tags": []
   },
   "outputs": [],
   "source": [
    "driver.close()"
   ]
  },
  {
   "cell_type": "code",
   "execution_count": 5,
   "id": "7f876d57-1a67-4a9f-b749-a18cc5863cce",
   "metadata": {
    "execution": {
     "iopub.execute_input": "2021-05-30T09:06:09.577424Z",
     "iopub.status.busy": "2021-05-30T09:06:09.576427Z",
     "iopub.status.idle": "2021-05-30T09:06:09.639363Z",
     "shell.execute_reply": "2021-05-30T09:06:09.638419Z",
     "shell.execute_reply.started": "2021-05-30T09:06:09.577125Z"
    },
    "tags": []
   },
   "outputs": [
    {
     "data": {
      "text/html": [
       "<div>\n",
       "<style scoped>\n",
       "    .dataframe tbody tr th:only-of-type {\n",
       "        vertical-align: middle;\n",
       "    }\n",
       "\n",
       "    .dataframe tbody tr th {\n",
       "        vertical-align: top;\n",
       "    }\n",
       "\n",
       "    .dataframe thead th {\n",
       "        text-align: right;\n",
       "    }\n",
       "</style>\n",
       "<table border=\"1\" class=\"dataframe\">\n",
       "  <thead>\n",
       "    <tr style=\"text-align: right;\">\n",
       "      <th></th>\n",
       "      <th>Name</th>\n",
       "      <th>Price</th>\n",
       "      <th>Links</th>\n",
       "    </tr>\n",
       "  </thead>\n",
       "  <tbody>\n",
       "    <tr>\n",
       "      <th>0</th>\n",
       "      <td>QMobile View Max Pro - 6.52\" HD+ Notch Display...</td>\n",
       "      <td>Rs. 13,066</td>\n",
       "      <td>https://www.daraz.pk/products/qmobile-view-max...</td>\n",
       "    </tr>\n",
       "    <tr>\n",
       "      <th>1</th>\n",
       "      <td>Samsung M51 - 6.7\" sAMOLED Plus Display - 64MP...</td>\n",
       "      <td>Rs. 57,999</td>\n",
       "      <td>https://www.daraz.pk/products/samsung-m51-67-s...</td>\n",
       "    </tr>\n",
       "    <tr>\n",
       "      <th>2</th>\n",
       "      <td>POCO X3 Pro 6+128GB - 6.67\" IPS Display - 48MP...</td>\n",
       "      <td>Rs. 41,999</td>\n",
       "      <td>https://www.daraz.pk/products/poco-x3-pro-6128...</td>\n",
       "    </tr>\n",
       "    <tr>\n",
       "      <th>3</th>\n",
       "      <td>Samsung M31s - 6.5\" Infinity O Display - 64MP ...</td>\n",
       "      <td>Rs. 45,999</td>\n",
       "      <td>https://www.daraz.pk/products/samsung-m31s-65-...</td>\n",
       "    </tr>\n",
       "    <tr>\n",
       "      <th>4</th>\n",
       "      <td>Vivo - Y20 - 4GB - 64GB - 5000mAh - Side Finge...</td>\n",
       "      <td>Rs. 25,999</td>\n",
       "      <td>https://www.daraz.pk/products/vivo-y20-4gb-64g...</td>\n",
       "    </tr>\n",
       "    <tr>\n",
       "      <th>...</th>\n",
       "      <td>...</td>\n",
       "      <td>...</td>\n",
       "      <td>...</td>\n",
       "    </tr>\n",
       "    <tr>\n",
       "      <th>2741</th>\n",
       "      <td>Huawei P10 Lite - 4gb / 64gb - PTA Approved</td>\n",
       "      <td>Rs. 18,500</td>\n",
       "      <td>https://www.daraz.pk/products/huawei-p10-lite-...</td>\n",
       "    </tr>\n",
       "    <tr>\n",
       "      <th>2742</th>\n",
       "      <td>Huawei Honor 5C Pro - 3gb / 32gb - PTA Approved</td>\n",
       "      <td>Rs. 14,500</td>\n",
       "      <td>https://www.daraz.pk/products/huawei-honor-5c-...</td>\n",
       "    </tr>\n",
       "    <tr>\n",
       "      <th>2743</th>\n",
       "      <td>Huawei Y7 Prime 2018 - 4gb/64gb - PTA Approved</td>\n",
       "      <td>Rs. 17,500</td>\n",
       "      <td>https://www.daraz.pk/products/huawei-y7-prime-...</td>\n",
       "    </tr>\n",
       "    <tr>\n",
       "      <th>2744</th>\n",
       "      <td>Huawei Honor 6s - 3gb / 32gb</td>\n",
       "      <td>Rs. 15,500</td>\n",
       "      <td>https://www.daraz.pk/products/huawei-honor-6s-...</td>\n",
       "    </tr>\n",
       "    <tr>\n",
       "      <th>2745</th>\n",
       "      <td>Nokia 105 (2019) - Dual SIM - FM Radio - 800mA...</td>\n",
       "      <td>Rs. 2,458</td>\n",
       "      <td>https://www.daraz.pk/products/nokia-105-2019-d...</td>\n",
       "    </tr>\n",
       "  </tbody>\n",
       "</table>\n",
       "<p>2746 rows × 3 columns</p>\n",
       "</div>"
      ],
      "text/plain": [
       "                                                   Name       Price  \\\n",
       "0     QMobile View Max Pro - 6.52\" HD+ Notch Display...  Rs. 13,066   \n",
       "1     Samsung M51 - 6.7\" sAMOLED Plus Display - 64MP...  Rs. 57,999   \n",
       "2     POCO X3 Pro 6+128GB - 6.67\" IPS Display - 48MP...  Rs. 41,999   \n",
       "3     Samsung M31s - 6.5\" Infinity O Display - 64MP ...  Rs. 45,999   \n",
       "4     Vivo - Y20 - 4GB - 64GB - 5000mAh - Side Finge...  Rs. 25,999   \n",
       "...                                                 ...         ...   \n",
       "2741        Huawei P10 Lite - 4gb / 64gb - PTA Approved  Rs. 18,500   \n",
       "2742    Huawei Honor 5C Pro - 3gb / 32gb - PTA Approved  Rs. 14,500   \n",
       "2743     Huawei Y7 Prime 2018 - 4gb/64gb - PTA Approved  Rs. 17,500   \n",
       "2744                       Huawei Honor 6s - 3gb / 32gb  Rs. 15,500   \n",
       "2745  Nokia 105 (2019) - Dual SIM - FM Radio - 800mA...   Rs. 2,458   \n",
       "\n",
       "                                                  Links  \n",
       "0     https://www.daraz.pk/products/qmobile-view-max...  \n",
       "1     https://www.daraz.pk/products/samsung-m51-67-s...  \n",
       "2     https://www.daraz.pk/products/poco-x3-pro-6128...  \n",
       "3     https://www.daraz.pk/products/samsung-m31s-65-...  \n",
       "4     https://www.daraz.pk/products/vivo-y20-4gb-64g...  \n",
       "...                                                 ...  \n",
       "2741  https://www.daraz.pk/products/huawei-p10-lite-...  \n",
       "2742  https://www.daraz.pk/products/huawei-honor-5c-...  \n",
       "2743  https://www.daraz.pk/products/huawei-y7-prime-...  \n",
       "2744  https://www.daraz.pk/products/huawei-honor-6s-...  \n",
       "2745  https://www.daraz.pk/products/nokia-105-2019-d...  \n",
       "\n",
       "[2746 rows x 3 columns]"
      ]
     },
     "execution_count": 5,
     "metadata": {},
     "output_type": "execute_result"
    }
   ],
   "source": [
    "df = pd.DataFrame(list(zip(Names, Prices, Links)), columns=[\"Name\", \"Price\", \"Links\"])\n",
    "# df.sort_values([\"Name\", \"Price\",\"Links\"], inplace=True)\n",
    "df.reset_index(0, inplace=True)\n",
    "df.drop(columns=[\"index\"], inplace=True)\n",
    "df"
   ]
  },
  {
   "cell_type": "code",
   "execution_count": 42,
   "id": "b5ba766b-36b6-4976-a9ee-392d2c97a8fd",
   "metadata": {
    "execution": {
     "iopub.execute_input": "2021-05-30T08:02:11.928637Z",
     "iopub.status.busy": "2021-05-30T08:02:11.927636Z",
     "iopub.status.idle": "2021-05-30T08:02:11.954643Z",
     "shell.execute_reply": "2021-05-30T08:02:11.953700Z",
     "shell.execute_reply.started": "2021-05-30T08:02:11.928637Z"
    },
    "tags": []
   },
   "outputs": [
    {
     "name": "stdout",
     "output_type": "stream",
     "text": [
      "<class 'pandas.core.frame.DataFrame'>\n",
      "RangeIndex: 2746 entries, 0 to 2745\n",
      "Data columns (total 3 columns):\n",
      " #   Column  Non-Null Count  Dtype \n",
      "---  ------  --------------  ----- \n",
      " 0   Name    2746 non-null   object\n",
      " 1   Price   2746 non-null   object\n",
      " 2   Links   2746 non-null   object\n",
      "dtypes: object(3)\n",
      "memory usage: 64.5+ KB\n"
     ]
    }
   ],
   "source": [
    "df.info()"
   ]
  },
  {
   "cell_type": "code",
   "execution_count": 44,
   "id": "c4f413bf-0549-4cf0-9046-419f60440d35",
   "metadata": {
    "execution": {
     "iopub.execute_input": "2021-05-30T08:02:27.009495Z",
     "iopub.status.busy": "2021-05-30T08:02:27.008496Z",
     "iopub.status.idle": "2021-05-30T08:02:27.040410Z",
     "shell.execute_reply": "2021-05-30T08:02:27.039467Z",
     "shell.execute_reply.started": "2021-05-30T08:02:27.009495Z"
    },
    "tags": []
   },
   "outputs": [
    {
     "data": {
      "text/html": [
       "<div>\n",
       "<style scoped>\n",
       "    .dataframe tbody tr th:only-of-type {\n",
       "        vertical-align: middle;\n",
       "    }\n",
       "\n",
       "    .dataframe tbody tr th {\n",
       "        vertical-align: top;\n",
       "    }\n",
       "\n",
       "    .dataframe thead th {\n",
       "        text-align: right;\n",
       "    }\n",
       "</style>\n",
       "<table border=\"1\" class=\"dataframe\">\n",
       "  <thead>\n",
       "    <tr style=\"text-align: right;\">\n",
       "      <th></th>\n",
       "      <th>Name</th>\n",
       "      <th>Price</th>\n",
       "      <th>Links</th>\n",
       "    </tr>\n",
       "  </thead>\n",
       "  <tbody>\n",
       "    <tr>\n",
       "      <th>0</th>\n",
       "      <td>Samsung M51 - 6.7\" sAMOLED Plus Display - 64MP...</td>\n",
       "      <td>Rs. 57,999</td>\n",
       "      <td>https://www.daraz.pk/products/samsung-m51-67-s...</td>\n",
       "    </tr>\n",
       "    <tr>\n",
       "      <th>1</th>\n",
       "      <td>POCO X3 Pro 6+128GB - 6.67\" IPS Display - 48MP...</td>\n",
       "      <td>Rs. 41,999</td>\n",
       "      <td>https://www.daraz.pk/products/poco-x3-pro-6128...</td>\n",
       "    </tr>\n",
       "    <tr>\n",
       "      <th>2</th>\n",
       "      <td>Samsung M31s - 6.5\" Infinity O Display - 64MP ...</td>\n",
       "      <td>Rs. 45,999</td>\n",
       "      <td>https://www.daraz.pk/products/samsung-m31s-65-...</td>\n",
       "    </tr>\n",
       "    <tr>\n",
       "      <th>3</th>\n",
       "      <td>QMobile View Max Pro - 6.52\" HD+ Notch Display...</td>\n",
       "      <td>Rs. 13,066</td>\n",
       "      <td>https://www.daraz.pk/products/qmobile-view-max...</td>\n",
       "    </tr>\n",
       "    <tr>\n",
       "      <th>4</th>\n",
       "      <td>Vivo - Y20 - 4GB - 64GB - 5000mAh - Side Finge...</td>\n",
       "      <td>Rs. 25,999</td>\n",
       "      <td>https://www.daraz.pk/products/vivo-y20-4gb-64g...</td>\n",
       "    </tr>\n",
       "    <tr>\n",
       "      <th>...</th>\n",
       "      <td>...</td>\n",
       "      <td>...</td>\n",
       "      <td>...</td>\n",
       "    </tr>\n",
       "    <tr>\n",
       "      <th>2741</th>\n",
       "      <td>Huawei P10 Lite - 4gb / 64gb - PTA Approved</td>\n",
       "      <td>Rs. 18,500</td>\n",
       "      <td>https://www.daraz.pk/products/huawei-p10-lite-...</td>\n",
       "    </tr>\n",
       "    <tr>\n",
       "      <th>2742</th>\n",
       "      <td>Huawei Honor 5C Pro - 3gb / 32gb - PTA Approved</td>\n",
       "      <td>Rs. 14,500</td>\n",
       "      <td>https://www.daraz.pk/products/huawei-honor-5c-...</td>\n",
       "    </tr>\n",
       "    <tr>\n",
       "      <th>2743</th>\n",
       "      <td>Huawei Y7 Prime 2018 - 4gb/64gb - PTA Approved</td>\n",
       "      <td>Rs. 17,500</td>\n",
       "      <td>https://www.daraz.pk/products/huawei-y7-prime-...</td>\n",
       "    </tr>\n",
       "    <tr>\n",
       "      <th>2744</th>\n",
       "      <td>Huawei Honor 6s - 3gb / 32gb</td>\n",
       "      <td>Rs. 15,500</td>\n",
       "      <td>https://www.daraz.pk/products/huawei-honor-6s-...</td>\n",
       "    </tr>\n",
       "    <tr>\n",
       "      <th>2745</th>\n",
       "      <td>Nokia 105 (2019) - Dual SIM - FM Radio - 800mA...</td>\n",
       "      <td>Rs. 2,458</td>\n",
       "      <td>https://www.daraz.pk/products/nokia-105-2019-d...</td>\n",
       "    </tr>\n",
       "  </tbody>\n",
       "</table>\n",
       "<p>2746 rows × 3 columns</p>\n",
       "</div>"
      ],
      "text/plain": [
       "                                                   Name       Price  \\\n",
       "0     Samsung M51 - 6.7\" sAMOLED Plus Display - 64MP...  Rs. 57,999   \n",
       "1     POCO X3 Pro 6+128GB - 6.67\" IPS Display - 48MP...  Rs. 41,999   \n",
       "2     Samsung M31s - 6.5\" Infinity O Display - 64MP ...  Rs. 45,999   \n",
       "3     QMobile View Max Pro - 6.52\" HD+ Notch Display...  Rs. 13,066   \n",
       "4     Vivo - Y20 - 4GB - 64GB - 5000mAh - Side Finge...  Rs. 25,999   \n",
       "...                                                 ...         ...   \n",
       "2741        Huawei P10 Lite - 4gb / 64gb - PTA Approved  Rs. 18,500   \n",
       "2742    Huawei Honor 5C Pro - 3gb / 32gb - PTA Approved  Rs. 14,500   \n",
       "2743     Huawei Y7 Prime 2018 - 4gb/64gb - PTA Approved  Rs. 17,500   \n",
       "2744                       Huawei Honor 6s - 3gb / 32gb  Rs. 15,500   \n",
       "2745  Nokia 105 (2019) - Dual SIM - FM Radio - 800mA...   Rs. 2,458   \n",
       "\n",
       "                                                  Links  \n",
       "0     https://www.daraz.pk/products/samsung-m51-67-s...  \n",
       "1     https://www.daraz.pk/products/poco-x3-pro-6128...  \n",
       "2     https://www.daraz.pk/products/samsung-m31s-65-...  \n",
       "3     https://www.daraz.pk/products/qmobile-view-max...  \n",
       "4     https://www.daraz.pk/products/vivo-y20-4gb-64g...  \n",
       "...                                                 ...  \n",
       "2741  https://www.daraz.pk/products/huawei-p10-lite-...  \n",
       "2742  https://www.daraz.pk/products/huawei-honor-5c-...  \n",
       "2743  https://www.daraz.pk/products/huawei-y7-prime-...  \n",
       "2744  https://www.daraz.pk/products/huawei-honor-6s-...  \n",
       "2745  https://www.daraz.pk/products/nokia-105-2019-d...  \n",
       "\n",
       "[2746 rows x 3 columns]"
      ]
     },
     "execution_count": 44,
     "metadata": {},
     "output_type": "execute_result"
    }
   ],
   "source": [
    "df"
   ]
  },
  {
   "cell_type": "code",
   "execution_count": 43,
   "id": "41e87e38-83be-4284-a4bf-663aa40723b3",
   "metadata": {
    "execution": {
     "iopub.execute_input": "2021-05-30T08:02:14.498524Z",
     "iopub.status.busy": "2021-05-30T08:02:14.497700Z",
     "iopub.status.idle": "2021-05-30T08:02:14.556842Z",
     "shell.execute_reply": "2021-05-30T08:02:14.555875Z",
     "shell.execute_reply.started": "2021-05-30T08:02:14.498524Z"
    },
    "scrolled": true,
    "tags": []
   },
   "outputs": [
    {
     "ename": "KeyError",
     "evalue": "\"['index'] not found in axis\"",
     "output_type": "error",
     "traceback": [
      "\u001b[1;31m---------------------------------------------------------------------------\u001b[0m",
      "\u001b[1;31mKeyError\u001b[0m                                  Traceback (most recent call last)",
      "\u001b[1;32m<ipython-input-43-072f22e7ce52>\u001b[0m in \u001b[0;36m<module>\u001b[1;34m\u001b[0m\n\u001b[1;32m----> 1\u001b[1;33m \u001b[0mdf\u001b[0m\u001b[1;33m.\u001b[0m\u001b[0mdrop\u001b[0m\u001b[1;33m(\u001b[0m\u001b[0mcolumns\u001b[0m\u001b[1;33m=\u001b[0m\u001b[1;33m[\u001b[0m\u001b[1;34m\"index\"\u001b[0m\u001b[1;33m]\u001b[0m\u001b[1;33m,\u001b[0m \u001b[0minplace\u001b[0m\u001b[1;33m=\u001b[0m\u001b[1;32mTrue\u001b[0m\u001b[1;33m)\u001b[0m\u001b[1;33m\u001b[0m\u001b[1;33m\u001b[0m\u001b[0m\n\u001b[0m",
      "\u001b[1;32m~\\Anaconda3\\lib\\site-packages\\pandas\\core\\frame.py\u001b[0m in \u001b[0;36mdrop\u001b[1;34m(self, labels, axis, index, columns, level, inplace, errors)\u001b[0m\n\u001b[0;32m   4306\u001b[0m                 \u001b[0mweight\u001b[0m  \u001b[1;36m1.0\u001b[0m     \u001b[1;36m0.8\u001b[0m\u001b[1;33m\u001b[0m\u001b[1;33m\u001b[0m\u001b[0m\n\u001b[0;32m   4307\u001b[0m         \"\"\"\n\u001b[1;32m-> 4308\u001b[1;33m         return super().drop(\n\u001b[0m\u001b[0;32m   4309\u001b[0m             \u001b[0mlabels\u001b[0m\u001b[1;33m=\u001b[0m\u001b[0mlabels\u001b[0m\u001b[1;33m,\u001b[0m\u001b[1;33m\u001b[0m\u001b[1;33m\u001b[0m\u001b[0m\n\u001b[0;32m   4310\u001b[0m             \u001b[0maxis\u001b[0m\u001b[1;33m=\u001b[0m\u001b[0maxis\u001b[0m\u001b[1;33m,\u001b[0m\u001b[1;33m\u001b[0m\u001b[1;33m\u001b[0m\u001b[0m\n",
      "\u001b[1;32m~\\Anaconda3\\lib\\site-packages\\pandas\\core\\generic.py\u001b[0m in \u001b[0;36mdrop\u001b[1;34m(self, labels, axis, index, columns, level, inplace, errors)\u001b[0m\n\u001b[0;32m   4151\u001b[0m         \u001b[1;32mfor\u001b[0m \u001b[0maxis\u001b[0m\u001b[1;33m,\u001b[0m \u001b[0mlabels\u001b[0m \u001b[1;32min\u001b[0m \u001b[0maxes\u001b[0m\u001b[1;33m.\u001b[0m\u001b[0mitems\u001b[0m\u001b[1;33m(\u001b[0m\u001b[1;33m)\u001b[0m\u001b[1;33m:\u001b[0m\u001b[1;33m\u001b[0m\u001b[1;33m\u001b[0m\u001b[0m\n\u001b[0;32m   4152\u001b[0m             \u001b[1;32mif\u001b[0m \u001b[0mlabels\u001b[0m \u001b[1;32mis\u001b[0m \u001b[1;32mnot\u001b[0m \u001b[1;32mNone\u001b[0m\u001b[1;33m:\u001b[0m\u001b[1;33m\u001b[0m\u001b[1;33m\u001b[0m\u001b[0m\n\u001b[1;32m-> 4153\u001b[1;33m                 \u001b[0mobj\u001b[0m \u001b[1;33m=\u001b[0m \u001b[0mobj\u001b[0m\u001b[1;33m.\u001b[0m\u001b[0m_drop_axis\u001b[0m\u001b[1;33m(\u001b[0m\u001b[0mlabels\u001b[0m\u001b[1;33m,\u001b[0m \u001b[0maxis\u001b[0m\u001b[1;33m,\u001b[0m \u001b[0mlevel\u001b[0m\u001b[1;33m=\u001b[0m\u001b[0mlevel\u001b[0m\u001b[1;33m,\u001b[0m \u001b[0merrors\u001b[0m\u001b[1;33m=\u001b[0m\u001b[0merrors\u001b[0m\u001b[1;33m)\u001b[0m\u001b[1;33m\u001b[0m\u001b[1;33m\u001b[0m\u001b[0m\n\u001b[0m\u001b[0;32m   4154\u001b[0m \u001b[1;33m\u001b[0m\u001b[0m\n\u001b[0;32m   4155\u001b[0m         \u001b[1;32mif\u001b[0m \u001b[0minplace\u001b[0m\u001b[1;33m:\u001b[0m\u001b[1;33m\u001b[0m\u001b[1;33m\u001b[0m\u001b[0m\n",
      "\u001b[1;32m~\\Anaconda3\\lib\\site-packages\\pandas\\core\\generic.py\u001b[0m in \u001b[0;36m_drop_axis\u001b[1;34m(self, labels, axis, level, errors)\u001b[0m\n\u001b[0;32m   4186\u001b[0m                 \u001b[0mnew_axis\u001b[0m \u001b[1;33m=\u001b[0m \u001b[0maxis\u001b[0m\u001b[1;33m.\u001b[0m\u001b[0mdrop\u001b[0m\u001b[1;33m(\u001b[0m\u001b[0mlabels\u001b[0m\u001b[1;33m,\u001b[0m \u001b[0mlevel\u001b[0m\u001b[1;33m=\u001b[0m\u001b[0mlevel\u001b[0m\u001b[1;33m,\u001b[0m \u001b[0merrors\u001b[0m\u001b[1;33m=\u001b[0m\u001b[0merrors\u001b[0m\u001b[1;33m)\u001b[0m\u001b[1;33m\u001b[0m\u001b[1;33m\u001b[0m\u001b[0m\n\u001b[0;32m   4187\u001b[0m             \u001b[1;32melse\u001b[0m\u001b[1;33m:\u001b[0m\u001b[1;33m\u001b[0m\u001b[1;33m\u001b[0m\u001b[0m\n\u001b[1;32m-> 4188\u001b[1;33m                 \u001b[0mnew_axis\u001b[0m \u001b[1;33m=\u001b[0m \u001b[0maxis\u001b[0m\u001b[1;33m.\u001b[0m\u001b[0mdrop\u001b[0m\u001b[1;33m(\u001b[0m\u001b[0mlabels\u001b[0m\u001b[1;33m,\u001b[0m \u001b[0merrors\u001b[0m\u001b[1;33m=\u001b[0m\u001b[0merrors\u001b[0m\u001b[1;33m)\u001b[0m\u001b[1;33m\u001b[0m\u001b[1;33m\u001b[0m\u001b[0m\n\u001b[0m\u001b[0;32m   4189\u001b[0m             \u001b[0mresult\u001b[0m \u001b[1;33m=\u001b[0m \u001b[0mself\u001b[0m\u001b[1;33m.\u001b[0m\u001b[0mreindex\u001b[0m\u001b[1;33m(\u001b[0m\u001b[1;33m**\u001b[0m\u001b[1;33m{\u001b[0m\u001b[0maxis_name\u001b[0m\u001b[1;33m:\u001b[0m \u001b[0mnew_axis\u001b[0m\u001b[1;33m}\u001b[0m\u001b[1;33m)\u001b[0m\u001b[1;33m\u001b[0m\u001b[1;33m\u001b[0m\u001b[0m\n\u001b[0;32m   4190\u001b[0m \u001b[1;33m\u001b[0m\u001b[0m\n",
      "\u001b[1;32m~\\Anaconda3\\lib\\site-packages\\pandas\\core\\indexes\\base.py\u001b[0m in \u001b[0;36mdrop\u001b[1;34m(self, labels, errors)\u001b[0m\n\u001b[0;32m   5589\u001b[0m         \u001b[1;32mif\u001b[0m \u001b[0mmask\u001b[0m\u001b[1;33m.\u001b[0m\u001b[0many\u001b[0m\u001b[1;33m(\u001b[0m\u001b[1;33m)\u001b[0m\u001b[1;33m:\u001b[0m\u001b[1;33m\u001b[0m\u001b[1;33m\u001b[0m\u001b[0m\n\u001b[0;32m   5590\u001b[0m             \u001b[1;32mif\u001b[0m \u001b[0merrors\u001b[0m \u001b[1;33m!=\u001b[0m \u001b[1;34m\"ignore\"\u001b[0m\u001b[1;33m:\u001b[0m\u001b[1;33m\u001b[0m\u001b[1;33m\u001b[0m\u001b[0m\n\u001b[1;32m-> 5591\u001b[1;33m                 \u001b[1;32mraise\u001b[0m \u001b[0mKeyError\u001b[0m\u001b[1;33m(\u001b[0m\u001b[1;34mf\"{labels[mask]} not found in axis\"\u001b[0m\u001b[1;33m)\u001b[0m\u001b[1;33m\u001b[0m\u001b[1;33m\u001b[0m\u001b[0m\n\u001b[0m\u001b[0;32m   5592\u001b[0m             \u001b[0mindexer\u001b[0m \u001b[1;33m=\u001b[0m \u001b[0mindexer\u001b[0m\u001b[1;33m[\u001b[0m\u001b[1;33m~\u001b[0m\u001b[0mmask\u001b[0m\u001b[1;33m]\u001b[0m\u001b[1;33m\u001b[0m\u001b[1;33m\u001b[0m\u001b[0m\n\u001b[0;32m   5593\u001b[0m         \u001b[1;32mreturn\u001b[0m \u001b[0mself\u001b[0m\u001b[1;33m.\u001b[0m\u001b[0mdelete\u001b[0m\u001b[1;33m(\u001b[0m\u001b[0mindexer\u001b[0m\u001b[1;33m)\u001b[0m\u001b[1;33m\u001b[0m\u001b[1;33m\u001b[0m\u001b[0m\n",
      "\u001b[1;31mKeyError\u001b[0m: \"['index'] not found in axis\""
     ]
    }
   ],
   "source": [
    "df.drop(columns=[\"index\"], inplace=True)"
   ]
  },
  {
   "cell_type": "code",
   "execution_count": 1,
   "id": "45312f29-b0f9-4b66-b0de-443519e11484",
   "metadata": {
    "execution": {
     "iopub.execute_input": "2021-06-02T15:18:07.177775Z",
     "iopub.status.busy": "2021-06-02T15:18:07.177775Z",
     "iopub.status.idle": "2021-06-02T15:18:07.453670Z",
     "shell.execute_reply": "2021-06-02T15:18:07.453670Z",
     "shell.execute_reply.started": "2021-06-02T15:18:07.177775Z"
    },
    "tags": []
   },
   "outputs": [
    {
     "ename": "NameError",
     "evalue": "name 'df' is not defined",
     "output_type": "error",
     "traceback": [
      "\u001b[1;31m---------------------------------------------------------------------------\u001b[0m",
      "\u001b[1;31mNameError\u001b[0m                                 Traceback (most recent call last)",
      "\u001b[1;32m<ipython-input-1-c3509d842358>\u001b[0m in \u001b[0;36m<module>\u001b[1;34m\u001b[0m\n\u001b[1;32m----> 1\u001b[1;33m \u001b[0mnew1\u001b[0m \u001b[1;33m=\u001b[0m \u001b[0mdf\u001b[0m\u001b[1;33m[\u001b[0m\u001b[1;34m\"Price\"\u001b[0m\u001b[1;33m]\u001b[0m\u001b[1;33m.\u001b[0m\u001b[0mstr\u001b[0m\u001b[1;33m.\u001b[0m\u001b[0msplit\u001b[0m\u001b[1;33m(\u001b[0m\u001b[1;34m\" \"\u001b[0m\u001b[1;33m,\u001b[0m \u001b[0mexpand\u001b[0m\u001b[1;33m=\u001b[0m\u001b[1;32mTrue\u001b[0m\u001b[1;33m)\u001b[0m\u001b[1;33m\u001b[0m\u001b[1;33m\u001b[0m\u001b[0m\n\u001b[0m",
      "\u001b[1;31mNameError\u001b[0m: name 'df' is not defined"
     ]
    }
   ],
   "source": [
    "\n",
    "new1 = df[\"Price\"].str.split(\" \", expand=True)"
   ]
  },
  {
   "cell_type": "code",
   "execution_count": 87,
   "id": "828ae0f7-c7e3-4fe1-aff3-04ffcd0334dc",
   "metadata": {
    "execution": {
     "iopub.execute_input": "2021-05-31T16:04:34.563032Z",
     "iopub.status.busy": "2021-05-31T16:04:34.562037Z",
     "iopub.status.idle": "2021-05-31T16:04:34.602924Z",
     "shell.execute_reply": "2021-05-31T16:04:34.601927Z",
     "shell.execute_reply.started": "2021-05-31T16:04:34.563032Z"
    },
    "scrolled": true,
    "tags": []
   },
   "outputs": [
    {
     "ename": "AttributeError",
     "evalue": "Can only use .str accessor with string values!",
     "output_type": "error",
     "traceback": [
      "\u001b[1;31m---------------------------------------------------------------------------\u001b[0m",
      "\u001b[1;31mAttributeError\u001b[0m                            Traceback (most recent call last)",
      "\u001b[1;32m<ipython-input-87-f0678d666b14>\u001b[0m in \u001b[0;36m<module>\u001b[1;34m\u001b[0m\n\u001b[1;32m----> 1\u001b[1;33m \u001b[0mnew1\u001b[0m\u001b[1;33m[\u001b[0m\u001b[1;36m1\u001b[0m\u001b[1;33m]\u001b[0m \u001b[1;33m=\u001b[0m \u001b[0mnew1\u001b[0m\u001b[1;33m[\u001b[0m\u001b[1;36m1\u001b[0m\u001b[1;33m]\u001b[0m\u001b[1;33m.\u001b[0m\u001b[0mstr\u001b[0m\u001b[1;33m.\u001b[0m\u001b[0mreplace\u001b[0m\u001b[1;33m(\u001b[0m\u001b[1;34m\",\"\u001b[0m\u001b[1;33m,\u001b[0m \u001b[1;34m\"\"\u001b[0m\u001b[1;33m)\u001b[0m\u001b[1;33m.\u001b[0m\u001b[0mastype\u001b[0m\u001b[1;33m(\u001b[0m\u001b[0mfloat\u001b[0m\u001b[1;33m)\u001b[0m\u001b[1;33m\u001b[0m\u001b[1;33m\u001b[0m\u001b[0m\n\u001b[0m",
      "\u001b[1;32m~\\Anaconda3\\lib\\site-packages\\pandas\\core\\generic.py\u001b[0m in \u001b[0;36m__getattr__\u001b[1;34m(self, name)\u001b[0m\n\u001b[0;32m   5459\u001b[0m             \u001b[1;32mor\u001b[0m \u001b[0mname\u001b[0m \u001b[1;32min\u001b[0m \u001b[0mself\u001b[0m\u001b[1;33m.\u001b[0m\u001b[0m_accessors\u001b[0m\u001b[1;33m\u001b[0m\u001b[1;33m\u001b[0m\u001b[0m\n\u001b[0;32m   5460\u001b[0m         ):\n\u001b[1;32m-> 5461\u001b[1;33m             \u001b[1;32mreturn\u001b[0m \u001b[0mobject\u001b[0m\u001b[1;33m.\u001b[0m\u001b[0m__getattribute__\u001b[0m\u001b[1;33m(\u001b[0m\u001b[0mself\u001b[0m\u001b[1;33m,\u001b[0m \u001b[0mname\u001b[0m\u001b[1;33m)\u001b[0m\u001b[1;33m\u001b[0m\u001b[1;33m\u001b[0m\u001b[0m\n\u001b[0m\u001b[0;32m   5462\u001b[0m         \u001b[1;32melse\u001b[0m\u001b[1;33m:\u001b[0m\u001b[1;33m\u001b[0m\u001b[1;33m\u001b[0m\u001b[0m\n\u001b[0;32m   5463\u001b[0m             \u001b[1;32mif\u001b[0m \u001b[0mself\u001b[0m\u001b[1;33m.\u001b[0m\u001b[0m_info_axis\u001b[0m\u001b[1;33m.\u001b[0m\u001b[0m_can_hold_identifiers_and_holds_name\u001b[0m\u001b[1;33m(\u001b[0m\u001b[0mname\u001b[0m\u001b[1;33m)\u001b[0m\u001b[1;33m:\u001b[0m\u001b[1;33m\u001b[0m\u001b[1;33m\u001b[0m\u001b[0m\n",
      "\u001b[1;32m~\\Anaconda3\\lib\\site-packages\\pandas\\core\\accessor.py\u001b[0m in \u001b[0;36m__get__\u001b[1;34m(self, obj, cls)\u001b[0m\n\u001b[0;32m    178\u001b[0m             \u001b[1;31m# we're accessing the attribute of the class, i.e., Dataset.geo\u001b[0m\u001b[1;33m\u001b[0m\u001b[1;33m\u001b[0m\u001b[1;33m\u001b[0m\u001b[0m\n\u001b[0;32m    179\u001b[0m             \u001b[1;32mreturn\u001b[0m \u001b[0mself\u001b[0m\u001b[1;33m.\u001b[0m\u001b[0m_accessor\u001b[0m\u001b[1;33m\u001b[0m\u001b[1;33m\u001b[0m\u001b[0m\n\u001b[1;32m--> 180\u001b[1;33m         \u001b[0maccessor_obj\u001b[0m \u001b[1;33m=\u001b[0m \u001b[0mself\u001b[0m\u001b[1;33m.\u001b[0m\u001b[0m_accessor\u001b[0m\u001b[1;33m(\u001b[0m\u001b[0mobj\u001b[0m\u001b[1;33m)\u001b[0m\u001b[1;33m\u001b[0m\u001b[1;33m\u001b[0m\u001b[0m\n\u001b[0m\u001b[0;32m    181\u001b[0m         \u001b[1;31m# Replace the property with the accessor object. Inspired by:\u001b[0m\u001b[1;33m\u001b[0m\u001b[1;33m\u001b[0m\u001b[1;33m\u001b[0m\u001b[0m\n\u001b[0;32m    182\u001b[0m         \u001b[1;31m# https://www.pydanny.com/cached-property.html\u001b[0m\u001b[1;33m\u001b[0m\u001b[1;33m\u001b[0m\u001b[1;33m\u001b[0m\u001b[0m\n",
      "\u001b[1;32m~\\Anaconda3\\lib\\site-packages\\pandas\\core\\strings\\accessor.py\u001b[0m in \u001b[0;36m__init__\u001b[1;34m(self, data)\u001b[0m\n\u001b[0;32m    152\u001b[0m         \u001b[1;32mfrom\u001b[0m \u001b[0mpandas\u001b[0m\u001b[1;33m.\u001b[0m\u001b[0mcore\u001b[0m\u001b[1;33m.\u001b[0m\u001b[0marrays\u001b[0m\u001b[1;33m.\u001b[0m\u001b[0mstring_\u001b[0m \u001b[1;32mimport\u001b[0m \u001b[0mStringDtype\u001b[0m\u001b[1;33m\u001b[0m\u001b[1;33m\u001b[0m\u001b[0m\n\u001b[0;32m    153\u001b[0m \u001b[1;33m\u001b[0m\u001b[0m\n\u001b[1;32m--> 154\u001b[1;33m         \u001b[0mself\u001b[0m\u001b[1;33m.\u001b[0m\u001b[0m_inferred_dtype\u001b[0m \u001b[1;33m=\u001b[0m \u001b[0mself\u001b[0m\u001b[1;33m.\u001b[0m\u001b[0m_validate\u001b[0m\u001b[1;33m(\u001b[0m\u001b[0mdata\u001b[0m\u001b[1;33m)\u001b[0m\u001b[1;33m\u001b[0m\u001b[1;33m\u001b[0m\u001b[0m\n\u001b[0m\u001b[0;32m    155\u001b[0m         \u001b[0mself\u001b[0m\u001b[1;33m.\u001b[0m\u001b[0m_is_categorical\u001b[0m \u001b[1;33m=\u001b[0m \u001b[0mis_categorical_dtype\u001b[0m\u001b[1;33m(\u001b[0m\u001b[0mdata\u001b[0m\u001b[1;33m.\u001b[0m\u001b[0mdtype\u001b[0m\u001b[1;33m)\u001b[0m\u001b[1;33m\u001b[0m\u001b[1;33m\u001b[0m\u001b[0m\n\u001b[0;32m    156\u001b[0m         \u001b[0mself\u001b[0m\u001b[1;33m.\u001b[0m\u001b[0m_is_string\u001b[0m \u001b[1;33m=\u001b[0m \u001b[0misinstance\u001b[0m\u001b[1;33m(\u001b[0m\u001b[0mdata\u001b[0m\u001b[1;33m.\u001b[0m\u001b[0mdtype\u001b[0m\u001b[1;33m,\u001b[0m \u001b[0mStringDtype\u001b[0m\u001b[1;33m)\u001b[0m\u001b[1;33m\u001b[0m\u001b[1;33m\u001b[0m\u001b[0m\n",
      "\u001b[1;32m~\\Anaconda3\\lib\\site-packages\\pandas\\core\\strings\\accessor.py\u001b[0m in \u001b[0;36m_validate\u001b[1;34m(data)\u001b[0m\n\u001b[0;32m    215\u001b[0m \u001b[1;33m\u001b[0m\u001b[0m\n\u001b[0;32m    216\u001b[0m         \u001b[1;32mif\u001b[0m \u001b[0minferred_dtype\u001b[0m \u001b[1;32mnot\u001b[0m \u001b[1;32min\u001b[0m \u001b[0mallowed_types\u001b[0m\u001b[1;33m:\u001b[0m\u001b[1;33m\u001b[0m\u001b[1;33m\u001b[0m\u001b[0m\n\u001b[1;32m--> 217\u001b[1;33m             \u001b[1;32mraise\u001b[0m \u001b[0mAttributeError\u001b[0m\u001b[1;33m(\u001b[0m\u001b[1;34m\"Can only use .str accessor with string values!\"\u001b[0m\u001b[1;33m)\u001b[0m\u001b[1;33m\u001b[0m\u001b[1;33m\u001b[0m\u001b[0m\n\u001b[0m\u001b[0;32m    218\u001b[0m         \u001b[1;32mreturn\u001b[0m \u001b[0minferred_dtype\u001b[0m\u001b[1;33m\u001b[0m\u001b[1;33m\u001b[0m\u001b[0m\n\u001b[0;32m    219\u001b[0m \u001b[1;33m\u001b[0m\u001b[0m\n",
      "\u001b[1;31mAttributeError\u001b[0m: Can only use .str accessor with string values!"
     ]
    }
   ],
   "source": [
    "new1[1] = new1[1].str.replace(\",\", \"\").astype(float)"
   ]
  },
  {
   "cell_type": "code",
   "execution_count": 63,
   "id": "5bb43080-44d3-4409-aec1-c18c29276fba",
   "metadata": {
    "execution": {
     "iopub.execute_input": "2021-05-30T08:20:44.598507Z",
     "iopub.status.busy": "2021-05-30T08:20:44.598507Z",
     "iopub.status.idle": "2021-05-30T08:20:44.604492Z",
     "shell.execute_reply": "2021-05-30T08:20:44.603549Z",
     "shell.execute_reply.started": "2021-05-30T08:20:44.598507Z"
    },
    "tags": []
   },
   "outputs": [],
   "source": [
    "df[\"Price\"] = new1[1]"
   ]
  },
  {
   "cell_type": "code",
   "execution_count": 85,
   "id": "14beb970-0397-423f-8b5a-1c392d9e596b",
   "metadata": {
    "execution": {
     "iopub.execute_input": "2021-05-31T16:04:16.355080Z",
     "iopub.status.busy": "2021-05-31T16:04:16.355080Z",
     "iopub.status.idle": "2021-05-31T16:04:16.370040Z",
     "shell.execute_reply": "2021-05-31T16:04:16.369043Z",
     "shell.execute_reply.started": "2021-05-31T16:04:16.355080Z"
    },
    "tags": []
   },
   "outputs": [],
   "source": [
    "df[\"Name\"] = df[\"Name\"].astype(str)"
   ]
  },
  {
   "cell_type": "code",
   "execution_count": 104,
   "id": "a7f0a7af-a892-4859-92b8-d2a921ebeace",
   "metadata": {
    "execution": {
     "iopub.execute_input": "2021-05-30T08:47:59.507044Z",
     "iopub.status.busy": "2021-05-30T08:47:59.506047Z",
     "iopub.status.idle": "2021-05-30T08:47:59.529784Z",
     "shell.execute_reply": "2021-05-30T08:47:59.529184Z",
     "shell.execute_reply.started": "2021-05-30T08:47:59.506047Z"
    },
    "tags": []
   },
   "outputs": [
    {
     "data": {
      "text/html": [
       "<div>\n",
       "<style scoped>\n",
       "    .dataframe tbody tr th:only-of-type {\n",
       "        vertical-align: middle;\n",
       "    }\n",
       "\n",
       "    .dataframe tbody tr th {\n",
       "        vertical-align: top;\n",
       "    }\n",
       "\n",
       "    .dataframe thead th {\n",
       "        text-align: right;\n",
       "    }\n",
       "</style>\n",
       "<table border=\"1\" class=\"dataframe\">\n",
       "  <thead>\n",
       "    <tr style=\"text-align: right;\">\n",
       "      <th></th>\n",
       "      <th>Name</th>\n",
       "      <th>Price</th>\n",
       "      <th>Links</th>\n",
       "    </tr>\n",
       "  </thead>\n",
       "  <tbody>\n",
       "    <tr>\n",
       "      <th>2155</th>\n",
       "      <td>Samsung Galaxy Z Fold2 5G - 12GB RAM - 256GB R...</td>\n",
       "      <td>339999.0</td>\n",
       "      <td>https://www.daraz.pk/products/samsung-galaxy-z...</td>\n",
       "    </tr>\n",
       "  </tbody>\n",
       "</table>\n",
       "</div>"
      ],
      "text/plain": [
       "                                                   Name     Price  \\\n",
       "2155  Samsung Galaxy Z Fold2 5G - 12GB RAM - 256GB R...  339999.0   \n",
       "\n",
       "                                                  Links  \n",
       "2155  https://www.daraz.pk/products/samsung-galaxy-z...  "
      ]
     },
     "execution_count": 104,
     "metadata": {},
     "output_type": "execute_result"
    }
   ],
   "source": [
    "df.query(\"Price > 300000\")"
   ]
  },
  {
   "cell_type": "code",
   "execution_count": 165,
   "id": "ace00d07-048e-4445-96ab-aa87751821eb",
   "metadata": {
    "execution": {
     "iopub.execute_input": "2021-06-01T10:51:43.638648Z",
     "iopub.status.busy": "2021-06-01T10:51:43.637653Z",
     "iopub.status.idle": "2021-06-01T10:51:43.660103Z",
     "shell.execute_reply": "2021-06-01T10:51:43.659108Z",
     "shell.execute_reply.started": "2021-06-01T10:51:43.638648Z"
    },
    "tags": []
   },
   "outputs": [
    {
     "data": {
      "text/plain": [
       "False"
      ]
     },
     "execution_count": 165,
     "metadata": {},
     "output_type": "execute_result"
    }
   ],
   "source": [
    "\"Sapple\" in df.Name"
   ]
  },
  {
   "cell_type": "code",
   "execution_count": 6,
   "id": "62086db2-587d-4c9b-93ea-c96bc85eb3f8",
   "metadata": {
    "execution": {
     "iopub.execute_input": "2021-05-30T15:41:11.563901Z",
     "iopub.status.busy": "2021-05-30T15:41:11.562902Z",
     "iopub.status.idle": "2021-05-30T15:41:11.669129Z",
     "shell.execute_reply": "2021-05-30T15:41:11.668131Z",
     "shell.execute_reply.started": "2021-05-30T15:41:11.562902Z"
    },
    "tags": []
   },
   "outputs": [],
   "source": [
    "Apple = df.query('Name.str.startswith(\"Apple\")', engine=\"python\")"
   ]
  },
  {
   "cell_type": "code",
   "execution_count": 9,
   "id": "80dcc853-a148-4241-9420-273abdb768f9",
   "metadata": {
    "execution": {
     "iopub.execute_input": "2021-05-30T15:41:27.865283Z",
     "iopub.status.busy": "2021-05-30T15:41:27.865095Z",
     "iopub.status.idle": "2021-05-30T15:41:27.888374Z",
     "shell.execute_reply": "2021-05-30T15:41:27.887526Z",
     "shell.execute_reply.started": "2021-05-30T15:41:27.865283Z"
    },
    "tags": []
   },
   "outputs": [
    {
     "data": {
      "text/html": [
       "<div>\n",
       "<style scoped>\n",
       "    .dataframe tbody tr th:only-of-type {\n",
       "        vertical-align: middle;\n",
       "    }\n",
       "\n",
       "    .dataframe tbody tr th {\n",
       "        vertical-align: top;\n",
       "    }\n",
       "\n",
       "    .dataframe thead th {\n",
       "        text-align: right;\n",
       "    }\n",
       "</style>\n",
       "<table border=\"1\" class=\"dataframe\">\n",
       "  <thead>\n",
       "    <tr style=\"text-align: right;\">\n",
       "      <th></th>\n",
       "      <th>Name</th>\n",
       "      <th>Price</th>\n",
       "      <th>Links</th>\n",
       "    </tr>\n",
       "  </thead>\n",
       "  <tbody>\n",
       "    <tr>\n",
       "      <th>195</th>\n",
       "      <td>Apple iPhone 12 - 64GB - PTA Approved</td>\n",
       "      <td>Rs. 215,000</td>\n",
       "      <td>https://www.daraz.pk/products/apple-iphone-12-...</td>\n",
       "    </tr>\n",
       "    <tr>\n",
       "      <th>516</th>\n",
       "      <td>Apple iPhone 11 Pro - 5.8 Super Retina Display...</td>\n",
       "      <td>Rs. 244,000</td>\n",
       "      <td>https://www.daraz.pk/products/apple-iphone-11-...</td>\n",
       "    </tr>\n",
       "    <tr>\n",
       "      <th>518</th>\n",
       "      <td>Apple iPhone 11 Pro 256GB PTA Approved 1 Year ...</td>\n",
       "      <td>Rs. 222,999</td>\n",
       "      <td>https://www.daraz.pk/products/apple-iphone-11-...</td>\n",
       "    </tr>\n",
       "    <tr>\n",
       "      <th>556</th>\n",
       "      <td>Apple iPhone 11 Pro 512GB PTA Approved 1 Year ...</td>\n",
       "      <td>Rs. 249,999</td>\n",
       "      <td>https://www.daraz.pk/products/apple-iphone-11-...</td>\n",
       "    </tr>\n",
       "    <tr>\n",
       "      <th>559</th>\n",
       "      <td>Apple iPhone SE 256GB PTA Approved 1 Year Offi...</td>\n",
       "      <td>Rs. 148,999</td>\n",
       "      <td>https://www.daraz.pk/products/apple-iphone-se-...</td>\n",
       "    </tr>\n",
       "    <tr>\n",
       "      <th>1101</th>\n",
       "      <td>Apple iPad Mini 5 7.9-inches 64GB Wifi A12 Bionic</td>\n",
       "      <td>Rs. 74,999</td>\n",
       "      <td>https://www.daraz.pk/products/apple-ipad-mini-...</td>\n",
       "    </tr>\n",
       "    <tr>\n",
       "      <th>1106</th>\n",
       "      <td>Apple iPad Mini 5 || 7.9-inches 64GB Wifi || A...</td>\n",
       "      <td>Rs. 74,499</td>\n",
       "      <td>https://www.daraz.pk/products/apple-ipad-mini-...</td>\n",
       "    </tr>\n",
       "    <tr>\n",
       "      <th>2018</th>\n",
       "      <td>Apple Watch Series 6 44mm GPS Fits 140–220mm w...</td>\n",
       "      <td>Rs. 78,999</td>\n",
       "      <td>https://www.daraz.pk/products/apple-watch-seri...</td>\n",
       "    </tr>\n",
       "    <tr>\n",
       "      <th>2121</th>\n",
       "      <td>Apple iPhone SE 128GB PTA Approved 1 Year Offi...</td>\n",
       "      <td>Rs. 111,700</td>\n",
       "      <td>https://www.daraz.pk/products/apple-iphone-se-...</td>\n",
       "    </tr>\n",
       "    <tr>\n",
       "      <th>2149</th>\n",
       "      <td>Apple Iphone XS Max (iOS 12, Hexa-core, A12 Bi...</td>\n",
       "      <td>Rs. 220,000</td>\n",
       "      <td>https://www.daraz.pk/products/apple-iphone-xs-...</td>\n",
       "    </tr>\n",
       "    <tr>\n",
       "      <th>2450</th>\n",
       "      <td>Apple Watch Series 5 (44mm)</td>\n",
       "      <td>Rs. 84,999</td>\n",
       "      <td>https://www.daraz.pk/products/apple-watch-seri...</td>\n",
       "    </tr>\n",
       "    <tr>\n",
       "      <th>2466</th>\n",
       "      <td>Apple iPhone 11 Pro Max - 256 GB - PTA Approve...</td>\n",
       "      <td>Rs. 263,499</td>\n",
       "      <td>https://www.daraz.pk/products/apple-iphone-11-...</td>\n",
       "    </tr>\n",
       "    <tr>\n",
       "      <th>2467</th>\n",
       "      <td>Apple iPhone 11 - 64GB - 6.1 Screen - Brand Wa...</td>\n",
       "      <td>Rs. 176,999</td>\n",
       "      <td>https://www.daraz.pk/products/apple-iphone-11-...</td>\n",
       "    </tr>\n",
       "    <tr>\n",
       "      <th>2553</th>\n",
       "      <td>Apple iPhone 6s – 64GB - PTA Approved</td>\n",
       "      <td>Rs. 31,500</td>\n",
       "      <td>https://www.daraz.pk/products/apple-iphone-6s-...</td>\n",
       "    </tr>\n",
       "    <tr>\n",
       "      <th>2574</th>\n",
       "      <td>Apple iPhone 7 Plus 128GB - Official PTA Appro...</td>\n",
       "      <td>Rs. 52,999</td>\n",
       "      <td>https://www.daraz.pk/products/apple-iphone-7-p...</td>\n",
       "    </tr>\n",
       "  </tbody>\n",
       "</table>\n",
       "</div>"
      ],
      "text/plain": [
       "                                                   Name        Price  \\\n",
       "195               Apple iPhone 12 - 64GB - PTA Approved  Rs. 215,000   \n",
       "516   Apple iPhone 11 Pro - 5.8 Super Retina Display...  Rs. 244,000   \n",
       "518   Apple iPhone 11 Pro 256GB PTA Approved 1 Year ...  Rs. 222,999   \n",
       "556   Apple iPhone 11 Pro 512GB PTA Approved 1 Year ...  Rs. 249,999   \n",
       "559   Apple iPhone SE 256GB PTA Approved 1 Year Offi...  Rs. 148,999   \n",
       "1101  Apple iPad Mini 5 7.9-inches 64GB Wifi A12 Bionic   Rs. 74,999   \n",
       "1106  Apple iPad Mini 5 || 7.9-inches 64GB Wifi || A...   Rs. 74,499   \n",
       "2018  Apple Watch Series 6 44mm GPS Fits 140–220mm w...   Rs. 78,999   \n",
       "2121  Apple iPhone SE 128GB PTA Approved 1 Year Offi...  Rs. 111,700   \n",
       "2149  Apple Iphone XS Max (iOS 12, Hexa-core, A12 Bi...  Rs. 220,000   \n",
       "2450                        Apple Watch Series 5 (44mm)   Rs. 84,999   \n",
       "2466  Apple iPhone 11 Pro Max - 256 GB - PTA Approve...  Rs. 263,499   \n",
       "2467  Apple iPhone 11 - 64GB - 6.1 Screen - Brand Wa...  Rs. 176,999   \n",
       "2553              Apple iPhone 6s – 64GB - PTA Approved   Rs. 31,500   \n",
       "2574  Apple iPhone 7 Plus 128GB - Official PTA Appro...   Rs. 52,999   \n",
       "\n",
       "                                                  Links  \n",
       "195   https://www.daraz.pk/products/apple-iphone-12-...  \n",
       "516   https://www.daraz.pk/products/apple-iphone-11-...  \n",
       "518   https://www.daraz.pk/products/apple-iphone-11-...  \n",
       "556   https://www.daraz.pk/products/apple-iphone-11-...  \n",
       "559   https://www.daraz.pk/products/apple-iphone-se-...  \n",
       "1101  https://www.daraz.pk/products/apple-ipad-mini-...  \n",
       "1106  https://www.daraz.pk/products/apple-ipad-mini-...  \n",
       "2018  https://www.daraz.pk/products/apple-watch-seri...  \n",
       "2121  https://www.daraz.pk/products/apple-iphone-se-...  \n",
       "2149  https://www.daraz.pk/products/apple-iphone-xs-...  \n",
       "2450  https://www.daraz.pk/products/apple-watch-seri...  \n",
       "2466  https://www.daraz.pk/products/apple-iphone-11-...  \n",
       "2467  https://www.daraz.pk/products/apple-iphone-11-...  \n",
       "2553  https://www.daraz.pk/products/apple-iphone-6s-...  \n",
       "2574  https://www.daraz.pk/products/apple-iphone-7-p...  "
      ]
     },
     "execution_count": 9,
     "metadata": {},
     "output_type": "execute_result"
    }
   ],
   "source": [
    "Apple"
   ]
  },
  {
   "cell_type": "code",
   "execution_count": 95,
   "id": "de6f1a48-3d05-41ed-94f2-48c64ca711d2",
   "metadata": {
    "execution": {
     "iopub.execute_input": "2021-05-30T08:44:38.078537Z",
     "iopub.status.busy": "2021-05-30T08:44:38.077334Z",
     "iopub.status.idle": "2021-05-30T08:44:38.093180Z",
     "shell.execute_reply": "2021-05-30T08:44:38.092178Z",
     "shell.execute_reply.started": "2021-05-30T08:44:38.078332Z"
    },
    "tags": []
   },
   "outputs": [
    {
     "data": {
      "text/html": [
       "<div>\n",
       "<style scoped>\n",
       "    .dataframe tbody tr th:only-of-type {\n",
       "        vertical-align: middle;\n",
       "    }\n",
       "\n",
       "    .dataframe tbody tr th {\n",
       "        vertical-align: top;\n",
       "    }\n",
       "\n",
       "    .dataframe thead th {\n",
       "        text-align: right;\n",
       "    }\n",
       "</style>\n",
       "<table border=\"1\" class=\"dataframe\">\n",
       "  <thead>\n",
       "    <tr style=\"text-align: right;\">\n",
       "      <th></th>\n",
       "      <th>Name</th>\n",
       "      <th>Price</th>\n",
       "      <th>Links</th>\n",
       "    </tr>\n",
       "  </thead>\n",
       "  <tbody>\n",
       "  </tbody>\n",
       "</table>\n",
       "</div>"
      ],
      "text/plain": [
       "Empty DataFrame\n",
       "Columns: [Name, Price, Links]\n",
       "Index: []"
      ]
     },
     "execution_count": 95,
     "metadata": {},
     "output_type": "execute_result"
    }
   ],
   "source": [
    "df.query(\"Name\")"
   ]
  },
  {
   "cell_type": "code",
   "execution_count": 50,
   "id": "96c6a348-ce81-4f9b-a13e-cbc62aa36afa",
   "metadata": {
    "execution": {
     "iopub.execute_input": "2021-05-30T08:08:06.637551Z",
     "iopub.status.busy": "2021-05-30T08:08:06.637551Z",
     "iopub.status.idle": "2021-05-30T08:08:06.655609Z",
     "shell.execute_reply": "2021-05-30T08:08:06.654661Z",
     "shell.execute_reply.started": "2021-05-30T08:08:06.637551Z"
    },
    "tags": []
   },
   "outputs": [
    {
     "data": {
      "text/plain": [
       "Name     object\n",
       "Price    object\n",
       "Links    object\n",
       "dtype: object"
      ]
     },
     "execution_count": 50,
     "metadata": {},
     "output_type": "execute_result"
    }
   ],
   "source": [
    "df.dtypes"
   ]
  },
  {
   "cell_type": "code",
   "execution_count": 10,
   "id": "dd81675f-9a4a-425a-be6d-e82e2967064e",
   "metadata": {
    "execution": {
     "iopub.execute_input": "2021-05-30T19:10:25.446497Z",
     "iopub.status.busy": "2021-05-30T19:10:25.445500Z",
     "iopub.status.idle": "2021-05-30T19:10:25.456470Z",
     "shell.execute_reply": "2021-05-30T19:10:25.455472Z",
     "shell.execute_reply.started": "2021-05-30T19:10:25.446497Z"
    },
    "tags": []
   },
   "outputs": [
    {
     "data": {
      "text/plain": [
       "2746"
      ]
     },
     "execution_count": 10,
     "metadata": {},
     "output_type": "execute_result"
    }
   ],
   "source": [
    "len(Links)"
   ]
  },
  {
   "cell_type": "code",
   "execution_count": 12,
   "id": "cf821d81-ba3d-4f9d-ba06-ab27cfd51ba3",
   "metadata": {
    "execution": {
     "iopub.execute_input": "2021-05-30T19:15:00.153226Z",
     "iopub.status.busy": "2021-05-30T19:15:00.153226Z",
     "iopub.status.idle": "2021-05-30T19:15:00.197115Z",
     "shell.execute_reply": "2021-05-30T19:15:00.196120Z",
     "shell.execute_reply.started": "2021-05-30T19:15:00.153226Z"
    }
   },
   "outputs": [
    {
     "data": {
      "text/plain": [
       "<firebase_admin.App at 0x2003f372310>"
      ]
     },
     "execution_count": 12,
     "metadata": {},
     "output_type": "execute_result"
    }
   ],
   "source": [
    "cred = credentials.Certificate(\n",
    "    \"C://Users/OwaisGondal/Documents/Python/FYP/test/ServiceAccountKey.json\"\n",
    ")\n",
    "firebase_admin.initialize_app(cred)"
   ]
  },
  {
   "cell_type": "code",
   "execution_count": 68,
   "id": "5d519212-1ae9-46d5-ae2a-cb8ed2f7bbab",
   "metadata": {
    "execution": {
     "iopub.execute_input": "2021-05-31T15:47:55.752355Z",
     "iopub.status.busy": "2021-05-31T15:47:55.752355Z",
     "iopub.status.idle": "2021-05-31T15:47:55.771296Z",
     "shell.execute_reply": "2021-05-31T15:47:55.770297Z",
     "shell.execute_reply.started": "2021-05-31T15:47:55.752355Z"
    },
    "tags": []
   },
   "outputs": [],
   "source": [
    "db = firestore.client()  # this connects to Firestore"
   ]
  },
  {
   "cell_type": "code",
   "execution_count": 58,
   "id": "b99265a3-5ef3-4ea5-82f4-765203e5eece",
   "metadata": {
    "execution": {
     "iopub.execute_input": "2021-05-30T23:05:16.057688Z",
     "iopub.status.busy": "2021-05-30T23:05:16.057688Z",
     "iopub.status.idle": "2021-05-30T23:05:16.106395Z",
     "shell.execute_reply": "2021-05-30T23:05:16.105397Z",
     "shell.execute_reply.started": "2021-05-30T23:05:16.057688Z"
    },
    "scrolled": true,
    "tags": []
   },
   "outputs": [],
   "source": [
    "# df.to_csv(\"Daraz.csv\", index=False)"
   ]
  },
  {
   "cell_type": "code",
   "execution_count": null,
   "id": "e13dacb1-bdb2-4ba1-9638-cdcaa752f2e6",
   "metadata": {},
   "outputs": [],
   "source": [
    "data = [(\"Apple\", {})]"
   ]
  },
  {
   "cell_type": "code",
   "execution_count": 72,
   "id": "fa669a22-05e9-4971-a73a-e633c5cab53b",
   "metadata": {
    "execution": {
     "iopub.execute_input": "2021-05-31T15:52:29.858265Z",
     "iopub.status.busy": "2021-05-31T15:52:29.857287Z",
     "iopub.status.idle": "2021-05-31T15:52:31.137629Z",
     "shell.execute_reply": "2021-05-31T15:52:31.136634Z",
     "shell.execute_reply.started": "2021-05-31T15:52:29.858265Z"
    }
   },
   "outputs": [
    {
     "data": {
      "text/plain": [
       "update_time {\n",
       "  seconds: 1622476350\n",
       "  nanos: 192734000\n",
       "}"
      ]
     },
     "execution_count": 72,
     "metadata": {},
     "output_type": "execute_result"
    }
   ],
   "source": [
    "data = {u\"name\": u\"Los Angeles\", u\"state\": u\"CA\", u\"country\": u\"USA\"}\n",
    "\n",
    "# Add a new doc in collection 'cities' with ID 'LA'\n",
    "db.collection(u\"cities\").document(u\"LA\").set(data)"
   ]
  },
  {
   "cell_type": "code",
   "execution_count": 75,
   "id": "a0302873-d915-4b8b-b710-1b3724166cc9",
   "metadata": {
    "execution": {
     "iopub.execute_input": "2021-05-31T15:55:54.474469Z",
     "iopub.status.busy": "2021-05-31T15:55:54.473470Z",
     "iopub.status.idle": "2021-05-31T15:55:54.877055Z",
     "shell.execute_reply": "2021-05-31T15:55:54.871079Z",
     "shell.execute_reply.started": "2021-05-31T15:55:54.474469Z"
    },
    "tags": []
   },
   "outputs": [
    {
     "data": {
      "text/plain": [
       "update_time {\n",
       "  seconds: 1622476553\n",
       "  nanos: 879582000\n",
       "}"
      ]
     },
     "execution_count": 75,
     "metadata": {},
     "output_type": "execute_result"
    }
   ],
   "source": [
    "data = {\n",
    "    u'MobileID': u'Los Angeles',\n",
    "    u'Price': u'CA',\n",
    "    u'Vendor': u'USA'\n",
    "    u'VendorLink':u'\n",
    "}\n",
    "\n",
    "# Add a new doc in collection 'cities' with ID 'LA'\n",
    "db.collection(u'Mobile_Product/[BrandName]/Apple').document(u'LA').set(data)"
   ]
  },
  {
   "cell_type": "code",
   "execution_count": 80,
   "id": "324a7a8c-64bb-49bb-b13b-4584b648ac7e",
   "metadata": {
    "execution": {
     "iopub.execute_input": "2021-05-31T16:01:34.782682Z",
     "iopub.status.busy": "2021-05-31T16:01:34.782682Z",
     "iopub.status.idle": "2021-05-31T16:01:34.803626Z",
     "shell.execute_reply": "2021-05-31T16:01:34.802629Z",
     "shell.execute_reply.started": "2021-05-31T16:01:34.782682Z"
    },
    "tags": []
   },
   "outputs": [],
   "source": [
    "new1 = Apple[\"Price\"].str.split(\" \", expand=True)"
   ]
  },
  {
   "cell_type": "code",
   "execution_count": 81,
   "id": "31415e90-001f-40eb-99b0-96b58e162fd5",
   "metadata": {
    "execution": {
     "iopub.execute_input": "2021-05-31T16:02:19.837754Z",
     "iopub.status.busy": "2021-05-31T16:02:19.837754Z",
     "iopub.status.idle": "2021-05-31T16:02:19.850717Z",
     "shell.execute_reply": "2021-05-31T16:02:19.849719Z",
     "shell.execute_reply.started": "2021-05-31T16:02:19.837754Z"
    }
   },
   "outputs": [],
   "source": [
    "new1[1] = new1[1].str.replace(\",\", \"\").astype(float)"
   ]
  },
  {
   "cell_type": "code",
   "execution_count": 96,
   "id": "ed0a169a-eb5c-4910-a2fe-458c7e4d437e",
   "metadata": {
    "execution": {
     "iopub.execute_input": "2021-05-31T16:11:44.551550Z",
     "iopub.status.busy": "2021-05-31T16:11:44.550553Z",
     "iopub.status.idle": "2021-05-31T16:11:44.565514Z",
     "shell.execute_reply": "2021-05-31T16:11:44.564546Z",
     "shell.execute_reply.started": "2021-05-31T16:11:44.551550Z"
    },
    "tags": []
   },
   "outputs": [],
   "source": [
    "Apple.reset_index(drop=True, inplace=True)"
   ]
  },
  {
   "cell_type": "code",
   "execution_count": 98,
   "id": "fbe65697-09bf-4f90-afa4-703528948902",
   "metadata": {
    "execution": {
     "iopub.execute_input": "2021-05-31T16:12:12.430792Z",
     "iopub.status.busy": "2021-05-31T16:12:12.430792Z",
     "iopub.status.idle": "2021-05-31T16:12:12.450692Z",
     "shell.execute_reply": "2021-05-31T16:12:12.449693Z",
     "shell.execute_reply.started": "2021-05-31T16:12:12.430792Z"
    },
    "tags": []
   },
   "outputs": [],
   "source": [
    "ADict = Apple.to_dict()"
   ]
  },
  {
   "cell_type": "code",
   "execution_count": 97,
   "id": "392b50f4-a350-491e-8d17-ad83d1180b05",
   "metadata": {
    "execution": {
     "iopub.execute_input": "2021-05-31T16:11:55.122794Z",
     "iopub.status.busy": "2021-05-31T16:11:55.122794Z",
     "iopub.status.idle": "2021-05-31T16:11:55.145733Z",
     "shell.execute_reply": "2021-05-31T16:11:55.144733Z",
     "shell.execute_reply.started": "2021-05-31T16:11:55.122794Z"
    },
    "tags": []
   },
   "outputs": [
    {
     "data": {
      "text/html": [
       "<div>\n",
       "<style scoped>\n",
       "    .dataframe tbody tr th:only-of-type {\n",
       "        vertical-align: middle;\n",
       "    }\n",
       "\n",
       "    .dataframe tbody tr th {\n",
       "        vertical-align: top;\n",
       "    }\n",
       "\n",
       "    .dataframe thead th {\n",
       "        text-align: right;\n",
       "    }\n",
       "</style>\n",
       "<table border=\"1\" class=\"dataframe\">\n",
       "  <thead>\n",
       "    <tr style=\"text-align: right;\">\n",
       "      <th></th>\n",
       "      <th>Name</th>\n",
       "      <th>Price</th>\n",
       "      <th>Links</th>\n",
       "    </tr>\n",
       "  </thead>\n",
       "  <tbody>\n",
       "    <tr>\n",
       "      <th>0</th>\n",
       "      <td>Apple iPhone 12 - 64GB - PTA Approved</td>\n",
       "      <td>215000.0</td>\n",
       "      <td>https://www.daraz.pk/products/apple-iphone-12-...</td>\n",
       "    </tr>\n",
       "    <tr>\n",
       "      <th>1</th>\n",
       "      <td>Apple iPhone 11 Pro - 5.8 Super Retina Display...</td>\n",
       "      <td>244000.0</td>\n",
       "      <td>https://www.daraz.pk/products/apple-iphone-11-...</td>\n",
       "    </tr>\n",
       "    <tr>\n",
       "      <th>2</th>\n",
       "      <td>Apple iPhone 11 Pro 256GB PTA Approved 1 Year ...</td>\n",
       "      <td>222999.0</td>\n",
       "      <td>https://www.daraz.pk/products/apple-iphone-11-...</td>\n",
       "    </tr>\n",
       "    <tr>\n",
       "      <th>3</th>\n",
       "      <td>Apple iPhone 11 Pro 512GB PTA Approved 1 Year ...</td>\n",
       "      <td>249999.0</td>\n",
       "      <td>https://www.daraz.pk/products/apple-iphone-11-...</td>\n",
       "    </tr>\n",
       "    <tr>\n",
       "      <th>4</th>\n",
       "      <td>Apple iPhone SE 256GB PTA Approved 1 Year Offi...</td>\n",
       "      <td>148999.0</td>\n",
       "      <td>https://www.daraz.pk/products/apple-iphone-se-...</td>\n",
       "    </tr>\n",
       "    <tr>\n",
       "      <th>5</th>\n",
       "      <td>Apple iPad Mini 5 7.9-inches 64GB Wifi A12 Bionic</td>\n",
       "      <td>74999.0</td>\n",
       "      <td>https://www.daraz.pk/products/apple-ipad-mini-...</td>\n",
       "    </tr>\n",
       "    <tr>\n",
       "      <th>6</th>\n",
       "      <td>Apple iPad Mini 5 || 7.9-inches 64GB Wifi || A...</td>\n",
       "      <td>74499.0</td>\n",
       "      <td>https://www.daraz.pk/products/apple-ipad-mini-...</td>\n",
       "    </tr>\n",
       "    <tr>\n",
       "      <th>7</th>\n",
       "      <td>Apple Watch Series 6 44mm GPS Fits 140–220mm w...</td>\n",
       "      <td>78999.0</td>\n",
       "      <td>https://www.daraz.pk/products/apple-watch-seri...</td>\n",
       "    </tr>\n",
       "    <tr>\n",
       "      <th>8</th>\n",
       "      <td>Apple iPhone SE 128GB PTA Approved 1 Year Offi...</td>\n",
       "      <td>111700.0</td>\n",
       "      <td>https://www.daraz.pk/products/apple-iphone-se-...</td>\n",
       "    </tr>\n",
       "    <tr>\n",
       "      <th>9</th>\n",
       "      <td>Apple Iphone XS Max (iOS 12, Hexa-core, A12 Bi...</td>\n",
       "      <td>220000.0</td>\n",
       "      <td>https://www.daraz.pk/products/apple-iphone-xs-...</td>\n",
       "    </tr>\n",
       "    <tr>\n",
       "      <th>10</th>\n",
       "      <td>Apple Watch Series 5 (44mm)</td>\n",
       "      <td>84999.0</td>\n",
       "      <td>https://www.daraz.pk/products/apple-watch-seri...</td>\n",
       "    </tr>\n",
       "    <tr>\n",
       "      <th>11</th>\n",
       "      <td>Apple iPhone 11 Pro Max - 256 GB - PTA Approve...</td>\n",
       "      <td>263499.0</td>\n",
       "      <td>https://www.daraz.pk/products/apple-iphone-11-...</td>\n",
       "    </tr>\n",
       "    <tr>\n",
       "      <th>12</th>\n",
       "      <td>Apple iPhone 11 - 64GB - 6.1 Screen - Brand Wa...</td>\n",
       "      <td>176999.0</td>\n",
       "      <td>https://www.daraz.pk/products/apple-iphone-11-...</td>\n",
       "    </tr>\n",
       "    <tr>\n",
       "      <th>13</th>\n",
       "      <td>Apple iPhone 6s – 64GB - PTA Approved</td>\n",
       "      <td>31500.0</td>\n",
       "      <td>https://www.daraz.pk/products/apple-iphone-6s-...</td>\n",
       "    </tr>\n",
       "    <tr>\n",
       "      <th>14</th>\n",
       "      <td>Apple iPhone 7 Plus 128GB - Official PTA Appro...</td>\n",
       "      <td>52999.0</td>\n",
       "      <td>https://www.daraz.pk/products/apple-iphone-7-p...</td>\n",
       "    </tr>\n",
       "  </tbody>\n",
       "</table>\n",
       "</div>"
      ],
      "text/plain": [
       "                                                 Name     Price  \\\n",
       "0               Apple iPhone 12 - 64GB - PTA Approved  215000.0   \n",
       "1   Apple iPhone 11 Pro - 5.8 Super Retina Display...  244000.0   \n",
       "2   Apple iPhone 11 Pro 256GB PTA Approved 1 Year ...  222999.0   \n",
       "3   Apple iPhone 11 Pro 512GB PTA Approved 1 Year ...  249999.0   \n",
       "4   Apple iPhone SE 256GB PTA Approved 1 Year Offi...  148999.0   \n",
       "5   Apple iPad Mini 5 7.9-inches 64GB Wifi A12 Bionic   74999.0   \n",
       "6   Apple iPad Mini 5 || 7.9-inches 64GB Wifi || A...   74499.0   \n",
       "7   Apple Watch Series 6 44mm GPS Fits 140–220mm w...   78999.0   \n",
       "8   Apple iPhone SE 128GB PTA Approved 1 Year Offi...  111700.0   \n",
       "9   Apple Iphone XS Max (iOS 12, Hexa-core, A12 Bi...  220000.0   \n",
       "10                        Apple Watch Series 5 (44mm)   84999.0   \n",
       "11  Apple iPhone 11 Pro Max - 256 GB - PTA Approve...  263499.0   \n",
       "12  Apple iPhone 11 - 64GB - 6.1 Screen - Brand Wa...  176999.0   \n",
       "13              Apple iPhone 6s – 64GB - PTA Approved   31500.0   \n",
       "14  Apple iPhone 7 Plus 128GB - Official PTA Appro...   52999.0   \n",
       "\n",
       "                                                Links  \n",
       "0   https://www.daraz.pk/products/apple-iphone-12-...  \n",
       "1   https://www.daraz.pk/products/apple-iphone-11-...  \n",
       "2   https://www.daraz.pk/products/apple-iphone-11-...  \n",
       "3   https://www.daraz.pk/products/apple-iphone-11-...  \n",
       "4   https://www.daraz.pk/products/apple-iphone-se-...  \n",
       "5   https://www.daraz.pk/products/apple-ipad-mini-...  \n",
       "6   https://www.daraz.pk/products/apple-ipad-mini-...  \n",
       "7   https://www.daraz.pk/products/apple-watch-seri...  \n",
       "8   https://www.daraz.pk/products/apple-iphone-se-...  \n",
       "9   https://www.daraz.pk/products/apple-iphone-xs-...  \n",
       "10  https://www.daraz.pk/products/apple-watch-seri...  \n",
       "11  https://www.daraz.pk/products/apple-iphone-11-...  \n",
       "12  https://www.daraz.pk/products/apple-iphone-11-...  \n",
       "13  https://www.daraz.pk/products/apple-iphone-6s-...  \n",
       "14  https://www.daraz.pk/products/apple-iphone-7-p...  "
      ]
     },
     "execution_count": 97,
     "metadata": {},
     "output_type": "execute_result"
    }
   ],
   "source": [
    "Apple"
   ]
  },
  {
   "cell_type": "code",
   "execution_count": 103,
   "id": "240ce2f7-4b47-4a6a-8284-cd35863345ef",
   "metadata": {
    "execution": {
     "iopub.execute_input": "2021-05-31T16:20:18.602265Z",
     "iopub.status.busy": "2021-05-31T16:20:18.602265Z",
     "iopub.status.idle": "2021-05-31T16:20:18.614233Z",
     "shell.execute_reply": "2021-05-31T16:20:18.613236Z",
     "shell.execute_reply.started": "2021-05-31T16:20:18.602265Z"
    },
    "scrolled": true,
    "tags": []
   },
   "outputs": [
    {
     "data": {
      "text/plain": [
       "{'Name': {0: 'Apple iPhone 12 - 64GB - PTA Approved',\n",
       "  1: 'Apple iPhone 11 Pro - 5.8 Super Retina Display - 4GB RAM - 256GB ROM - Face ID (PTA approved - duty paid)',\n",
       "  2: 'Apple iPhone 11 Pro 256GB PTA Approved 1 Year Official Warranty',\n",
       "  3: 'Apple iPhone 11 Pro 512GB PTA Approved 1 Year Official Warranty',\n",
       "  4: 'Apple iPhone SE 256GB PTA Approved 1 Year Official Warranty',\n",
       "  5: 'Apple iPad Mini 5 7.9-inches 64GB Wifi A12 Bionic',\n",
       "  6: 'Apple iPad Mini 5 || 7.9-inches 64GB Wifi || A12 Bionic',\n",
       "  7: 'Apple Watch Series 6 44mm GPS Fits 140–220mm wrists',\n",
       "  8: 'Apple iPhone SE 128GB PTA Approved 1 Year Official Warranty',\n",
       "  9: 'Apple Iphone XS Max (iOS 12, Hexa-core, A12 Bionic Chipset with Dual Rear Camera and FHD Front 7 MP Camera)',\n",
       "  10: 'Apple Watch Series 5 (44mm)',\n",
       "  11: 'Apple iPhone 11 Pro Max - 256 GB - PTA Approved - 6.5',\n",
       "  12: 'Apple iPhone 11 - 64GB - 6.1 Screen - Brand Warranty - PTA Approved',\n",
       "  13: 'Apple iPhone 6s – 64GB - PTA Approved',\n",
       "  14: 'Apple iPhone 7 Plus 128GB - Official PTA Approved - 3GB RAM - 128GB ROM (Phone Only - No Charger - No Accessories - No Box Included)'},\n",
       " 'Price': {0: 215000.0,\n",
       "  1: 244000.0,\n",
       "  2: 222999.0,\n",
       "  3: 249999.0,\n",
       "  4: 148999.0,\n",
       "  5: 74999.0,\n",
       "  6: 74499.0,\n",
       "  7: 78999.0,\n",
       "  8: 111700.0,\n",
       "  9: 220000.0,\n",
       "  10: 84999.0,\n",
       "  11: 263499.0,\n",
       "  12: 176999.0,\n",
       "  13: 31500.0,\n",
       "  14: 52999.0},\n",
       " 'Links': {0: 'https://www.daraz.pk/products/apple-iphone-12-64gb-pta-approved-i186326520-s1372720458.html?search=1',\n",
       "  1: 'https://www.daraz.pk/products/apple-iphone-11-pro-58-super-retina-display-4gb-ram-256gb-rom-face-id-pta-approved-duty-paid-i130347401-s1290460185.html?search=1',\n",
       "  2: 'https://www.daraz.pk/products/apple-iphone-11-pro-256gb-pta-approved-1-year-official-warranty-i154952128-s1387806790.html?search=1',\n",
       "  3: 'https://www.daraz.pk/products/apple-iphone-11-pro-512gb-pta-approved-1-year-official-warranty-i154952887-s1320304587.html?search=1',\n",
       "  4: 'https://www.daraz.pk/products/apple-iphone-se-256gb-pta-approved-1-year-official-warranty-i154946965-s1320290880.html?search=1',\n",
       "  5: 'https://www.daraz.pk/products/apple-ipad-mini-5-79-inches-64gb-wifi-a12-bionic-i210830751-s1417944168.html?search=1',\n",
       "  6: 'https://www.daraz.pk/products/apple-ipad-mini-5-79-inches-64gb-wifi-a12-bionic-i210840046-s1417940474.html?search=1',\n",
       "  7: 'https://www.daraz.pk/products/apple-watch-series-6-44mm-gps-fits-140220mm-wrists-i210854217-s1417950398.html?search=1',\n",
       "  8: 'https://www.daraz.pk/products/apple-iphone-se-128gb-pta-approved-1-year-official-warranty-i154948878-s1320294574.html?search=1',\n",
       "  9: 'https://www.daraz.pk/products/apple-iphone-xs-max-ios-12-hexa-core-a12-bionic-chipset-with-dual-rear-camera-and-fhd-front-7-mp-camera-i123694708-s1280848448.html?search=1',\n",
       "  10: 'https://www.daraz.pk/products/apple-watch-series-5-44mm-i203874235-s1404200828.html?search=1',\n",
       "  11: 'https://www.daraz.pk/products/apple-iphone-11-pro-max-256-gb-pta-approved-65-i179456918-s1357346809.html?search=1',\n",
       "  12: 'https://www.daraz.pk/products/apple-iphone-11-64gb-61-screen-brand-warranty-pta-approved-i179456834-s1357354017.html?search=1',\n",
       "  13: 'https://www.daraz.pk/products/apple-iphone-6s-64gb-pta-approved-i216683804-s1426597794.html?search=1',\n",
       "  14: 'https://www.daraz.pk/products/apple-iphone-7-plus-128gb-official-pta-approved-3gb-ram-128gb-rom-phone-only-no-charger-no-accessories-no-box-included-i219012088-s1430917447.html?search=1'}}"
      ]
     },
     "execution_count": 103,
     "metadata": {},
     "output_type": "execute_result"
    }
   ],
   "source": [
    "ADict"
   ]
  },
  {
   "cell_type": "code",
   "execution_count": 105,
   "id": "742356c1-d83d-41fe-8650-47ff9b8cf92c",
   "metadata": {
    "execution": {
     "iopub.execute_input": "2021-05-31T16:22:44.914942Z",
     "iopub.status.busy": "2021-05-31T16:22:44.914942Z",
     "iopub.status.idle": "2021-05-31T16:22:51.314543Z",
     "shell.execute_reply": "2021-05-31T16:22:51.306644Z",
     "shell.execute_reply.started": "2021-05-31T16:22:44.914942Z"
    },
    "tags": []
   },
   "outputs": [],
   "source": [
    "for i in range(len(ADict[\"Name\"])):\n",
    "    data = {\n",
    "        u\"MobileID\": i,\n",
    "        u\"MobileName\": ADict[\"Name\"][i],\n",
    "        u\"Price\": ADict[\"Price\"][i],\n",
    "        u\"Vendor\": u\"Daraz\",\n",
    "        u\"VendorLink\": ADict[\"Links\"][i],\n",
    "    }\n",
    "\n",
    "    # Add a new doc in collection 'cities' with ID 'LA'\n",
    "    db.collection(u\"Mobile_Product/[BrandName]/Apple\").add(data)"
   ]
  },
  {
   "cell_type": "code",
   "execution_count": 110,
   "id": "f590210c-c2df-4f83-a405-7dad59e5241e",
   "metadata": {
    "execution": {
     "iopub.execute_input": "2021-05-31T18:25:37.839356Z",
     "iopub.status.busy": "2021-05-31T18:25:37.839356Z",
     "iopub.status.idle": "2021-05-31T18:25:37.853318Z",
     "shell.execute_reply": "2021-05-31T18:25:37.852321Z",
     "shell.execute_reply.started": "2021-05-31T18:25:37.839356Z"
    },
    "tags": []
   },
   "outputs": [
    {
     "data": {
      "text/plain": [
       "'Apple iPhone 12 - 64GB - PTA Approved'"
      ]
     },
     "execution_count": 110,
     "metadata": {},
     "output_type": "execute_result"
    }
   ],
   "source": [
    "Apple[\"Name\"][0]"
   ]
  },
  {
   "cell_type": "code",
   "execution_count": 116,
   "id": "8ed6dcc4-fd45-4c83-8d44-226e4dfb9890",
   "metadata": {
    "execution": {
     "iopub.execute_input": "2021-05-31T18:28:55.373323Z",
     "iopub.status.busy": "2021-05-31T18:28:55.372324Z",
     "iopub.status.idle": "2021-05-31T18:28:55.386287Z",
     "shell.execute_reply": "2021-05-31T18:28:55.385289Z",
     "shell.execute_reply.started": "2021-05-31T18:28:55.373323Z"
    },
    "tags": []
   },
   "outputs": [
    {
     "name": "stdout",
     "output_type": "stream",
     "text": [
      "Apple iPhone 12 - 64GB - PTA Approved\n"
     ]
    }
   ],
   "source": [
    "MatchIphone = re.search(\"iphone\", Apple[\"Name\"][0], flags=re.IGNORECASE)\n",
    "if MatchIphone:\n",
    "    print(Apple[\"Name\"][0])\n",
    "else:\n",
    "    print(\"Sub-string Not Found\")"
   ]
  },
  {
   "cell_type": "code",
   "execution_count": null,
   "id": "b2f8f030-b475-4cb7-af27-3f30da8fb596",
   "metadata": {},
   "outputs": [],
   "source": [
    "Apple = df.query('Name.str.startswith(\"Apple\")', engine=\"python\")"
   ]
  },
  {
   "cell_type": "code",
   "execution_count": 146,
   "id": "9da26318-e9c2-4121-84f1-e1a4974f90eb",
   "metadata": {
    "execution": {
     "iopub.execute_input": "2021-06-01T08:49:11.729935Z",
     "iopub.status.busy": "2021-06-01T08:49:11.728936Z",
     "iopub.status.idle": "2021-06-01T08:49:11.736916Z",
     "shell.execute_reply": "2021-06-01T08:49:11.735919Z",
     "shell.execute_reply.started": "2021-06-01T08:49:11.729935Z"
    },
    "scrolled": true,
    "tags": []
   },
   "outputs": [
    {
     "name": "stdout",
     "output_type": "stream",
     "text": [
      "{'Name': {0: 'Apple iPhone 12 - 64GB - PTA Approved', 1: 'Apple iPhone 11 Pro - 5.8 Super Retina Display - 4GB RAM - 256GB ROM - Face ID (PTA approved - duty paid)', 2: 'Apple iPhone 11 Pro 256GB PTA Approved 1 Year Official Warranty', 3: 'Apple iPhone 11 Pro 512GB PTA Approved 1 Year Official Warranty', 4: 'Apple iPhone SE 256GB PTA Approved 1 Year Official Warranty', 5: 'Apple iPad Mini 5 7.9-inches 64GB Wifi A12 Bionic', 6: 'Apple iPad Mini 5 || 7.9-inches 64GB Wifi || A12 Bionic', 7: 'Apple Watch Series 6 44mm GPS Fits 140–220mm wrists', 8: 'Apple iPhone SE 128GB PTA Approved 1 Year Official Warranty', 9: 'Apple Iphone XS Max (iOS 12, Hexa-core, A12 Bionic Chipset with Dual Rear Camera and FHD Front 7 MP Camera)', 10: 'Apple Watch Series 5 (44mm)', 11: 'Apple iPhone 11 Pro Max - 256 GB - PTA Approved - 6.5', 12: 'Apple iPhone 11 - 64GB - 6.1 Screen - Brand Warranty - PTA Approved', 13: 'Apple iPhone 6s – 64GB - PTA Approved', 14: 'Apple iPhone 7 Plus 128GB - Official PTA Approved - 3GB RAM - 128GB ROM (Phone Only - No Charger - No Accessories - No Box Included)'}, 'Price': {0: 215000.0, 1: 244000.0, 2: 222999.0, 3: 249999.0, 4: 148999.0, 5: 74999.0, 6: 74499.0, 7: 78999.0, 8: 111700.0, 9: 220000.0, 10: 84999.0, 11: 263499.0, 12: 176999.0, 13: 31500.0, 14: 52999.0}, 'Links': {0: 'https://www.daraz.pk/products/apple-iphone-12-64gb-pta-approved-i186326520-s1372720458.html?search=1', 1: 'https://www.daraz.pk/products/apple-iphone-11-pro-58-super-retina-display-4gb-ram-256gb-rom-face-id-pta-approved-duty-paid-i130347401-s1290460185.html?search=1', 2: 'https://www.daraz.pk/products/apple-iphone-11-pro-256gb-pta-approved-1-year-official-warranty-i154952128-s1387806790.html?search=1', 3: 'https://www.daraz.pk/products/apple-iphone-11-pro-512gb-pta-approved-1-year-official-warranty-i154952887-s1320304587.html?search=1', 4: 'https://www.daraz.pk/products/apple-iphone-se-256gb-pta-approved-1-year-official-warranty-i154946965-s1320290880.html?search=1', 5: 'https://www.daraz.pk/products/apple-ipad-mini-5-79-inches-64gb-wifi-a12-bionic-i210830751-s1417944168.html?search=1', 6: 'https://www.daraz.pk/products/apple-ipad-mini-5-79-inches-64gb-wifi-a12-bionic-i210840046-s1417940474.html?search=1', 7: 'https://www.daraz.pk/products/apple-watch-series-6-44mm-gps-fits-140220mm-wrists-i210854217-s1417950398.html?search=1', 8: 'https://www.daraz.pk/products/apple-iphone-se-128gb-pta-approved-1-year-official-warranty-i154948878-s1320294574.html?search=1', 9: 'https://www.daraz.pk/products/apple-iphone-xs-max-ios-12-hexa-core-a12-bionic-chipset-with-dual-rear-camera-and-fhd-front-7-mp-camera-i123694708-s1280848448.html?search=1', 10: 'https://www.daraz.pk/products/apple-watch-series-5-44mm-i203874235-s1404200828.html?search=1', 11: 'https://www.daraz.pk/products/apple-iphone-11-pro-max-256-gb-pta-approved-65-i179456918-s1357346809.html?search=1', 12: 'https://www.daraz.pk/products/apple-iphone-11-64gb-61-screen-brand-warranty-pta-approved-i179456834-s1357354017.html?search=1', 13: 'https://www.daraz.pk/products/apple-iphone-6s-64gb-pta-approved-i216683804-s1426597794.html?search=1', 14: 'https://www.daraz.pk/products/apple-iphone-7-plus-128gb-official-pta-approved-3gb-ram-128gb-rom-phone-only-no-charger-no-accessories-no-box-included-i219012088-s1430917447.html?search=1'}}\n"
     ]
    }
   ],
   "source": [
    "AppleList = []\n",
    "# print(AppleList)\n",
    "print(ADict)"
   ]
  },
  {
   "cell_type": "code",
   "execution_count": 147,
   "id": "bee07c30-a221-41c0-b8e5-875818e0629a",
   "metadata": {
    "execution": {
     "iopub.execute_input": "2021-06-01T08:49:17.441000Z",
     "iopub.status.busy": "2021-06-01T08:49:17.440003Z",
     "iopub.status.idle": "2021-06-01T08:49:17.494860Z",
     "shell.execute_reply": "2021-06-01T08:49:17.491861Z",
     "shell.execute_reply.started": "2021-06-01T08:49:17.440003Z"
    },
    "tags": []
   },
   "outputs": [
    {
     "name": "stdout",
     "output_type": "stream",
     "text": [
      "85\n"
     ]
    }
   ],
   "source": [
    "# count=0\n",
    "for i in range(len(Names)):\n",
    "    Match = re.search(\"iphone\", df[\"Name\"][i], flags=re.IGNORECASE)\n",
    "    if Match:\n",
    "        AppleList.append((Names[i], Prices[i], Links[i]))\n",
    "        #         AppleList.append(df[i])\n",
    "        count += 1\n",
    "# print(count)"
   ]
  },
  {
   "cell_type": "code",
   "execution_count": 151,
   "id": "11e9904e-041f-4b57-bf2b-1e5d09dcbc71",
   "metadata": {
    "execution": {
     "iopub.execute_input": "2021-06-01T08:50:49.081909Z",
     "iopub.status.busy": "2021-06-01T08:50:49.080913Z",
     "iopub.status.idle": "2021-06-01T08:50:49.100859Z",
     "shell.execute_reply": "2021-06-01T08:50:49.099861Z",
     "shell.execute_reply.started": "2021-06-01T08:50:49.081909Z"
    },
    "scrolled": true,
    "tags": []
   },
   "outputs": [
    {
     "name": "stdout",
     "output_type": "stream",
     "text": [
      "Rs. 215,000\n"
     ]
    }
   ],
   "source": [
    "# print(AppleList[0][1])"
   ]
  },
  {
   "cell_type": "code",
   "execution_count": 155,
   "id": "4f02252f-462b-4c35-8592-012e82d9f18c",
   "metadata": {
    "execution": {
     "iopub.execute_input": "2021-06-01T08:56:10.340318Z",
     "iopub.status.busy": "2021-06-01T08:56:10.339321Z",
     "iopub.status.idle": "2021-06-01T08:56:40.703190Z",
     "shell.execute_reply": "2021-06-01T08:56:40.702196Z",
     "shell.execute_reply.started": "2021-06-01T08:56:10.339321Z"
    },
    "tags": []
   },
   "outputs": [],
   "source": [
    "for i in range(len(AppleList)):\n",
    "    data = {\n",
    "        u\"MobileID\": i,\n",
    "        u\"MobileName\": AppleList[i][0],\n",
    "        u\"Price\": AppleList[i][1],\n",
    "        u\"Vendor\": u\"Daraz\",\n",
    "        u\"VendorLink\": AppleList[i][2],\n",
    "    }\n",
    "\n",
    "    # Add a new doc in collection 'cities' with ID 'LA'\n",
    "    db.collection(u\"MobileProduct/BrandName/Apple\").add(data)"
   ]
  },
  {
   "cell_type": "code",
   "execution_count": 162,
   "id": "054634c6-8de4-486b-8602-c8e0b4ef7af2",
   "metadata": {
    "execution": {
     "iopub.execute_input": "2021-06-01T09:13:46.437540Z",
     "iopub.status.busy": "2021-06-01T09:13:46.437540Z",
     "iopub.status.idle": "2021-06-01T09:13:46.522287Z",
     "shell.execute_reply": "2021-06-01T09:13:46.520291Z",
     "shell.execute_reply.started": "2021-06-01T09:13:46.437540Z"
    },
    "tags": []
   },
   "outputs": [],
   "source": [
    "count = 0\n",
    "SamsungList = []\n",
    "for i in range(len(Names)):\n",
    "    Match = re.search(\"samsung\", df[\"Name\"][i], flags=re.IGNORECASE)\n",
    "    if Match:\n",
    "        #         SamsungList.append((Names[i],Prices[i],Links[i]))\n",
    "        SamsungList.append((df[\"Name\"][i], df[\"Price\"][i], df[\"Links\"][i]))\n",
    "#         count+=1\n",
    "# print(count)"
   ]
  },
  {
   "cell_type": "code",
   "execution_count": 159,
   "id": "e86954ef-44bf-4956-99a6-d18a19d83163",
   "metadata": {
    "execution": {
     "iopub.execute_input": "2021-06-01T09:09:11.852581Z",
     "iopub.status.busy": "2021-06-01T09:09:11.852581Z",
     "iopub.status.idle": "2021-06-01T09:11:16.297279Z",
     "shell.execute_reply": "2021-06-01T09:11:16.290309Z",
     "shell.execute_reply.started": "2021-06-01T09:09:11.852581Z"
    },
    "tags": []
   },
   "outputs": [],
   "source": [
    "for i in range(len(SamsungList)):\n",
    "    data = {\n",
    "        u\"MobileID\": i + len(AppleList),\n",
    "        u\"MobileName\": SamsungList[i][0],\n",
    "        u\"Price\": SamsungList[i][1],\n",
    "        u\"Vendor\": u\"Daraz\",\n",
    "        u\"VendorLink\": SamsungList[i][2],\n",
    "    }\n",
    "\n",
    "    # Add a new doc in collection 'cities' with ID 'LA'\n",
    "    db.collection(u\"MobileProduct/BrandName/Samsung\").add(data)"
   ]
  },
  {
   "cell_type": "code",
   "execution_count": 163,
   "id": "698a682e-e183-47e8-b231-22e0bd1dc663",
   "metadata": {
    "execution": {
     "iopub.execute_input": "2021-06-01T09:18:03.838661Z",
     "iopub.status.busy": "2021-06-01T09:18:03.838661Z",
     "iopub.status.idle": "2021-06-01T09:18:03.850601Z",
     "shell.execute_reply": "2021-06-01T09:18:03.849604Z",
     "shell.execute_reply.started": "2021-06-01T09:18:03.838661Z"
    },
    "tags": []
   },
   "outputs": [
    {
     "data": {
      "text/plain": [
       "2746"
      ]
     },
     "execution_count": 163,
     "metadata": {},
     "output_type": "execute_result"
    }
   ],
   "source": [
    "len(df)"
   ]
  },
  {
   "cell_type": "code",
   "execution_count": 164,
   "id": "9a7e7a6e-00ce-4621-b770-21ebe2f770dd",
   "metadata": {
    "execution": {
     "iopub.execute_input": "2021-06-01T10:06:49.413618Z",
     "iopub.status.busy": "2021-06-01T10:06:49.412620Z",
     "iopub.status.idle": "2021-06-01T10:19:38.945784Z",
     "shell.execute_reply": "2021-06-01T10:19:38.943958Z",
     "shell.execute_reply.started": "2021-06-01T10:06:49.412620Z"
    }
   },
   "outputs": [],
   "source": [
    "count = 0\n",
    "# SamsungList=[]\n",
    "for i in range(len(df)):\n",
    "    Match = re.search(\"iphone\", df[\"Name\"][i], flags=re.IGNORECASE)\n",
    "    if Match:\n",
    "        data = {\n",
    "            u\"MobileID\": count,\n",
    "            u\"MobileName\": df[\"Name\"][i],\n",
    "            u\"Price\": df[\"Price\"][i],\n",
    "            u\"Vendor\": u\"Daraz\",\n",
    "            u\"VendorLink\": df[\"Links\"][i],\n",
    "        }\n",
    "\n",
    "        db.collection(u\"MobileProduct/BrandName/Apple\").add(data)\n",
    "        count += 1\n",
    "\n",
    "    Match = re.search(\"samsung\", df[\"Name\"][i], flags=re.IGNORECASE)\n",
    "    if Match:\n",
    "        data = {\n",
    "            u\"MobileID\": count,\n",
    "            u\"MobileName\": df[\"Name\"][i],\n",
    "            u\"Price\": df[\"Price\"][i],\n",
    "            u\"Vendor\": u\"Daraz\",\n",
    "            u\"VendorLink\": df[\"Links\"][i],\n",
    "        }\n",
    "\n",
    "        db.collection(u\"MobileProduct/BrandName/Samsung\").add(data)\n",
    "        count += 1\n",
    "\n",
    "    Match = re.search(\"huawei\", df[\"Name\"][i], flags=re.IGNORECASE)\n",
    "    if Match:\n",
    "        data = {\n",
    "            u\"MobileID\": count,\n",
    "            u\"MobileName\": df[\"Name\"][i],\n",
    "            u\"Price\": df[\"Price\"][i],\n",
    "            u\"Vendor\": u\"Daraz\",\n",
    "            u\"VendorLink\": df[\"Links\"][i],\n",
    "        }\n",
    "        db.collection(u\"MobileProduct/BrandName/Huawei\").add(data)\n",
    "        count += 1\n",
    "\n",
    "    Match = re.search(\"vivo\", df[\"Name\"][i], flags=re.IGNORECASE)\n",
    "    if Match:\n",
    "        data = {\n",
    "            u\"MobileID\": count,\n",
    "            u\"MobileName\": df[\"Name\"][i],\n",
    "            u\"Price\": df[\"Price\"][i],\n",
    "            u\"Vendor\": u\"Daraz\",\n",
    "            u\"VendorLink\": df[\"Links\"][i],\n",
    "        }\n",
    "        db.collection(u\"MobileProduct/BrandName/Vivo\").add(data)\n",
    "        count += 1\n",
    "\n",
    "    Match = re.search(\"oppo\", df[\"Name\"][i], flags=re.IGNORECASE)\n",
    "    if Match:\n",
    "        data = {\n",
    "            u\"MobileID\": count,\n",
    "            u\"MobileName\": df[\"Name\"][i],\n",
    "            u\"Price\": df[\"Price\"][i],\n",
    "            u\"Vendor\": u\"Daraz\",\n",
    "            u\"VendorLink\": df[\"Links\"][i],\n",
    "        }\n",
    "        db.collection(u\"MobileProduct/BrandName/Oppo\").add(data)\n",
    "        count += 1\n",
    "\n",
    "    Match = re.search(\"realme\", df[\"Name\"][i], flags=re.IGNORECASE)\n",
    "    if Match:\n",
    "        data = {\n",
    "            u\"MobileID\": count,\n",
    "            u\"MobileName\": df[\"Name\"][i],\n",
    "            u\"Price\": df[\"Price\"][i],\n",
    "            u\"Vendor\": u\"Daraz\",\n",
    "            u\"VendorLink\": df[\"Links\"][i],\n",
    "        }\n",
    "        db.collection(u\"MobileProduct/BrandName/Realme\").add(data)\n",
    "        count += 1\n",
    "\n",
    "    Match = re.search(\"nokia\", df[\"Name\"][i], flags=re.IGNORECASE)\n",
    "    if Match:\n",
    "        data = {\n",
    "            u\"MobileID\": count,\n",
    "            u\"MobileName\": df[\"Name\"][i],\n",
    "            u\"Price\": df[\"Price\"][i],\n",
    "            u\"Vendor\": u\"Daraz\",\n",
    "            u\"VendorLink\": df[\"Links\"][i],\n",
    "        }\n",
    "        db.collection(u\"MobileProduct/BrandName/Nokia\").add(data)\n",
    "        count += 1\n",
    "\n",
    "    Match = re.search(\"xiaomi\", df[\"Name\"][i], flags=re.IGNORECASE)\n",
    "    if Match:\n",
    "        data = {\n",
    "            u\"MobileID\": count,\n",
    "            u\"MobileName\": df[\"Name\"][i],\n",
    "            u\"Price\": df[\"Price\"][i],\n",
    "            u\"Vendor\": u\"Daraz\",\n",
    "            u\"VendorLink\": df[\"Links\"][i],\n",
    "        }\n",
    "        db.collection(u\"MobileProduct/BrandName/Xiaomi\").add(data)\n",
    "        count += 1\n",
    "\n",
    "    Match = re.search(\"infinix\", df[\"Name\"][i], flags=re.IGNORECASE)\n",
    "    if Match:\n",
    "        data = {\n",
    "            u\"MobileID\": count,\n",
    "            u\"MobileName\": df[\"Name\"][i],\n",
    "            u\"Price\": df[\"Price\"][i],\n",
    "            u\"Vendor\": u\"Daraz\",\n",
    "            u\"VendorLink\": df[\"Links\"][i],\n",
    "        }\n",
    "        db.collection(u\"MobileProduct/BrandName/Infinix\").add(data)\n",
    "        count += 1\n",
    "    Match = re.search(\"Tecno\", df[\"Name\"][i], flags=re.IGNORECASE)\n",
    "    if Match:\n",
    "        data = {\n",
    "            u\"MobileID\": count,\n",
    "            u\"MobileName\": df[\"Name\"][i],\n",
    "            u\"Price\": df[\"Price\"][i],\n",
    "            u\"Vendor\": u\"Daraz\",\n",
    "            u\"VendorLink\": df[\"Links\"][i],\n",
    "        }\n",
    "        db.collection(u\"MobileProduct/BrandName/Tecno\").add(data)\n",
    "        count += 1\n",
    "\n",
    "    Match = re.search(\"qmobile\", df[\"Name\"][i], flags=re.IGNORECASE)\n",
    "    if Match:\n",
    "        data = {\n",
    "            u\"MobileID\": count,\n",
    "            u\"MobileName\": df[\"Name\"][i],\n",
    "            u\"Price\": df[\"Price\"][i],\n",
    "            u\"Vendor\": u\"Daraz\",\n",
    "            u\"VendorLink\": df[\"Links\"][i],\n",
    "        }\n",
    "        db.collection(u\"MobileProduct/BrandName/Qmobile\").add(data)\n",
    "        count += 1\n",
    "\n",
    "    Match = re.search(\"lenovo\", df[\"Name\"][i], flags=re.IGNORECASE)\n",
    "    if Match:\n",
    "        data = {\n",
    "            u\"MobileID\": count,\n",
    "            u\"MobileName\": df[\"Name\"][i],\n",
    "            u\"Price\": df[\"Price\"][i],\n",
    "            u\"Vendor\": u\"Daraz\",\n",
    "            u\"VendorLink\": df[\"Links\"][i],\n",
    "        }\n",
    "        db.collection(u\"MobileProduct/BrandName/Lenovo\").add(data)\n",
    "        count += 1\n",
    "\n",
    "    Match = re.search(\"sony\", df[\"Name\"][i], flags=re.IGNORECASE)\n",
    "    if Match:\n",
    "        data = {\n",
    "            u\"MobileID\": count,\n",
    "            u\"MobileName\": df[\"Name\"][i],\n",
    "            u\"Price\": df[\"Price\"][i],\n",
    "            u\"Vendor\": u\"Daraz\",\n",
    "            u\"VendorLink\": df[\"Links\"][i],\n",
    "        }\n",
    "        db.collection(u\"MobileProduct/BrandName/Sony\").add(data)\n",
    "        count += 1\n",
    "\n",
    "    Match = re.search(\"LG\", df[\"Name\"][i], flags=re.IGNORECASE)\n",
    "    if Match:\n",
    "        data = {\n",
    "            u\"MobileID\": count,\n",
    "            u\"MobileName\": df[\"Name\"][i],\n",
    "            u\"Price\": df[\"Price\"][i],\n",
    "            u\"Vendor\": u\"Daraz\",\n",
    "            u\"VendorLink\": df[\"Links\"][i],\n",
    "        }\n",
    "        db.collection(u\"MobileProduct/BrandName/LG\").add(data)\n",
    "        count += 1\n",
    "    Match = re.search(\"itel\", df[\"Name\"][i], flags=re.IGNORECASE)\n",
    "    if Match:\n",
    "        data = {\n",
    "            u\"MobileID\": count,\n",
    "            u\"MobileName\": df[\"Name\"][i],\n",
    "            u\"Price\": df[\"Price\"][i],\n",
    "            u\"Vendor\": u\"Daraz\",\n",
    "            u\"VendorLink\": df[\"Links\"][i],\n",
    "        }\n",
    "        db.collection(u\"MobileProduct/BrandName/itel\").add(data)\n",
    "        count += 1\n",
    "    Match = re.search(\"Oneplus\", df[\"Name\"][i], flags=re.IGNORECASE)\n",
    "    if Match:\n",
    "        data = {\n",
    "            u\"MobileID\": count,\n",
    "            u\"MobileName\": df[\"Name\"][i],\n",
    "            u\"Price\": df[\"Price\"][i],\n",
    "            u\"Vendor\": u\"Daraz\",\n",
    "            u\"VendorLink\": df[\"Links\"][i],\n",
    "        }\n",
    "        db.collection(u\"MobileProduct/BrandName/OnePlus\").add(data)\n",
    "        count += 1\n",
    "    Match = re.search(\"Telenor\", df[\"Name\"][i], flags=re.IGNORECASE)\n",
    "    if Match:\n",
    "        data = {\n",
    "            u\"MobileID\": count,\n",
    "            u\"MobileName\": df[\"Name\"][i],\n",
    "            u\"Price\": df[\"Price\"][i],\n",
    "            u\"Vendor\": u\"Daraz\",\n",
    "            u\"VendorLink\": df[\"Links\"][i],\n",
    "        }\n",
    "        db.collection(u\"MobileProduct/BrandName/Telenor\").add(data)\n",
    "        count += 1\n",
    "    Match = re.search(\"Alcatel\", df[\"Name\"][i], flags=re.IGNORECASE)\n",
    "    if Match:\n",
    "        data = {\n",
    "            u\"MobileID\": count,\n",
    "            u\"MobileName\": df[\"Name\"][i],\n",
    "            u\"Price\": df[\"Price\"][i],\n",
    "            u\"Vendor\": u\"Daraz\",\n",
    "            u\"VendorLink\": df[\"Links\"][i],\n",
    "        }\n",
    "        db.collection(u\"MobileProduct/BrandName/Alcatel\").add(data)\n",
    "        count += 1\n",
    "    Match = re.search(\"HTC\", df[\"Name\"][i], flags=re.IGNORECASE)\n",
    "    if Match:\n",
    "        data = {\n",
    "            u\"MobileID\": count,\n",
    "            u\"MobileName\": df[\"Name\"][i],\n",
    "            u\"Price\": df[\"Price\"][i],\n",
    "            u\"Vendor\": u\"Daraz\",\n",
    "            u\"VendorLink\": df[\"Links\"][i],\n",
    "        }\n",
    "        db.collection(u\"MobileProduct/BrandName/HTC\").add(data)\n",
    "        count += 1\n",
    "    Match = re.search(\"Microsoft\", df[\"Name\"][i], flags=re.IGNORECASE)\n",
    "    if Match:\n",
    "        data = {\n",
    "            u\"MobileID\": count,\n",
    "            u\"MobileName\": df[\"Name\"][i],\n",
    "            u\"Price\": df[\"Price\"][i],\n",
    "            u\"Vendor\": u\"Daraz\",\n",
    "            u\"VendorLink\": df[\"Links\"][i],\n",
    "        }\n",
    "        db.collection(u\"MobileProduct/BrandName/Microsoft\").add(data)\n",
    "        count += 1\n",
    "    Match = re.search(\"rivo\", df[\"Name\"][i], flags=re.IGNORECASE)\n",
    "    if Match:\n",
    "        data = {\n",
    "            u\"MobileID\": count,\n",
    "            u\"MobileName\": df[\"Name\"][i],\n",
    "            u\"Price\": df[\"Price\"][i],\n",
    "            u\"Vendor\": u\"Daraz\",\n",
    "            u\"VendorLink\": df[\"Links\"][i],\n",
    "        }\n",
    "        db.collection(u\"MobileProduct/BrandName/Rivo\").add(data)\n",
    "        count += 1\n",
    "    Match = re.search(\"haier\", df[\"Name\"][i], flags=re.IGNORECASE)\n",
    "    if Match:\n",
    "        data = {\n",
    "            u\"MobileID\": count,\n",
    "            u\"MobileName\": df[\"Name\"][i],\n",
    "            u\"Price\": df[\"Price\"][i],\n",
    "            u\"Vendor\": u\"Daraz\",\n",
    "            u\"VendorLink\": df[\"Links\"][i],\n",
    "        }\n",
    "        db.collection(u\"MobileProduct/BrandName/Haier\").add(data)\n",
    "        count += 1\n",
    "    Match = re.search(\"Mobilink\", df[\"Name\"][i], flags=re.IGNORECASE)\n",
    "    if Match:\n",
    "        data = {\n",
    "            u\"MobileID\": count,\n",
    "            u\"MobileName\": df[\"Name\"][i],\n",
    "            u\"Price\": df[\"Price\"][i],\n",
    "            u\"Vendor\": u\"Daraz\",\n",
    "            u\"VendorLink\": df[\"Links\"][i],\n",
    "        }\n",
    "        db.collection(u\"MobileProduct/BrandName/Mobilink\").add(data)\n",
    "        count += 1\n",
    "    Match = re.search(\"Motorola\", df[\"Name\"][i], flags=re.IGNORECASE)\n",
    "    if Match:\n",
    "        data = {\n",
    "            u\"MobileID\": count,\n",
    "            u\"MobileName\": df[\"Name\"][i],\n",
    "            u\"Price\": df[\"Price\"][i],\n",
    "            u\"Vendor\": u\"Daraz\",\n",
    "            u\"VendorLink\": df[\"Links\"][i],\n",
    "        }\n",
    "        db.collection(u\"MobileProduct/BrandName/Motorola\").add(data)\n",
    "        count += 1\n",
    "    Match = re.search(\"Blackberry\", df[\"Name\"][i], flags=re.IGNORECASE)\n",
    "    if Match:\n",
    "        data = {\n",
    "            u\"MobileID\": count,\n",
    "            u\"MobileName\": df[\"Name\"][i],\n",
    "            u\"Price\": df[\"Price\"][i],\n",
    "            u\"Vendor\": u\"Daraz\",\n",
    "            u\"VendorLink\": df[\"Links\"][i],\n",
    "        }\n",
    "        db.collection(u\"MobileProduct/BrandName/BlackBerry\").add(data)\n",
    "        count += 1\n",
    "    Match = re.search(\"voice\", df[\"Name\"][i], flags=re.IGNORECASE)\n",
    "    if Match:\n",
    "        data = {\n",
    "            u\"MobileID\": count,\n",
    "            u\"MobileName\": df[\"Name\"][i],\n",
    "            u\"Price\": df[\"Price\"][i],\n",
    "            u\"Vendor\": u\"Daraz\",\n",
    "            u\"VendorLink\": df[\"Links\"][i],\n",
    "        }\n",
    "        db.collection(u\"MobileProduct/BrandName/VOICE\").add(data)\n",
    "        count += 1\n",
    "    Match = re.search(\"meizu\", df[\"Name\"][i], flags=re.IGNORECASE)\n",
    "    if Match:\n",
    "        data = {\n",
    "            u\"MobileID\": count,\n",
    "            u\"MobileName\": df[\"Name\"][i],\n",
    "            u\"Price\": df[\"Price\"][i],\n",
    "            u\"Vendor\": u\"Daraz\",\n",
    "            u\"VendorLink\": df[\"Links\"][i],\n",
    "        }\n",
    "        db.collection(u\"MobileProduct/BrandName/Meizu\").add(data)\n",
    "        count += 1\n",
    "    Match = re.search(\"ophone\", df[\"Name\"][i], flags=re.IGNORECASE)\n",
    "    if Match:\n",
    "        data = {\n",
    "            u\"MobileID\": count,\n",
    "            u\"MobileName\": df[\"Name\"][i],\n",
    "            u\"Price\": df[\"Price\"][i],\n",
    "            u\"Vendor\": u\"Daraz\",\n",
    "            u\"VendorLink\": df[\"Links\"][i],\n",
    "        }\n",
    "        db.collection(u\"MobileProduct/BrandName/OPhone\").add(data)\n",
    "        count += 1\n",
    "    Match = re.search(\"Calme\", df[\"Name\"][i], flags=re.IGNORECASE)\n",
    "    if Match:\n",
    "        data = {\n",
    "            u\"MobileID\": count,\n",
    "            u\"MobileName\": df[\"Name\"][i],\n",
    "            u\"Price\": df[\"Price\"][i],\n",
    "            u\"Vendor\": u\"Daraz\",\n",
    "            u\"VendorLink\": df[\"Links\"][i],\n",
    "        }\n",
    "        db.collection(u\"MobileProduct/BrandName/Calme\").add(data)\n",
    "        count += 1\n",
    "    Match = re.search(\"GRight\", df[\"Name\"][i], flags=re.IGNORECASE)\n",
    "    if Match:\n",
    "        data = {\n",
    "            u\"MobileID\": count,\n",
    "            u\"MobileName\": df[\"Name\"][i],\n",
    "            u\"Price\": df[\"Price\"][i],\n",
    "            u\"Vendor\": u\"Daraz\",\n",
    "            u\"VendorLink\": df[\"Links\"][i],\n",
    "        }\n",
    "        db.collection(u\"MobileProduct/BrandName/GRight\").add(data)\n",
    "        count += 1\n",
    "    Match = re.search(\"gfive\", df[\"Name\"][i], flags=re.IGNORECASE)\n",
    "    if Match:\n",
    "        data = {\n",
    "            u\"MobileID\": count,\n",
    "            u\"MobileName\": df[\"Name\"][i],\n",
    "            u\"Price\": df[\"Price\"][i],\n",
    "            u\"Vendor\": u\"Daraz\",\n",
    "            u\"VendorLink\": df[\"Links\"][i],\n",
    "        }\n",
    "        db.collection(u\"MobileProduct/BrandName/GFive\").add(data)\n",
    "        count += 1\n",
    "    Match = re.search(\"club\", df[\"Name\"][i], flags=re.IGNORECASE)\n",
    "    if Match:\n",
    "        data = {\n",
    "            u\"MobileID\": count,\n",
    "            u\"MobileName\": df[\"Name\"][i],\n",
    "            u\"Price\": df[\"Price\"][i],\n",
    "            u\"Vendor\": u\"Daraz\",\n",
    "            u\"VendorLink\": df[\"Links\"][i],\n",
    "        }\n",
    "        db.collection(u\"MobileProduct/BrandName/ClubMobile\").add(data)\n",
    "        count += 1\n",
    "    Match = re.search(\"sony ericsson\", df[\"Name\"][i], flags=re.IGNORECASE)\n",
    "    if Match:\n",
    "        data = {\n",
    "            u\"MobileID\": count,\n",
    "            u\"MobileName\": df[\"Name\"][i],\n",
    "            u\"Price\": df[\"Price\"][i],\n",
    "            u\"Vendor\": u\"Daraz\",\n",
    "            u\"VendorLink\": df[\"Links\"][i],\n",
    "        }\n",
    "        db.collection(u\"MobileProduct/BrandName/SonyEricsson\").add(data)\n",
    "        count += 1"
   ]
  },
  {
   "cell_type": "code",
   "execution_count": null,
   "id": "e9189823-5aa5-41df-81c8-b2c4dbd5dbff",
   "metadata": {},
   "outputs": [],
   "source": []
  }
 ],
 "metadata": {
  "kernelspec": {
   "display_name": "Python 3",
   "language": "python",
   "name": "python3"
  },
  "language_info": {
   "codemirror_mode": {
    "name": "ipython",
    "version": 3
   },
   "file_extension": ".py",
   "mimetype": "text/x-python",
   "name": "python",
   "nbconvert_exporter": "python",
   "pygments_lexer": "ipython3",
   "version": "3.8.10"
  }
 },
 "nbformat": 4,
 "nbformat_minor": 5
}
