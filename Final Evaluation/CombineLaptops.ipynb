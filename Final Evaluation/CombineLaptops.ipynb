{
 "cells": [
  {
   "cell_type": "code",
   "execution_count": 1,
   "id": "8f5e775d-ecc6-4e3d-821c-30c2fa5b6dd7",
   "metadata": {
    "execution": {
     "iopub.execute_input": "2021-06-02T19:01:29.533893Z",
     "iopub.status.busy": "2021-06-02T19:01:29.532894Z",
     "iopub.status.idle": "2021-06-02T19:01:31.495337Z",
     "shell.execute_reply": "2021-06-02T19:01:31.495337Z",
     "shell.execute_reply.started": "2021-06-02T19:01:29.533893Z"
    },
    "tags": []
   },
   "outputs": [],
   "source": [
    "import re\n",
    "import time\n",
    "\n",
    "import bs4 as bs\n",
    "import firebase_admin\n",
    "import pandas as pd\n",
    "from firebase_admin import credentials, firestore\n",
    "from selenium import webdriver"
   ]
  },
  {
   "cell_type": "code",
   "execution_count": 2,
   "id": "757936f1-aa7a-4502-b378-0062048c8594",
   "metadata": {
    "execution": {
     "iopub.execute_input": "2021-06-02T19:01:31.497368Z",
     "iopub.status.busy": "2021-06-02T19:01:31.497368Z",
     "iopub.status.idle": "2021-06-02T19:01:32.950705Z",
     "shell.execute_reply": "2021-06-02T19:01:32.949707Z",
     "shell.execute_reply.started": "2021-06-02T19:01:31.497368Z"
    },
    "tags": []
   },
   "outputs": [],
   "source": [
    "driver = webdriver.Chrome(\n",
    "    \"C:/Users/OwaisGondal/Downloads/Compressed/chromedriver_win32/chromedriver.exe\"\n",
    ")"
   ]
  },
  {
   "cell_type": "code",
   "execution_count": 3,
   "id": "8d7f812d-95df-46b2-85c4-2f0452efe42e",
   "metadata": {
    "execution": {
     "iopub.execute_input": "2021-06-02T19:01:32.953697Z",
     "iopub.status.busy": "2021-06-02T19:01:32.953697Z",
     "iopub.status.idle": "2021-06-02T19:01:32.966662Z",
     "shell.execute_reply": "2021-06-02T19:01:32.965665Z",
     "shell.execute_reply.started": "2021-06-02T19:01:32.953697Z"
    },
    "tags": []
   },
   "outputs": [],
   "source": [
    "Names = []\n",
    "Prices = []\n",
    "Links = []\n",
    "Vendors = []\n",
    "V = [\n",
    "    \"Daraz\",\n",
    "    \"Telemart\",\n",
    "    \"Zaibis\",\n",
    "    \"Myshop\",\n",
    "    \"Symbios.pk\",\n",
    "    \"Homeshopping\",\n",
    "    \"Paklap\",\n",
    "    \"Czone\",\n",
    "]"
   ]
  },
  {
   "cell_type": "markdown",
   "id": "c4f5a7a4-4be5-4b2b-9999-6f3a05c9f2fa",
   "metadata": {},
   "source": [
    "### Paklap"
   ]
  },
  {
   "cell_type": "code",
   "execution_count": 4,
   "id": "ed35483e-8512-43ac-8dc5-b2f5cedb1984",
   "metadata": {
    "execution": {
     "iopub.execute_input": "2021-06-02T19:01:32.969653Z",
     "iopub.status.busy": "2021-06-02T19:01:32.968657Z",
     "iopub.status.idle": "2021-06-02T19:01:45.207771Z",
     "shell.execute_reply": "2021-06-02T19:01:45.206773Z",
     "shell.execute_reply.started": "2021-06-02T19:01:32.969653Z"
    }
   },
   "outputs": [],
   "source": [
    "url=\"https://www.paklap.pk/laptops-prices.html?product_list_limit=all\"\n",
    "# driver = webdriver.Chrome(\"C:/Users/Usman/Downloads/chromedriver.exe\")\n",
    "driver.get(url)\n",
    "for i in range(1,121):\n",
    "    try:\n",
    "        Name=driver.find_element_by_xpath(\"/html/body/div[3]/main/div[2]/div[1]/div[4]/ol/li[\"+str(i)+\"]/div/div[2]/strong/a\")\n",
    "        Price=driver.find_element_by_xpath(\"/html/body/div[3]/main/div[2]/div[1]/div[4]/ol/li[\"+str(i)+\"]/div/div[2]/div[1]/span/span/span\")\n",
    "        \n",
    "        Names.append(Name.text)\n",
    "        Prices.append(Price.text)\n",
    "        Links.append(Name.get_attribute(\"href\"))\n",
    "        Vendors.append(V[6])\n",
    "    except:\n",
    "        1==1"
   ]
  },
  {
   "cell_type": "markdown",
   "id": "33067a1c-2d10-4565-86ff-08e20d46e204",
   "metadata": {},
   "source": [
    "### Daraz"
   ]
  },
  {
   "cell_type": "code",
   "execution_count": 5,
   "id": "9221cb42-eb84-4122-9101-ce95caf80343",
   "metadata": {
    "execution": {
     "iopub.execute_input": "2021-06-02T19:01:45.209764Z",
     "iopub.status.busy": "2021-06-02T19:01:45.208766Z",
     "iopub.status.idle": "2021-06-02T19:02:36.241661Z",
     "shell.execute_reply": "2021-06-02T19:02:36.240654Z",
     "shell.execute_reply.started": "2021-06-02T19:01:45.209764Z"
    }
   },
   "outputs": [],
   "source": [
    "for j in range(1,11):\n",
    "    url=\"https://www.daraz.pk/laptops/?page=\"+str(j)+\"&spm=a2a0e.searchlistcategory.cate_1.5.4c8c5e4eZv4a82\"\n",
    "    driver.get(url)\n",
    "    for i in range(1,40):\n",
    "        try:\n",
    "            Name=driver.find_element_by_xpath(\"/html/body/div[3]/div/div[3]/div[1]/div/div[1]/div[2]/div[\"+str(i)+\"]/div/div/div[2]/div[2]/a\")\n",
    "            Price=driver.find_element_by_xpath(\"/html/body/div[3]/div/div[3]/div[1]/div/div[1]/div[2]/div[\"+str(i)+\"]/div/div/div[2]/div[3]/span\")\n",
    "            Names.append(Name.text)\n",
    "            Prices.append(Price.text)\n",
    "            Links.append(Name.get_attribute(\"href\"))\n",
    "            Vendors.append(V[0])\n",
    "        except:\n",
    "            1==1"
   ]
  },
  {
   "cell_type": "markdown",
   "id": "98e5a3ec-97e2-43f7-a6c6-9e25c95a0331",
   "metadata": {},
   "source": [
    "### CZone"
   ]
  },
  {
   "cell_type": "code",
   "execution_count": 6,
   "id": "d7042295-b04e-4327-9216-e3903e0846c3",
   "metadata": {
    "execution": {
     "iopub.execute_input": "2021-06-02T19:02:36.243655Z",
     "iopub.status.busy": "2021-06-02T19:02:36.242658Z",
     "iopub.status.idle": "2021-06-02T19:03:21.925757Z",
     "shell.execute_reply": "2021-06-02T19:03:21.925757Z",
     "shell.execute_reply.started": "2021-06-02T19:02:36.243655Z"
    }
   },
   "outputs": [],
   "source": [
    "for j in range(1,13):\n",
    "    url=\"https://www.czone.com.pk/laptops-pakistan-ppt.74.aspx?recs=10&page=\"+str(j)+\"\"\n",
    "    driver.get(url)\n",
    "    for i in range(1,10):\n",
    "        try:\n",
    "            Name=driver.find_element_by_xpath(\"/html/body/form/div[3]/div[2]/div[2]/div[4]/div[\"+str(i)+\"]/div/div[1]/div/div[2]/div/div[1]/h4/a\")\n",
    "            Price=driver.find_element_by_xpath(\"/html/body/form/div[3]/div[2]/div[2]/div[4]/div[\"+str(i)+\"]/div/div[1]/div/div[2]/div/div[2]/div[3]/span\")\n",
    "            Names.append(Name.text)\n",
    "            Prices.append(Price.text)\n",
    "            Vendors.append(V[7])\n",
    "            Links.append(Name.get_attribute(\"href\"))\n",
    "        except:\n",
    "            1==1\n"
   ]
  },
  {
   "cell_type": "markdown",
   "id": "897b513f-8502-47cb-be1d-9ac59038ba0c",
   "metadata": {},
   "source": [
    "### Myshop"
   ]
  },
  {
   "cell_type": "code",
   "execution_count": 7,
   "id": "09274bcb-f8ba-41c7-b5aa-83195ce98c12",
   "metadata": {
    "execution": {
     "iopub.execute_input": "2021-06-02T19:03:21.928738Z",
     "iopub.status.busy": "2021-06-02T19:03:21.928738Z",
     "iopub.status.idle": "2021-06-02T19:03:49.241225Z",
     "shell.execute_reply": "2021-06-02T19:03:49.240227Z",
     "shell.execute_reply.started": "2021-06-02T19:03:21.928738Z"
    }
   },
   "outputs": [],
   "source": [
    "for j in range(1,4):\n",
    "    url=\"https://myshop.pk/laptops-desktops-computers/laptops?p=\"+str(j)+\"&product_list_limit=64\"\n",
    "    driver.get(url)\n",
    "    for i in range(1,64):\n",
    "        try:\n",
    "            Name=driver.find_element_by_xpath(\"/html/body/div[1]/main/div[3]/div[1]/div[3]/ol/li[\"+str(i)+\"]/div/div[2]/strong/a\")\n",
    "            Price=driver.find_element_by_xpath(\"/html/body/div[1]/main/div[3]/div[1]/div[3]/ol/li[\"+str(i)+\"]/div/div[2]/div[4]/span/span/span\")\n",
    "            Names.append(Name.text)\n",
    "            Prices.append(Price.text)\n",
    "            Vendors.append(V[3])\n",
    "            Links.append(Name.get_attribute(\"href\"))\n",
    "        except:\n",
    "            1==1"
   ]
  },
  {
   "cell_type": "markdown",
   "id": "48eb8baf-317f-4455-8e14-8b86a7182a3f",
   "metadata": {},
   "source": [
    "### Telemart"
   ]
  },
  {
   "cell_type": "code",
   "execution_count": 8,
   "id": "001f1b40-6613-4149-8778-b6b52d896787",
   "metadata": {
    "execution": {
     "iopub.execute_input": "2021-06-02T19:03:49.242225Z",
     "iopub.status.busy": "2021-06-02T19:03:49.242225Z",
     "iopub.status.idle": "2021-06-02T19:03:51.555191Z",
     "shell.execute_reply": "2021-06-02T19:03:51.554193Z",
     "shell.execute_reply.started": "2021-06-02T19:03:49.242225Z"
    }
   },
   "outputs": [],
   "source": [
    "url=\"https://www.telemart.pk/computer/laptops.html\"\n",
    "# driver = webdriver.Chrome(\"C:/Users/Usman/Downloads/chromedriver.exe\")\n",
    "driver.get(url)\n",
    "for i in range(1,30):\n",
    "    try:\n",
    "        Name=driver.find_element_by_xpath(\"/html/body/div[2]/div[3]/div/div/div[2]/div/div[2]/div[1]/div[\"+str(i)+\"]/a/div[2]/h2/span\")\n",
    "        Price=driver.find_element_by_xpath(\"/html/body/div[2]/div[3]/div/div/div[2]/div/div[2]/div[1]/div[\"+str(i)+\"]/a/div[2]/div[2]/ins\")\n",
    "        Names.append(Name.text)\n",
    "        Prices.append(Price.text)\n",
    "        Vendors.append(V[1])\n",
    "        Links.append(Name.get_attribute(\"href\"))\n",
    "    except:\n",
    "        1==1\n",
    "driver.close()\n"
   ]
  },
  {
   "cell_type": "code",
   "execution_count": 9,
   "id": "9df8e9fa-f84a-47da-9957-a403065b8809",
   "metadata": {
    "execution": {
     "iopub.execute_input": "2021-06-02T19:03:51.558183Z",
     "iopub.status.busy": "2021-06-02T19:03:51.558183Z",
     "iopub.status.idle": "2021-06-02T19:03:51.619022Z",
     "shell.execute_reply": "2021-06-02T19:03:51.616032Z",
     "shell.execute_reply.started": "2021-06-02T19:03:51.558183Z"
    }
   },
   "outputs": [
    {
     "data": {
      "text/html": [
       "<div>\n",
       "<style scoped>\n",
       "    .dataframe tbody tr th:only-of-type {\n",
       "        vertical-align: middle;\n",
       "    }\n",
       "\n",
       "    .dataframe tbody tr th {\n",
       "        vertical-align: top;\n",
       "    }\n",
       "\n",
       "    .dataframe thead th {\n",
       "        text-align: right;\n",
       "    }\n",
       "</style>\n",
       "<table border=\"1\" class=\"dataframe\">\n",
       "  <thead>\n",
       "    <tr style=\"text-align: right;\">\n",
       "      <th></th>\n",
       "      <th>Name</th>\n",
       "      <th>Price</th>\n",
       "      <th>Vendor</th>\n",
       "      <th>VendorLink</th>\n",
       "    </tr>\n",
       "  </thead>\n",
       "  <tbody>\n",
       "    <tr>\n",
       "      <th>0</th>\n",
       "      <td>HP ChromeBook 14 G4 - Intel Celeron 02GB 16GB ...</td>\n",
       "      <td>Rs. 16,999</td>\n",
       "      <td>Paklap</td>\n",
       "      <td>https://www.paklap.pk/hp-chromebook-14-g4-lapt...</td>\n",
       "    </tr>\n",
       "    <tr>\n",
       "      <th>1</th>\n",
       "      <td>HP ProBook MT31 Mobile Thin Client - Intel Cel...</td>\n",
       "      <td>Rs. 46,500</td>\n",
       "      <td>Paklap</td>\n",
       "      <td>https://www.paklap.pk/hp-probook-mt31-intel-ce...</td>\n",
       "    </tr>\n",
       "    <tr>\n",
       "      <th>2</th>\n",
       "      <td>HP Chromebook x360 11 G3 EE - Intel Celeron N4...</td>\n",
       "      <td>Rs. 48,500</td>\n",
       "      <td>Paklap</td>\n",
       "      <td>https://www.paklap.pk/hpchromebookx360-11-g3.html</td>\n",
       "    </tr>\n",
       "    <tr>\n",
       "      <th>3</th>\n",
       "      <td>Lenovo Ideapad 330 - Intel Celeron (4MB Cache)...</td>\n",
       "      <td>Rs. 52,999</td>\n",
       "      <td>Paklap</td>\n",
       "      <td>https://www.paklap.pk/lenovo-ideapad-330-celer...</td>\n",
       "    </tr>\n",
       "    <tr>\n",
       "      <th>4</th>\n",
       "      <td>HP Engage Go Mobile Tablet PC - 7th Gen Intel ...</td>\n",
       "      <td>Rs. 54,500</td>\n",
       "      <td>Paklap</td>\n",
       "      <td>https://www.paklap.pk/hpengagego.html</td>\n",
       "    </tr>\n",
       "    <tr>\n",
       "      <th>...</th>\n",
       "      <td>...</td>\n",
       "      <td>...</td>\n",
       "      <td>...</td>\n",
       "      <td>...</td>\n",
       "    </tr>\n",
       "    <tr>\n",
       "      <th>788</th>\n",
       "      <td>Microsoft | Surface Book 3 - 15'' - i7 256GB</td>\n",
       "      <td>Rs 399,500.00</td>\n",
       "      <td>Myshop</td>\n",
       "      <td>https://myshop.pk/microsoft-surface-book-3-15-...</td>\n",
       "    </tr>\n",
       "    <tr>\n",
       "      <th>789</th>\n",
       "      <td>Lenovo Legion 7-15IMH-81YU004DAX Gaming Laptop</td>\n",
       "      <td>Rs 409,500.00</td>\n",
       "      <td>Myshop</td>\n",
       "      <td>https://myshop.pk/lenovo-legion-7-15imh-81yu00...</td>\n",
       "    </tr>\n",
       "    <tr>\n",
       "      <th>790</th>\n",
       "      <td>Dell XPS 15 9500</td>\n",
       "      <td>Rs 409,500.00</td>\n",
       "      <td>Myshop</td>\n",
       "      <td>https://myshop.pk/dell-xps-15-9500-pakistan.html</td>\n",
       "    </tr>\n",
       "    <tr>\n",
       "      <th>791</th>\n",
       "      <td>Apple | Macbook Pro (2019) - 16\" i7 1TB with T...</td>\n",
       "      <td></td>\n",
       "      <td>Myshop</td>\n",
       "      <td>https://myshop.pk/apple-macbook-pro-2019-16-i7...</td>\n",
       "    </tr>\n",
       "    <tr>\n",
       "      <th>792</th>\n",
       "      <td>Acer Predator - Triton 500 i7</td>\n",
       "      <td>Rs 413,100.00</td>\n",
       "      <td>Myshop</td>\n",
       "      <td>https://myshop.pk/acer-predator-triton-500-i7-...</td>\n",
       "    </tr>\n",
       "  </tbody>\n",
       "</table>\n",
       "<p>793 rows × 4 columns</p>\n",
       "</div>"
      ],
      "text/plain": [
       "                                                  Name          Price  Vendor  \\\n",
       "0    HP ChromeBook 14 G4 - Intel Celeron 02GB 16GB ...     Rs. 16,999  Paklap   \n",
       "1    HP ProBook MT31 Mobile Thin Client - Intel Cel...     Rs. 46,500  Paklap   \n",
       "2    HP Chromebook x360 11 G3 EE - Intel Celeron N4...     Rs. 48,500  Paklap   \n",
       "3    Lenovo Ideapad 330 - Intel Celeron (4MB Cache)...     Rs. 52,999  Paklap   \n",
       "4    HP Engage Go Mobile Tablet PC - 7th Gen Intel ...     Rs. 54,500  Paklap   \n",
       "..                                                 ...            ...     ...   \n",
       "788       Microsoft | Surface Book 3 - 15'' - i7 256GB  Rs 399,500.00  Myshop   \n",
       "789     Lenovo Legion 7-15IMH-81YU004DAX Gaming Laptop  Rs 409,500.00  Myshop   \n",
       "790                                   Dell XPS 15 9500  Rs 409,500.00  Myshop   \n",
       "791  Apple | Macbook Pro (2019) - 16\" i7 1TB with T...                 Myshop   \n",
       "792                      Acer Predator - Triton 500 i7  Rs 413,100.00  Myshop   \n",
       "\n",
       "                                            VendorLink  \n",
       "0    https://www.paklap.pk/hp-chromebook-14-g4-lapt...  \n",
       "1    https://www.paklap.pk/hp-probook-mt31-intel-ce...  \n",
       "2    https://www.paklap.pk/hpchromebookx360-11-g3.html  \n",
       "3    https://www.paklap.pk/lenovo-ideapad-330-celer...  \n",
       "4                https://www.paklap.pk/hpengagego.html  \n",
       "..                                                 ...  \n",
       "788  https://myshop.pk/microsoft-surface-book-3-15-...  \n",
       "789  https://myshop.pk/lenovo-legion-7-15imh-81yu00...  \n",
       "790   https://myshop.pk/dell-xps-15-9500-pakistan.html  \n",
       "791  https://myshop.pk/apple-macbook-pro-2019-16-i7...  \n",
       "792  https://myshop.pk/acer-predator-triton-500-i7-...  \n",
       "\n",
       "[793 rows x 4 columns]"
      ]
     },
     "execution_count": 9,
     "metadata": {},
     "output_type": "execute_result"
    }
   ],
   "source": [
    "df = pd.DataFrame(\n",
    "    list(zip(Names, Prices, Vendors, Links)),\n",
    "    columns=[\"Name\", \"Price\", \"Vendor\", \"VendorLink\"],\n",
    ")\n",
    "# df.sort_values([\"Name\", \"Price\"], inplace=True)\n",
    "# df.reset_index(0, inplace=True)\n",
    "df"
   ]
  },
  {
   "cell_type": "code",
   "execution_count": 10,
   "id": "329446ca-8979-4110-b828-277b2250f051",
   "metadata": {
    "execution": {
     "iopub.execute_input": "2021-06-02T19:03:51.621014Z",
     "iopub.status.busy": "2021-06-02T19:03:51.621014Z",
     "iopub.status.idle": "2021-06-02T19:03:51.683851Z",
     "shell.execute_reply": "2021-06-02T19:03:51.679857Z",
     "shell.execute_reply.started": "2021-06-02T19:03:51.621014Z"
    }
   },
   "outputs": [],
   "source": [
    "df.to_csv(\"LaptopsData.csv\")"
   ]
  },
  {
   "cell_type": "code",
   "execution_count": null,
   "id": "86855115-0b3d-4cbe-8eb7-c8618ced3c12",
   "metadata": {
    "execution": {
     "iopub.execute_input": "2021-06-02T19:03:51.686838Z",
     "iopub.status.busy": "2021-06-02T19:03:51.686838Z",
     "iopub.status.idle": "2021-06-02T19:03:51.712770Z",
     "shell.execute_reply": "2021-06-02T19:03:51.710774Z",
     "shell.execute_reply.started": "2021-06-02T19:03:51.686838Z"
    },
    "tags": []
   },
   "outputs": [],
   "source": [
    "cred = credentials.Certificate(\n",
    "    \"C://Users/OwaisGondal/Documents/Python/FYP/test/ServiceAccountKey.json\"\n",
    ")\n",
    "firebase_admin.initialize_app(cred)"
   ]
  },
  {
   "cell_type": "code",
   "execution_count": 12,
   "id": "1df5d830-e5e9-4b66-8b72-c8130d5e2de8",
   "metadata": {
    "execution": {
     "iopub.execute_input": "2021-06-02T19:03:51.716759Z",
     "iopub.status.busy": "2021-06-02T19:03:51.716759Z",
     "iopub.status.idle": "2021-06-02T19:03:51.727729Z",
     "shell.execute_reply": "2021-06-02T19:03:51.726733Z",
     "shell.execute_reply.started": "2021-06-02T19:03:51.716759Z"
    },
    "tags": []
   },
   "outputs": [],
   "source": [
    "# cred = credentials.Certificate(\n",
    "#     \"C://Users/OwaisGondal/Documents/Python/FYP/TestKey.json\"\n",
    "# )\n",
    "# firebase_admin.initialize_app(cred)"
   ]
  },
  {
   "cell_type": "code",
   "execution_count": 13,
   "id": "45df2754-b068-4977-bd90-5c544a3900b4",
   "metadata": {
    "execution": {
     "iopub.execute_input": "2021-06-02T19:03:51.730721Z",
     "iopub.status.busy": "2021-06-02T19:03:51.729725Z",
     "iopub.status.idle": "2021-06-02T19:03:51.743687Z",
     "shell.execute_reply": "2021-06-02T19:03:51.742689Z",
     "shell.execute_reply.started": "2021-06-02T19:03:51.729725Z"
    },
    "tags": []
   },
   "outputs": [],
   "source": [
    "db = firestore.client()  # this connects to Firestore"
   ]
  },
  {
   "cell_type": "code",
   "execution_count": 14,
   "id": "fe696431-3f5c-4612-b40d-acad33f2771b",
   "metadata": {
    "execution": {
     "iopub.execute_input": "2021-06-02T19:03:51.746679Z",
     "iopub.status.busy": "2021-06-02T19:03:51.745682Z",
     "iopub.status.idle": "2021-06-02T19:08:04.851698Z",
     "shell.execute_reply": "2021-06-02T19:08:04.850872Z",
     "shell.execute_reply.started": "2021-06-02T19:03:51.746679Z"
    },
    "tags": []
   },
   "outputs": [],
   "source": [
    "count = 0\n",
    "# SamsungList=[]\n",
    "for i in range(len(df)):\n",
    "    if re.search(\"HP\", df[\"Name\"][i], flags=re.IGNORECASE):\n",
    "        data = {\n",
    "            u\"LaptopID\": count,\n",
    "            u\"LaptopName\": df[\"Name\"][i],\n",
    "            u\"Price\": df[\"Price\"][i],\n",
    "            u\"Vendor\": df[\"Vendor\"][i],\n",
    "            u\"VendorLink\": df[\"VendorLink\"][i],\n",
    "        }\n",
    "\n",
    "        db.collection(u\"Laptops/BrandName/HewletPackard\").add(data)\n",
    "        count += 1\n",
    "    elif re.search(\"Lenovo\", df[\"Name\"][i], flags=re.IGNORECASE):\n",
    "        data = {\n",
    "            u\"LaptopID\": count,\n",
    "            u\"LaptopName\": df[\"Name\"][i],\n",
    "            u\"Price\": df[\"Price\"][i],\n",
    "            u\"Vendor\": df[\"Vendor\"][i],\n",
    "            u\"VendorLink\": df[\"VendorLink\"][i],\n",
    "        }\n",
    "\n",
    "        db.collection(u\"Laptops/BrandName/Lenovo\").add(data)\n",
    "        count += 1\n",
    "    elif re.search(\"Dell\", df[\"Name\"][i], flags=re.IGNORECASE):\n",
    "        data = {\n",
    "            u\"LaptopID\": count,\n",
    "            u\"LaptopName\": df[\"Name\"][i],\n",
    "            u\"Price\": df[\"Price\"][i],\n",
    "            u\"Vendor\": df[\"Vendor\"][i],\n",
    "            u\"VendorLink\": df[\"VendorLink\"][i],\n",
    "        }\n",
    "\n",
    "        db.collection(u\"Laptops/BrandName/Dell\").add(data)\n",
    "        count += 1\n",
    "    elif re.search(\"acer\", df[\"Name\"][i], flags=re.IGNORECASE):\n",
    "        data = {\n",
    "            u\"LaptopID\": count,\n",
    "            u\"LaptopName\": df[\"Name\"][i],\n",
    "            u\"Price\": df[\"Price\"][i],\n",
    "            u\"Vendor\": df[\"Vendor\"][i],\n",
    "            u\"VendorLink\": df[\"VendorLink\"][i],\n",
    "        }\n",
    "\n",
    "        db.collection(u\"Laptops/BrandName/Acer\").add(data)\n",
    "        count += 1\n",
    "    elif re.search(\"samsung\", df[\"Name\"][i], flags=re.IGNORECASE):\n",
    "        data = {\n",
    "            u\"LaptopID\": count,\n",
    "            u\"LaptopName\": df[\"Name\"][i],\n",
    "            u\"Price\": df[\"Price\"][i],\n",
    "            u\"Vendor\": df[\"Vendor\"][i],\n",
    "            u\"VendorLink\": df[\"VendorLink\"][i],\n",
    "        }\n",
    "\n",
    "        db.collection(u\"Laptops/BrandName/Samsung\").add(data)\n",
    "        count += 1\n",
    "    elif re.search(\"macbook\", df[\"Name\"][i], flags=re.IGNORECASE):\n",
    "        data = {\n",
    "            u\"LaptopID\": count,\n",
    "            u\"LaptopName\": df[\"Name\"][i],\n",
    "            u\"Price\": df[\"Price\"][i],\n",
    "            u\"Vendor\": df[\"Vendor\"][i],\n",
    "            u\"VendorLink\": df[\"VendorLink\"][i],\n",
    "        }\n",
    "\n",
    "        db.collection(u\"Laptops/BrandName/Apple\").add(data)\n",
    "        count += 1\n",
    "    elif re.search(\"fujitsu\", df[\"Name\"][i], flags=re.IGNORECASE):\n",
    "        data = {\n",
    "            u\"LaptopID\": count,\n",
    "            u\"LaptopName\": df[\"Name\"][i],\n",
    "            u\"Price\": df[\"Price\"][i],\n",
    "            u\"Vendor\": df[\"Vendor\"][i],\n",
    "            u\"VendorLink\": df[\"VendorLink\"][i],\n",
    "        }\n",
    "\n",
    "        db.collection(u\"Laptops/BrandName/Fujitsu\").add(data)\n",
    "        count += 1\n",
    "    elif re.search(\"msi\", df[\"Name\"][i], flags=re.IGNORECASE):\n",
    "        data = {\n",
    "            u\"LaptopID\": count,\n",
    "            u\"LaptopName\": df[\"Name\"][i],\n",
    "            u\"Price\": df[\"Price\"][i],\n",
    "            u\"Vendor\": df[\"Vendor\"][i],\n",
    "            u\"VendorLink\": df[\"VendorLink\"][i],\n",
    "        }\n",
    "\n",
    "        db.collection(u\"Laptops/BrandName/MSI\").add(data)\n",
    "        count += 1\n",
    "    elif re.search(\"viper\", df[\"Name\"][i], flags=re.IGNORECASE):\n",
    "        data = {\n",
    "            u\"LaptopID\": count,\n",
    "            u\"LaptopName\": df[\"Name\"][i],\n",
    "            u\"Price\": df[\"Price\"][i],\n",
    "            u\"Vendor\": df[\"Vendor\"][i],\n",
    "            u\"VendorLink\": df[\"VendorLink\"][i],\n",
    "        }\n",
    "\n",
    "        db.collection(u\"Laptops/BrandName/Viper\").add(data)\n",
    "        count += 1\n",
    "    elif re.search(\"microsoft\", df[\"Name\"][i], flags=re.IGNORECASE):\n",
    "        data = {\n",
    "            u\"LaptopID\": count,\n",
    "            u\"LaptopName\": df[\"Name\"][i],\n",
    "            u\"Price\": df[\"Price\"][i],\n",
    "            u\"Vendor\": df[\"Vendor\"][i],\n",
    "            u\"VendorLink\": df[\"VendorLink\"][i],\n",
    "        }\n",
    "\n",
    "        db.collection(u\"Laptops/BrandName/Microsoft\").add(data)\n",
    "        count += 1\n",
    "    elif re.search(\"ilife\", df[\"Name\"][i], flags=re.IGNORECASE):\n",
    "        data = {\n",
    "            u\"LaptopID\": count,\n",
    "            u\"LaptopName\": df[\"Name\"][i],\n",
    "            u\"Price\": df[\"Price\"][i],\n",
    "            u\"Vendor\": df[\"Vendor\"][i],\n",
    "            u\"VendorLink\": df[\"VendorLink\"][i],\n",
    "        }\n",
    "\n",
    "        db.collection(u\"Laptops/BrandName/ilife\").add(data)\n",
    "        count += 1\n",
    "    elif re.search(\"Asus\", df[\"Name\"][i], flags=re.IGNORECASE):\n",
    "        data = {\n",
    "            u\"LaptopID\": count,\n",
    "            u\"LaptopName\": df[\"Name\"][i],\n",
    "            u\"Price\": df[\"Price\"][i],\n",
    "            u\"Vendor\": df[\"Vendor\"][i],\n",
    "            u\"VendorLink\": df[\"VendorLink\"][i],\n",
    "        }\n",
    "\n",
    "        db.collection(u\"Laptops/BrandName/Asus\").add(data)\n",
    "        count += 1\n",
    "    else:\n",
    "        data = {\n",
    "            u\"LaptopID\": count,\n",
    "            u\"LaptopName\": df[\"Name\"][i],\n",
    "            u\"Price\": df[\"Price\"][i],\n",
    "            u\"Vendor\": df[\"Vendor\"][i],\n",
    "            u\"VendorLink\": df[\"VendorLink\"][i],\n",
    "        }\n",
    "\n",
    "        db.collection(u\"Laptops/BrandName/Other\").add(data)\n",
    "        count += 1\n"
   ]
  },
  {
   "cell_type": "code",
   "execution_count": 15,
   "id": "18c02603-a75f-4318-ac65-b9cbf762ccea",
   "metadata": {
    "execution": {
     "iopub.execute_input": "2021-06-02T19:08:04.853692Z",
     "iopub.status.busy": "2021-06-02T19:08:04.853692Z",
     "iopub.status.idle": "2021-06-02T19:08:04.867655Z",
     "shell.execute_reply": "2021-06-02T19:08:04.866657Z",
     "shell.execute_reply.started": "2021-06-02T19:08:04.853692Z"
    },
    "tags": []
   },
   "outputs": [],
   "source": [
    "#     if re.search(\"iphone\", df[\"Name\"][i], flags=re.IGNORECASE):\n",
    "#         data = {\n",
    "#             u\"MobileID\": count,\n",
    "#             u\"MobileName\": df[\"Name\"][i],\n",
    "#             u\"Price\": df[\"Price\"][i],\n",
    "#             u\"Vendor\": df[\"Vendor\"][i],\n",
    "#             u\"VendorLink\": df[\"VendorLink\"][i],\n",
    "#         }\n",
    "\n",
    "#         db.collection(u\"MobileProduct/BrandName/Apple\").add(data)\n",
    "#         count += 1\n",
    "\n",
    "#     elif re.search(\"samsung\", df[\"Name\"][i], flags=re.IGNORECASE):\n",
    "#         data = {\n",
    "#             u\"MobileID\": count,\n",
    "#             u\"MobileName\": df[\"Name\"][i],\n",
    "#             u\"Price\": df[\"Price\"][i],\n",
    "#             u\"Vendor\": df[\"Vendor\"][i],\n",
    "#             u\"VendorLink\": df[\"VendorLink\"][i],\n",
    "#         }\n",
    "\n",
    "#         db.collection(u\"MobileProduct/BrandName/Samsung\").add(data)\n",
    "#         count += 1"
   ]
  }
 ],
 "metadata": {
  "kernelspec": {
   "display_name": "Python 3",
   "language": "python",
   "name": "python3"
  },
  "language_info": {
   "codemirror_mode": {
    "name": "ipython",
    "version": 3
   },
   "file_extension": ".py",
   "mimetype": "text/x-python",
   "name": "python",
   "nbconvert_exporter": "python",
   "pygments_lexer": "ipython3",
   "version": "3.8.10"
  }
 },
 "nbformat": 4,
 "nbformat_minor": 5
}
