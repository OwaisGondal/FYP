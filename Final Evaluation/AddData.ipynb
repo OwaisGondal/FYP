{
 "cells": [
  {
   "cell_type": "code",
   "execution_count": 8,
   "id": "d6618270-321a-4b30-ba1d-8c0d5e589c85",
   "metadata": {
    "execution": {
     "iopub.execute_input": "2021-06-01T21:03:44.294996Z",
     "iopub.status.busy": "2021-06-01T21:03:44.294996Z",
     "iopub.status.idle": "2021-06-01T21:03:44.311100Z",
     "shell.execute_reply": "2021-06-01T21:03:44.310103Z",
     "shell.execute_reply.started": "2021-06-01T21:03:44.294996Z"
    },
    "tags": []
   },
   "outputs": [],
   "source": [
    "import re\n",
    "import time\n",
    "\n",
    "import firebase_admin\n",
    "import pandas as pd\n",
    "from firebase_admin import credentials, firestore\n",
    "from selenium import webdriver"
   ]
  },
  {
   "cell_type": "markdown",
   "id": "d3d73ce6-d170-40d6-97ac-b9e7d5b5f17d",
   "metadata": {},
   "source": [
    "#### In case of Scraping using Selenium"
   ]
  },
  {
   "cell_type": "code",
   "execution_count": 9,
   "id": "20823fbb-ebe9-4337-8652-4e5e5bca19c6",
   "metadata": {
    "execution": {
     "iopub.execute_input": "2021-06-01T21:03:49.905675Z",
     "iopub.status.busy": "2021-06-01T21:03:49.905675Z",
     "iopub.status.idle": "2021-06-01T21:03:49.921893Z",
     "shell.execute_reply": "2021-06-01T21:03:49.920894Z",
     "shell.execute_reply.started": "2021-06-01T21:03:49.905675Z"
    },
    "tags": []
   },
   "outputs": [],
   "source": [
    "# driver = webdriver.Chrome(\n",
    "#     \"C:/Users/OwaisGondal/Downloads/Compressed/chromedriver_win32/chromedriver.exe\"\n",
    "# )\n",
    "# Names = []\n",
    "# Prices = []\n",
    "# Links = []\n",
    "# for i in range(1, 80):\n",
    "#     driver.get(\"https://www.daraz.pk/smartphones/?page=\" + str(i))\n",
    "#     try:\n",
    "#         for j in range(1, 40):\n",
    "#             Name = driver.find_element_by_xpath(\n",
    "#                 '//*[@id=\"root\"]/div/div[3]/div[1]/div/div[1]/div[2]/div['\n",
    "#                 + str(j)\n",
    "#                 + \"]/div/div/div[2]/div[2]/a\"\n",
    "#             )\n",
    "#             Price = driver.find_element_by_xpath(\n",
    "#                 '//*[@id=\"root\"]/div/div[3]/div[1]/div/div[1]/div[2]/div['\n",
    "#                 + str(j)\n",
    "#                 + \"]/div/div/div[2]/div[3]/span\"\n",
    "#             )\n",
    "\n",
    "#             Names.append(Name.text)\n",
    "\n",
    "#             Prices.append(Price.text)\n",
    "#             Links.append(Name.get_attribute(\"href\"))\n",
    "#     except:\n",
    "#         1 == 1\n",
    "# driver.close()"
   ]
  },
  {
   "cell_type": "markdown",
   "id": "37d17a73-e06e-420b-84c1-ab6e633ab8b6",
   "metadata": {},
   "source": [
    "#### Uncomment and run this cell in case of Scraping"
   ]
  },
  {
   "cell_type": "code",
   "execution_count": 3,
   "id": "faee1098-7e2a-41f1-a48f-a0e36526baf7",
   "metadata": {
    "execution": {
     "iopub.execute_input": "2021-06-01T12:19:47.158223Z",
     "iopub.status.busy": "2021-06-01T12:19:47.158223Z",
     "iopub.status.idle": "2021-06-01T12:19:47.171186Z",
     "shell.execute_reply": "2021-06-01T12:19:47.170188Z",
     "shell.execute_reply.started": "2021-06-01T12:19:47.158223Z"
    },
    "tags": []
   },
   "outputs": [],
   "source": [
    "# df = pd.DataFrame(list(zip(Names, Prices, Links)), columns=[\"Name\", \"Price\", \"Links\"])\n",
    "# df.reset_index(0, inplace=True)\n",
    "# df.drop(columns=[\"index\"], inplace=True)\n",
    "# df"
   ]
  },
  {
   "cell_type": "markdown",
   "id": "38afdc9e-7f86-4417-b162-ad00efb278f9",
   "metadata": {},
   "source": [
    "### Otherwise just read data from CSV File"
   ]
  },
  {
   "cell_type": "code",
   "execution_count": 4,
   "id": "491317fb-f382-4c02-b989-36220b984f78",
   "metadata": {
    "execution": {
     "iopub.execute_input": "2021-06-01T12:19:47.785209Z",
     "iopub.status.busy": "2021-06-01T12:19:47.785209Z",
     "iopub.status.idle": "2021-06-01T12:19:47.829093Z",
     "shell.execute_reply": "2021-06-01T12:19:47.828095Z",
     "shell.execute_reply.started": "2021-06-01T12:19:47.785209Z"
    },
    "tags": []
   },
   "outputs": [],
   "source": [
    "df = pd.read_csv(\"Daraz.csv\")"
   ]
  },
  {
   "cell_type": "markdown",
   "id": "cbf671ef-562b-48d3-8772-c4368137ec49",
   "metadata": {},
   "source": [
    "#### Preprocessing"
   ]
  },
  {
   "cell_type": "code",
   "execution_count": 5,
   "id": "61609b0b-5c13-44c1-9b5b-2a0120edb8f6",
   "metadata": {
    "execution": {
     "iopub.execute_input": "2021-06-01T12:19:48.880737Z",
     "iopub.status.busy": "2021-06-01T12:19:48.880737Z",
     "iopub.status.idle": "2021-06-01T12:19:48.911623Z",
     "shell.execute_reply": "2021-06-01T12:19:48.910625Z",
     "shell.execute_reply.started": "2021-06-01T12:19:48.880737Z"
    },
    "tags": []
   },
   "outputs": [],
   "source": [
    "new1 = df[\"Price\"].str.split(\" \", expand=True)\n",
    "new1[1] = new1[1].str.replace(\",\", \"\").astype(float)\n",
    "df[\"Price\"] = new1[1]"
   ]
  },
  {
   "cell_type": "markdown",
   "id": "345fb5bc-4ebc-499c-b29f-0d2fd8e3a69d",
   "metadata": {
    "execution": {
     "iopub.execute_input": "2021-06-01T10:51:13.571719Z",
     "iopub.status.busy": "2021-06-01T10:51:13.570720Z",
     "iopub.status.idle": "2021-06-01T10:51:13.583686Z",
     "shell.execute_reply": "2021-06-01T10:51:13.582688Z",
     "shell.execute_reply.started": "2021-06-01T10:51:13.571719Z"
    },
    "tags": []
   },
   "source": [
    "#### Connecting to Firebase"
   ]
  },
  {
   "cell_type": "code",
   "execution_count": 10,
   "id": "f50d16a2-c716-4711-829a-fba0591c9b65",
   "metadata": {
    "execution": {
     "iopub.execute_input": "2021-06-01T21:03:58.116846Z",
     "iopub.status.busy": "2021-06-01T21:03:58.116846Z",
     "iopub.status.idle": "2021-06-01T21:03:58.158022Z",
     "shell.execute_reply": "2021-06-01T21:03:58.158022Z",
     "shell.execute_reply.started": "2021-06-01T21:03:58.116846Z"
    },
    "tags": []
   },
   "outputs": [
    {
     "data": {
      "text/plain": [
       "<firebase_admin.App at 0x27c71225580>"
      ]
     },
     "execution_count": 10,
     "metadata": {},
     "output_type": "execute_result"
    }
   ],
   "source": [
    "cred = credentials.Certificate(\n",
    "    \"C://Users/OwaisGondal/Documents/Python/FYP/test/ServiceAccountKey.json\"\n",
    ")\n",
    "firebase_admin.initialize_app(cred)"
   ]
  },
  {
   "cell_type": "code",
   "execution_count": 11,
   "id": "c2888277-febc-490b-8561-b7817599c1ab",
   "metadata": {
    "execution": {
     "iopub.execute_input": "2021-06-01T21:04:00.344032Z",
     "iopub.status.busy": "2021-06-01T21:04:00.344032Z",
     "iopub.status.idle": "2021-06-01T21:04:00.360416Z",
     "shell.execute_reply": "2021-06-01T21:04:00.359417Z",
     "shell.execute_reply.started": "2021-06-01T21:04:00.344032Z"
    },
    "tags": []
   },
   "outputs": [],
   "source": [
    "db = firestore.client()  # this connects to Firestore"
   ]
  },
  {
   "cell_type": "code",
   "execution_count": 14,
   "id": "276a8696-9700-4503-b86f-7229752f894d",
   "metadata": {
    "execution": {
     "iopub.execute_input": "2021-06-01T21:07:27.514852Z",
     "iopub.status.busy": "2021-06-01T21:07:27.514852Z",
     "iopub.status.idle": "2021-06-01T21:07:29.566166Z",
     "shell.execute_reply": "2021-06-01T21:07:29.566166Z",
     "shell.execute_reply.started": "2021-06-01T21:07:27.514852Z"
    },
    "tags": []
   },
   "outputs": [
    {
     "data": {
      "text/plain": [
       "DatetimeWithNanoseconds(2021, 6, 1, 21, 7, 29, 488173, tzinfo=datetime.timezone.utc)"
      ]
     },
     "execution_count": 14,
     "metadata": {},
     "output_type": "execute_result"
    }
   ],
   "source": [
    "db.collection(\"MobileProduct\").document(u'BrandName').delete()"
   ]
  },
  {
   "cell_type": "markdown",
   "id": "9aa24ab3-02b2-4df6-83f2-945d0874332e",
   "metadata": {},
   "source": [
    "### Adding Vendors to Database"
   ]
  },
  {
   "cell_type": "code",
   "execution_count": 68,
   "id": "1f34fe51-a4ee-4548-a45e-29814044ad1e",
   "metadata": {
    "execution": {
     "iopub.execute_input": "2021-06-01T14:26:16.194373Z",
     "iopub.status.busy": "2021-06-01T14:26:16.194373Z",
     "iopub.status.idle": "2021-06-01T14:26:16.211267Z",
     "shell.execute_reply": "2021-06-01T14:26:16.210297Z",
     "shell.execute_reply.started": "2021-06-01T14:26:16.194373Z"
    },
    "tags": []
   },
   "outputs": [],
   "source": [
    "# Vendors=[\"Daraz\",\"Telemart\",\"zaibis\",\"Myshop\",\"Symbios.pk\",\"Homeshopping\",\"Paklap\",\"Czone\"]\n",
    "# Links=[\"www.daraz.pk\",\"www.telemart.pk\",\"www.zaibis.com\",\"www.myshop.pk\",\"www.symbios.pk\",\"www.homeshopping.pk\",\"www.paklap.pk\",\"www.czone.com.pk\"]\n",
    "\n",
    "# for i in range(len(vendors)):\n",
    "#     data = {\n",
    "#         u\"VendorID\": i,\n",
    "#         u\"vendorName\": Vendors[i],\n",
    "#         u\"VendorLink\": Links[i],\n",
    "#     }\n",
    "#     db.collection('Vendor').document(u\"Vendor/VendorDocument\").add(data)"
   ]
  },
  {
   "cell_type": "markdown",
   "id": "10b5fc12-21f5-4cec-97cb-0a686bfb78e6",
   "metadata": {},
   "source": [
    "#### Adding Data to Firestore"
   ]
  },
  {
   "cell_type": "code",
   "execution_count": 8,
   "id": "552e3562-34dc-48dc-8436-6740f356f00b",
   "metadata": {
    "execution": {
     "iopub.execute_input": "2021-06-01T12:19:52.537104Z",
     "iopub.status.busy": "2021-06-01T12:19:52.537104Z",
     "iopub.status.idle": "2021-06-01T12:33:49.831201Z",
     "shell.execute_reply": "2021-06-01T12:33:49.830202Z",
     "shell.execute_reply.started": "2021-06-01T12:19:52.537104Z"
    },
    "tags": []
   },
   "outputs": [],
   "source": [
    "count = 0\n",
    "# SamsungList=[]\n",
    "for i in range(len(df)):\n",
    "    if re.search(\"iphone\", df[\"Name\"][i], flags=re.IGNORECASE):\n",
    "        data = {\n",
    "            u\"MobileID\": count,\n",
    "            u\"MobileName\": df[\"Name\"][i],\n",
    "            u\"Price\": df[\"Price\"][i],\n",
    "            u\"Vendor\": u\"Daraz\",\n",
    "            u\"VendorLink\": df[\"Links\"][i],\n",
    "        }\n",
    "\n",
    "        db.collection(u\"MobileProduct/BrandName/Apple\").add(data)\n",
    "        count += 1\n",
    "\n",
    "    elif re.search(\"samsung\", df[\"Name\"][i], flags=re.IGNORECASE):\n",
    "        data = {\n",
    "            u\"MobileID\": count,\n",
    "            u\"MobileName\": df[\"Name\"][i],\n",
    "            u\"Price\": df[\"Price\"][i],\n",
    "            u\"Vendor\": u\"Daraz\",\n",
    "            u\"VendorLink\": df[\"Links\"][i],\n",
    "        }\n",
    "\n",
    "        db.collection(u\"MobileProduct/BrandName/Samsung\").add(data)\n",
    "        count += 1\n",
    "\n",
    "    elif re.search(\"huawei\", df[\"Name\"][i], flags=re.IGNORECASE):\n",
    "        data = {\n",
    "            u\"MobileID\": count,\n",
    "            u\"MobileName\": df[\"Name\"][i],\n",
    "            u\"Price\": df[\"Price\"][i],\n",
    "            u\"Vendor\": u\"Daraz\",\n",
    "            u\"VendorLink\": df[\"Links\"][i],\n",
    "        }\n",
    "        db.collection(u\"MobileProduct/BrandName/Huawei\").add(data)\n",
    "        count += 1\n",
    "\n",
    "    elif re.search(\"vivo\", df[\"Name\"][i], flags=re.IGNORECASE):\n",
    "        data = {\n",
    "            u\"MobileID\": count,\n",
    "            u\"MobileName\": df[\"Name\"][i],\n",
    "            u\"Price\": df[\"Price\"][i],\n",
    "            u\"Vendor\": u\"Daraz\",\n",
    "            u\"VendorLink\": df[\"Links\"][i],\n",
    "        }\n",
    "        db.collection(u\"MobileProduct/BrandName/Vivo\").add(data)\n",
    "        count += 1\n",
    "\n",
    "    elif re.search(\"oppo\", df[\"Name\"][i], flags=re.IGNORECASE):\n",
    "        data = {\n",
    "            u\"MobileID\": count,\n",
    "            u\"MobileName\": df[\"Name\"][i],\n",
    "            u\"Price\": df[\"Price\"][i],\n",
    "            u\"Vendor\": u\"Daraz\",\n",
    "            u\"VendorLink\": df[\"Links\"][i],\n",
    "        }\n",
    "        db.collection(u\"MobileProduct/BrandName/Oppo\").add(data)\n",
    "        count += 1\n",
    "\n",
    "    elif re.search(\"realme\", df[\"Name\"][i], flags=re.IGNORECASE):\n",
    "        data = {\n",
    "            u\"MobileID\": count,\n",
    "            u\"MobileName\": df[\"Name\"][i],\n",
    "            u\"Price\": df[\"Price\"][i],\n",
    "            u\"Vendor\": u\"Daraz\",\n",
    "            u\"VendorLink\": df[\"Links\"][i],\n",
    "        }\n",
    "        db.collection(u\"MobileProduct/BrandName/Realme\").add(data)\n",
    "        count += 1\n",
    "\n",
    "    elif re.search(\"nokia\", df[\"Name\"][i], flags=re.IGNORECASE):\n",
    "        data = {\n",
    "            u\"MobileID\": count,\n",
    "            u\"MobileName\": df[\"Name\"][i],\n",
    "            u\"Price\": df[\"Price\"][i],\n",
    "            u\"Vendor\": u\"Daraz\",\n",
    "            u\"VendorLink\": df[\"Links\"][i],\n",
    "        }\n",
    "        db.collection(u\"MobileProduct/BrandName/Nokia\").add(data)\n",
    "        count += 1\n",
    "\n",
    "    elif re.search(\"xiaomi\", df[\"Name\"][i], flags=re.IGNORECASE):\n",
    "        data = {\n",
    "            u\"MobileID\": count,\n",
    "            u\"MobileName\": df[\"Name\"][i],\n",
    "            u\"Price\": df[\"Price\"][i],\n",
    "            u\"Vendor\": u\"Daraz\",\n",
    "            u\"VendorLink\": df[\"Links\"][i],\n",
    "        }\n",
    "        db.collection(u\"MobileProduct/BrandName/Xiaomi\").add(data)\n",
    "        count += 1\n",
    "\n",
    "    elif re.search(\"infinix\", df[\"Name\"][i], flags=re.IGNORECASE):\n",
    "        data = {\n",
    "            u\"MobileID\": count,\n",
    "            u\"MobileName\": df[\"Name\"][i],\n",
    "            u\"Price\": df[\"Price\"][i],\n",
    "            u\"Vendor\": u\"Daraz\",\n",
    "            u\"VendorLink\": df[\"Links\"][i],\n",
    "        }\n",
    "        db.collection(u\"MobileProduct/BrandName/Infinix\").add(data)\n",
    "        count += 1\n",
    "\n",
    "    elif re.search(\"Tecno\", df[\"Name\"][i], flags=re.IGNORECASE):\n",
    "        data = {\n",
    "            u\"MobileID\": count,\n",
    "            u\"MobileName\": df[\"Name\"][i],\n",
    "            u\"Price\": df[\"Price\"][i],\n",
    "            u\"Vendor\": u\"Daraz\",\n",
    "            u\"VendorLink\": df[\"Links\"][i],\n",
    "        }\n",
    "        db.collection(u\"MobileProduct/BrandName/Tecno\").add(data)\n",
    "        count += 1\n",
    "\n",
    "    elif re.search(\"qmobile\", df[\"Name\"][i], flags=re.IGNORECASE):\n",
    "        data = {\n",
    "            u\"MobileID\": count,\n",
    "            u\"MobileName\": df[\"Name\"][i],\n",
    "            u\"Price\": df[\"Price\"][i],\n",
    "            u\"Vendor\": u\"Daraz\",\n",
    "            u\"VendorLink\": df[\"Links\"][i],\n",
    "        }\n",
    "        db.collection(u\"MobileProduct/BrandName/Qmobile\").add(data)\n",
    "        count += 1\n",
    "\n",
    "    elif re.search(\"lenovo\", df[\"Name\"][i], flags=re.IGNORECASE):\n",
    "        data = {\n",
    "            u\"MobileID\": count,\n",
    "            u\"MobileName\": df[\"Name\"][i],\n",
    "            u\"Price\": df[\"Price\"][i],\n",
    "            u\"Vendor\": u\"Daraz\",\n",
    "            u\"VendorLink\": df[\"Links\"][i],\n",
    "        }\n",
    "        db.collection(u\"MobileProduct/BrandName/Lenovo\").add(data)\n",
    "        count += 1\n",
    "\n",
    "    elif re.search(\"sony\", df[\"Name\"][i], flags=re.IGNORECASE):\n",
    "        data = {\n",
    "            u\"MobileID\": count,\n",
    "            u\"MobileName\": df[\"Name\"][i],\n",
    "            u\"Price\": df[\"Price\"][i],\n",
    "            u\"Vendor\": u\"Daraz\",\n",
    "            u\"VendorLink\": df[\"Links\"][i],\n",
    "        }\n",
    "        db.collection(u\"MobileProduct/BrandName/Sony\").add(data)\n",
    "        count += 1\n",
    "\n",
    "    elif re.search(\"LG\", df[\"Name\"][i], flags=re.IGNORECASE):\n",
    "        data = {\n",
    "            u\"MobileID\": count,\n",
    "            u\"MobileName\": df[\"Name\"][i],\n",
    "            u\"Price\": df[\"Price\"][i],\n",
    "            u\"Vendor\": u\"Daraz\",\n",
    "            u\"VendorLink\": df[\"Links\"][i],\n",
    "        }\n",
    "        db.collection(u\"MobileProduct/BrandName/LG\").add(data)\n",
    "        count += 1\n",
    "\n",
    "    elif re.search(\"itel\", df[\"Name\"][i], flags=re.IGNORECASE):\n",
    "        data = {\n",
    "            u\"MobileID\": count,\n",
    "            u\"MobileName\": df[\"Name\"][i],\n",
    "            u\"Price\": df[\"Price\"][i],\n",
    "            u\"Vendor\": u\"Daraz\",\n",
    "            u\"VendorLink\": df[\"Links\"][i],\n",
    "        }\n",
    "        db.collection(u\"MobileProduct/BrandName/itel\").add(data)\n",
    "        count += 1\n",
    "\n",
    "    elif re.search(\"Oneplus\", df[\"Name\"][i], flags=re.IGNORECASE):\n",
    "        data = {\n",
    "            u\"MobileID\": count,\n",
    "            u\"MobileName\": df[\"Name\"][i],\n",
    "            u\"Price\": df[\"Price\"][i],\n",
    "            u\"Vendor\": u\"Daraz\",\n",
    "            u\"VendorLink\": df[\"Links\"][i],\n",
    "        }\n",
    "        db.collection(u\"MobileProduct/BrandName/OnePlus\").add(data)\n",
    "        count += 1\n",
    "\n",
    "    elif re.search(\"Telenor\", df[\"Name\"][i], flags=re.IGNORECASE):\n",
    "        data = {\n",
    "            u\"MobileID\": count,\n",
    "            u\"MobileName\": df[\"Name\"][i],\n",
    "            u\"Price\": df[\"Price\"][i],\n",
    "            u\"Vendor\": u\"Daraz\",\n",
    "            u\"VendorLink\": df[\"Links\"][i],\n",
    "        }\n",
    "        db.collection(u\"MobileProduct/BrandName/Telenor\").add(data)\n",
    "        count += 1\n",
    "\n",
    "    elif re.search(\"Alcatel\", df[\"Name\"][i], flags=re.IGNORECASE):\n",
    "        data = {\n",
    "            u\"MobileID\": count,\n",
    "            u\"MobileName\": df[\"Name\"][i],\n",
    "            u\"Price\": df[\"Price\"][i],\n",
    "            u\"Vendor\": u\"Daraz\",\n",
    "            u\"VendorLink\": df[\"Links\"][i],\n",
    "        }\n",
    "        db.collection(u\"MobileProduct/BrandName/Alcatel\").add(data)\n",
    "        count += 1\n",
    "\n",
    "    elif re.search(\"HTC\", df[\"Name\"][i], flags=re.IGNORECASE):\n",
    "        data = {\n",
    "            u\"MobileID\": count,\n",
    "            u\"MobileName\": df[\"Name\"][i],\n",
    "            u\"Price\": df[\"Price\"][i],\n",
    "            u\"Vendor\": u\"Daraz\",\n",
    "            u\"VendorLink\": df[\"Links\"][i],\n",
    "        }\n",
    "        db.collection(u\"MobileProduct/BrandName/HTC\").add(data)\n",
    "        count += 1\n",
    "\n",
    "    elif re.search(\"Moto\", df[\"Name\"][i], flags=re.IGNORECASE):\n",
    "        data = {\n",
    "            u\"MobileID\": count,\n",
    "            u\"MobileName\": df[\"Name\"][i],\n",
    "            u\"Price\": df[\"Price\"][i],\n",
    "            u\"Vendor\": u\"Daraz\",\n",
    "            u\"VendorLink\": df[\"Links\"][i],\n",
    "        }\n",
    "        db.collection(u\"MobileProduct/BrandName/Motorola\").add(data)\n",
    "        count += 1\n",
    "    elif re.search(\"Calme\", df[\"Name\"][i], flags=re.IGNORECASE):\n",
    "        data = {\n",
    "            u\"MobileID\": count,\n",
    "            u\"MobileName\": df[\"Name\"][i],\n",
    "            u\"Price\": df[\"Price\"][i],\n",
    "            u\"Vendor\": u\"Daraz\",\n",
    "            u\"VendorLink\": df[\"Links\"][i],\n",
    "        }\n",
    "        db.collection(u\"MobileProduct/BrandName/Calme\").add(data)\n",
    "        count += 1\n",
    "\n",
    "    elif re.search(\"gfive\", df[\"Name\"][i], flags=re.IGNORECASE):\n",
    "        data = {\n",
    "            u\"MobileID\": count,\n",
    "            u\"MobileName\": df[\"Name\"][i],\n",
    "            u\"Price\": df[\"Price\"][i],\n",
    "            u\"Vendor\": u\"Daraz\",\n",
    "            u\"VendorLink\": df[\"Links\"][i],\n",
    "        }\n",
    "        db.collection(u\"MobileProduct/BrandName/GFive\").add(data)\n",
    "        count += 1\n",
    "    else:\n",
    "        data = {\n",
    "            u\"MobileID\": count,\n",
    "            u\"MobileName\": df[\"Name\"][i],\n",
    "            u\"Price\": df[\"Price\"][i],\n",
    "            u\"Vendor\": u\"Daraz\",\n",
    "            u\"VendorLink\": df[\"Links\"][i],\n",
    "        }\n",
    "        db.collection(u\"MobileProduct/BrandName/Other\").add(data)\n",
    "        count += 1"
   ]
  },
  {
   "cell_type": "code",
   "execution_count": 8,
   "id": "174fc37b-4b4b-4477-8517-5392f9a7f2e5",
   "metadata": {
    "execution": {
     "iopub.execute_input": "2021-06-01T13:29:15.899910Z",
     "iopub.status.busy": "2021-06-01T13:29:15.899910Z",
     "iopub.status.idle": "2021-06-01T13:29:33.799101Z",
     "shell.execute_reply": "2021-06-01T13:29:33.797590Z",
     "shell.execute_reply.started": "2021-06-01T13:29:15.899910Z"
    },
    "tags": []
   },
   "outputs": [],
   "source": [
    "driver = webdriver.Chrome(\n",
    "    \"C:/Users/OwaisGondal/Downloads/Compressed/chromedriver_win32/chromedriver.exe\"\n",
    ")\n",
    "Names = []\n",
    "Prices = []\n",
    "Links = []\n",
    "Images = []\n",
    "i = 1\n",
    "driver.get(\"https://www.daraz.pk/smartphones/?page=\" + str(i))\n",
    "try:\n",
    "    for j in range(1, 40):\n",
    "        Name = driver.find_element_by_xpath(\n",
    "            '//*[@id=\"root\"]/div/div[3]/div[1]/div/div[1]/div[2]/div['\n",
    "            + str(j)\n",
    "            + \"]/div/div/div[2]/div[2]/a\"\n",
    "        )\n",
    "        Price = driver.find_element_by_xpath(\n",
    "            '//*[@id=\"root\"]/div/div[3]/div[1]/div/div[1]/div[2]/div['\n",
    "            + str(j)\n",
    "            + \"]/div/div/div[2]/div[3]/span\"\n",
    "        )\n",
    "        Image = driver.find_elements_by_xpath(\n",
    "            '//*[@id=\"root\"]/div/div[3]/div[1]/div/div[1]/div[2]/div['\n",
    "            + str(j)\n",
    "            + \"]/div/div/div[1]/div[1]/a/img\"\n",
    "        )\n",
    "        Names.append(Name.text)\n",
    "        Images.append(Image.get_attribute(\"src\"))\n",
    "        Prices.append(Price.text)\n",
    "        Links.append(Name.get_attribute(\"href\"))\n",
    "except:\n",
    "    1 == 1\n",
    "driver.close()"
   ]
  },
  {
   "cell_type": "code",
   "execution_count": 9,
   "id": "833c7f65-de3f-438f-be9c-b0749c6073f2",
   "metadata": {
    "execution": {
     "iopub.execute_input": "2021-06-01T13:29:37.245829Z",
     "iopub.status.busy": "2021-06-01T13:29:37.245829Z",
     "iopub.status.idle": "2021-06-01T13:29:37.262784Z",
     "shell.execute_reply": "2021-06-01T13:29:37.261787Z",
     "shell.execute_reply.started": "2021-06-01T13:29:37.245829Z"
    },
    "tags": []
   },
   "outputs": [
    {
     "data": {
      "text/html": [
       "<div>\n",
       "<style scoped>\n",
       "    .dataframe tbody tr th:only-of-type {\n",
       "        vertical-align: middle;\n",
       "    }\n",
       "\n",
       "    .dataframe tbody tr th {\n",
       "        vertical-align: top;\n",
       "    }\n",
       "\n",
       "    .dataframe thead th {\n",
       "        text-align: right;\n",
       "    }\n",
       "</style>\n",
       "<table border=\"1\" class=\"dataframe\">\n",
       "  <thead>\n",
       "    <tr style=\"text-align: right;\">\n",
       "      <th></th>\n",
       "      <th>Name</th>\n",
       "      <th>Price</th>\n",
       "      <th>Links</th>\n",
       "      <th>Images</th>\n",
       "    </tr>\n",
       "  </thead>\n",
       "  <tbody>\n",
       "  </tbody>\n",
       "</table>\n",
       "</div>"
      ],
      "text/plain": [
       "Empty DataFrame\n",
       "Columns: [Name, Price, Links, Images]\n",
       "Index: []"
      ]
     },
     "execution_count": 9,
     "metadata": {},
     "output_type": "execute_result"
    }
   ],
   "source": [
    "df1 = pd.DataFrame(\n",
    "    list(zip(Names, Prices, Links, Images)),\n",
    "    columns=[\"Name\", \"Price\", \"Links\", \"Images\"],\n",
    ")\n",
    "df1.reset_index(0, inplace=True)\n",
    "df1.drop(columns=[\"index\"], inplace=True)\n",
    "df1"
   ]
  },
  {
   "cell_type": "code",
   "execution_count": 78,
   "id": "ed7b4a48-45cf-4626-8d1e-835f7b5fe075",
   "metadata": {
    "execution": {
     "iopub.execute_input": "2021-06-01T14:39:09.808737Z",
     "iopub.status.busy": "2021-06-01T14:39:09.808737Z",
     "iopub.status.idle": "2021-06-01T14:39:25.989659Z",
     "shell.execute_reply": "2021-06-01T14:39:25.988662Z",
     "shell.execute_reply.started": "2021-06-01T14:39:09.808737Z"
    },
    "tags": []
   },
   "outputs": [],
   "source": [
    "driver = webdriver.Chrome(\n",
    "    \"C:/Users/OwaisGondal/Downloads/Compressed/chromedriver_win32/chromedriver.exe\"\n",
    ")\n",
    "driver.get(\"https://www.daraz.pk/smartphones/?page=1\")"
   ]
  },
  {
   "cell_type": "code",
   "execution_count": 83,
   "id": "c7b9691f-2310-4eed-8b05-cd9e172bab57",
   "metadata": {
    "execution": {
     "iopub.execute_input": "2021-06-01T14:50:12.486731Z",
     "iopub.status.busy": "2021-06-01T14:50:12.485736Z",
     "iopub.status.idle": "2021-06-01T14:50:12.530615Z",
     "shell.execute_reply": "2021-06-01T14:50:12.529616Z",
     "shell.execute_reply.started": "2021-06-01T14:50:12.486731Z"
    },
    "tags": []
   },
   "outputs": [
    {
     "data": {
      "text/plain": [
       "[]"
      ]
     },
     "execution_count": 83,
     "metadata": {},
     "output_type": "execute_result"
    }
   ],
   "source": [
    "Image = driver.find_elements_by_xpath(\n",
    "    '//*[@id=\"root\"]/div/div[3]/div[1]/div/div[1]/div[2]/div[1]/div/div/div[1]/div[1]/a/img'\n",
    ")\n",
    "# Image.get_attribute()\n",
    "Image"
   ]
  },
  {
   "cell_type": "code",
   "execution_count": 39,
   "id": "814c8d99-96a4-4b37-9ce2-83fb5232c409",
   "metadata": {
    "execution": {
     "iopub.execute_input": "2021-06-01T13:52:11.846826Z",
     "iopub.status.busy": "2021-06-01T13:52:11.846826Z",
     "iopub.status.idle": "2021-06-01T13:52:11.888801Z",
     "shell.execute_reply": "2021-06-01T13:52:11.886807Z",
     "shell.execute_reply.started": "2021-06-01T13:52:11.846826Z"
    },
    "tags": []
   },
   "outputs": [
    {
     "name": "stdout",
     "output_type": "stream",
     "text": [
      "None\n"
     ]
    }
   ],
   "source": [
    "# Name = driver.find_element_by_xpath('//*[@id=\"root\"]/div/div[3]/div[1]/div/div[1]/div[2]/div[1]/div/div/div[2]/div[2]/a')\n",
    "# Name.get_attribute('img')\n",
    "# Img = driver.find_element_by_xpath(\n",
    "#     '//*[@id=\"root\"]/div/div[3]/div[1]/div/div[1]/div[2]/div[4]'\n",
    "# )\n",
    "# # Img\n",
    "# print(Img.get_attribute(\"img\"))"
   ]
  },
  {
   "cell_type": "code",
   "execution_count": 88,
   "id": "d3b2eec8-1ef6-4ecf-b59d-ad99233c8ea3",
   "metadata": {
    "execution": {
     "iopub.execute_input": "2021-06-01T14:56:25.579114Z",
     "iopub.status.busy": "2021-06-01T14:56:25.579114Z",
     "iopub.status.idle": "2021-06-01T14:56:42.880591Z",
     "shell.execute_reply": "2021-06-01T14:56:42.879648Z",
     "shell.execute_reply.started": "2021-06-01T14:56:25.579114Z"
    },
    "tags": []
   },
   "outputs": [],
   "source": [
    "img_urls = []\n",
    "page_scroll_sleep = 2\n",
    "\n",
    "# Get scroll height\n",
    "last_height = driver.execute_script(\"return document.body.scrollHeight\")\n",
    "\n",
    "while True:\n",
    "    # Scroll down to bottom\n",
    "    driver.execute_script(\"window.scrollTo(0, document.body.scrollHeight);\")\n",
    "\n",
    "    # Wait to load page\n",
    "    time.sleep(page_scroll_sleep)\n",
    "\n",
    "    # Calculate new scroll height and compare with last scroll height\n",
    "    new_height = driver.execute_script(\"return document.body.scrollHeight\")\n",
    "\n",
    "    if new_height == last_height:\n",
    "        # break #insert press load more\n",
    "        try:\n",
    "            element = driver.find_elements_by_class_name(\"c1ZEkM\")  # returns list\n",
    "            element[0].click()\n",
    "        except:\n",
    "            break\n",
    "    last_height = new_height"
   ]
  },
  {
   "cell_type": "code",
   "execution_count": 91,
   "id": "7a087382-0bd2-4ce9-9c19-9b33b2f446f5",
   "metadata": {
    "execution": {
     "iopub.execute_input": "2021-06-01T14:57:47.629051Z",
     "iopub.status.busy": "2021-06-01T14:57:47.629051Z",
     "iopub.status.idle": "2021-06-01T14:57:47.658577Z",
     "shell.execute_reply": "2021-06-01T14:57:47.657488Z",
     "shell.execute_reply.started": "2021-06-01T14:57:47.629051Z"
    },
    "scrolled": true,
    "tags": []
   },
   "outputs": [
    {
     "data": {
      "text/plain": [
       "[]"
      ]
     },
     "execution_count": 91,
     "metadata": {},
     "output_type": "execute_result"
    }
   ],
   "source": [
    "actual_images = driver.find_elements_by_css_selector(\"img.c1ZEkM \")\n",
    "\n",
    "for actual_image in actual_images:\n",
    "    img_urls.append(actual_image.get_attribute(\"src\"))\n",
    "img_urls"
   ]
  },
  {
   "cell_type": "code",
   "execution_count": null,
   "id": "0dc01d03-3ca2-43aa-a611-6c129bed6f03",
   "metadata": {},
   "outputs": [],
   "source": [
    "url = \"https://homeshopping.pk/categories/Mobile-Phones-Price-Pakistan\"\n",
    "\n",
    "\n",
    "driver.get(url)\n",
    "for j in range(1, 21):\n",
    "    driver.execute_script(\"window.scrollTo(0, 300)\")\n",
    "    ++j\n",
    "    for i in range(1, 25):\n",
    "        Name = driver.find_element_by_xpath(\n",
    "            \"/html/body/div[1]/div[9]/div[2]/div[2]/div[5]/div/div[\"\n",
    "            + str(i)\n",
    "            + \"]/div/h5/a\"\n",
    "        )\n",
    "        Price = driver.find_element_by_xpath(\n",
    "            \"/html/body/div[1]/div[9]/div[2]/div[2]/div[5]/div/div[\"\n",
    "            + str(i)\n",
    "            + \"]/div/div[2]/a/div\"\n",
    "        )\n",
    "        name.append(target_name.text)\n",
    "        price.append(target_prize.text)\n",
    "\n",
    "driver.close()"
   ]
  },
  {
   "cell_type": "code",
   "execution_count": null,
   "id": "60636b51-3cd5-4d5a-af10-daefab37d2b8",
   "metadata": {},
   "outputs": [],
   "source": []
  },
  {
   "cell_type": "code",
   "execution_count": 5,
   "id": "d37fbc7c-8bae-45e9-9919-bc5feb3ce7c8",
   "metadata": {
    "execution": {
     "iopub.execute_input": "2021-06-01T20:18:43.459659Z",
     "iopub.status.busy": "2021-06-01T20:18:43.459659Z",
     "iopub.status.idle": "2021-06-01T20:19:20.596219Z",
     "shell.execute_reply": "2021-06-01T20:19:20.595223Z",
     "shell.execute_reply.started": "2021-06-01T20:18:43.459659Z"
    },
    "tags": []
   },
   "outputs": [],
   "source": [
    "driver = webdriver.Chrome(\n",
    "    \"C:/Users/OwaisGondal/Downloads/Compressed/chromedriver_win32/chromedriver.exe\"\n",
    ")\n",
    "driver.get('https://homeshopping.pk/categories/Mobile-Phones-Price-Pakistan')\n",
    "Names = []\n",
    "Prices = []\n",
    "Links = []\n",
    "for j in range(1, 21):\n",
    "    driver.execute_script(\"window.scrollTo(0, 300)\")\n",
    "    ++j\n",
    "    try:\n",
    "        for i in range(1, 25):\n",
    "            Name = driver.find_element_by_xpath(\n",
    "                \"/html/body/div[1]/div[9]/div[2]/div[2]/div[5]/div/div[\"\n",
    "                + str(i)\n",
    "                + \"]/div/h5/a\"\n",
    "            )\n",
    "            Price = driver.find_element_by_xpath(\n",
    "                \"/html/body/div[1]/div[9]/div[2]/div[2]/div[5]/div/div[\"\n",
    "                + str(i)\n",
    "                + \"]/div/div[2]/a/div\"\n",
    "            )\n",
    "\n",
    "            Names.append(Name.text)\n",
    "\n",
    "            Prices.append(Price.text)\n",
    "            Links.append(Name.get_attribute(\"href\"))\n",
    "    except:\n",
    "        1 == 1\n",
    "driver.close()"
   ]
  },
  {
   "cell_type": "code",
   "execution_count": 19,
   "id": "0a53b95b-ac23-4503-85c7-810253860074",
   "metadata": {
    "execution": {
     "iopub.execute_input": "2021-06-02T12:27:16.210664Z",
     "iopub.status.busy": "2021-06-02T12:27:16.210664Z",
     "iopub.status.idle": "2021-06-02T12:27:16.250086Z",
     "shell.execute_reply": "2021-06-02T12:27:16.249089Z",
     "shell.execute_reply.started": "2021-06-02T12:27:16.210664Z"
    },
    "scrolled": true,
    "tags": []
   },
   "outputs": [],
   "source": [
    "ndf=pd.DataFrame(Names)"
   ]
  },
  {
   "cell_type": "code",
   "execution_count": 21,
   "id": "a2a22213-e41d-4e03-9303-a02aa71c1c0b",
   "metadata": {
    "execution": {
     "iopub.execute_input": "2021-06-02T12:28:49.050272Z",
     "iopub.status.busy": "2021-06-02T12:28:49.050272Z",
     "iopub.status.idle": "2021-06-02T12:28:49.093158Z",
     "shell.execute_reply": "2021-06-02T12:28:49.092166Z",
     "shell.execute_reply.started": "2021-06-02T12:28:49.050272Z"
    },
    "tags": []
   },
   "outputs": [
    {
     "data": {
      "text/html": [
       "<div>\n",
       "<style scoped>\n",
       "    .dataframe tbody tr th:only-of-type {\n",
       "        vertical-align: middle;\n",
       "    }\n",
       "\n",
       "    .dataframe tbody tr th {\n",
       "        vertical-align: top;\n",
       "    }\n",
       "\n",
       "    .dataframe thead th {\n",
       "        text-align: right;\n",
       "    }\n",
       "</style>\n",
       "<table border=\"1\" class=\"dataframe\">\n",
       "  <thead>\n",
       "    <tr style=\"text-align: right;\">\n",
       "      <th></th>\n",
       "      <th>0</th>\n",
       "    </tr>\n",
       "  </thead>\n",
       "  <tbody>\n",
       "    <tr>\n",
       "      <th>0</th>\n",
       "      <td>Vivo Y20 (4G 4GB 64GB Obsidian Black) With Off...</td>\n",
       "    </tr>\n",
       "    <tr>\n",
       "      <th>1</th>\n",
       "      <td>Samsung Galaxy Note 10 Plus Dual Sim (4G, 12GB...</td>\n",
       "    </tr>\n",
       "    <tr>\n",
       "      <th>2</th>\n",
       "      <td>Oppo A53 (4G 4GB 64GB Electric Black) With Off...</td>\n",
       "    </tr>\n",
       "    <tr>\n",
       "      <th>3</th>\n",
       "      <td>Samsung Galaxy Note 20 Ultra (5G 12GB 256GB Sn...</td>\n",
       "    </tr>\n",
       "    <tr>\n",
       "      <th>4</th>\n",
       "      <td>Samsung Galaxy S21 Ultra (5G 12GB 256GB Phanto...</td>\n",
       "    </tr>\n",
       "    <tr>\n",
       "      <th>5</th>\n",
       "      <td>Infinix Hot 9 Play (4G 4GB 64GB Midnight Black...</td>\n",
       "    </tr>\n",
       "    <tr>\n",
       "      <th>6</th>\n",
       "      <td>Huawei Y9 Prime (2019) (4G, 4GB RAM, 128GB ROM...</td>\n",
       "    </tr>\n",
       "    <tr>\n",
       "      <th>7</th>\n",
       "      <td>Nokia 105 (2019) Black With 1 Year Official Wa...</td>\n",
       "    </tr>\n",
       "    <tr>\n",
       "      <th>8</th>\n",
       "      <td>Apple iPhone XS Max (4G, 64GB Gold) - Non PTA</td>\n",
       "    </tr>\n",
       "    <tr>\n",
       "      <th>9</th>\n",
       "      <td>Apple iPhone 11 Pro (4G, 64GB ,Gold) - Non PTA</td>\n",
       "    </tr>\n",
       "    <tr>\n",
       "      <th>10</th>\n",
       "      <td>Infinix Note 10 Pro (4G 8GB 128GB Purple) With...</td>\n",
       "    </tr>\n",
       "    <tr>\n",
       "      <th>11</th>\n",
       "      <td>Apple iPhone 8 (4G, 128GB, Black) - Non PTA</td>\n",
       "    </tr>\n",
       "    <tr>\n",
       "      <th>12</th>\n",
       "      <td>Xiaomi Mi 10T (5G 8GB 128GB Lunar Silver) With...</td>\n",
       "    </tr>\n",
       "    <tr>\n",
       "      <th>13</th>\n",
       "      <td>Xiaomi Mi 10T (5G 8GB 128GB Cosmic Black) With...</td>\n",
       "    </tr>\n",
       "    <tr>\n",
       "      <th>14</th>\n",
       "      <td>Qmobile K116 Plus 1.8'' Inches - Dual Sim - Blue</td>\n",
       "    </tr>\n",
       "    <tr>\n",
       "      <th>15</th>\n",
       "      <td>Apple iPhone 8 (4G, 128GB, Gold) - Non PTA</td>\n",
       "    </tr>\n",
       "    <tr>\n",
       "      <th>16</th>\n",
       "      <td>Samsung Galaxy A32 (4G 6GB 128GB Awesome Black...</td>\n",
       "    </tr>\n",
       "    <tr>\n",
       "      <th>17</th>\n",
       "      <td>Google Pixel 4a (5G 6GB 128GB White) - Non PTA</td>\n",
       "    </tr>\n",
       "    <tr>\n",
       "      <th>18</th>\n",
       "      <td>Infinix Note 10 Pro (4G 8GB 128GB Black) With ...</td>\n",
       "    </tr>\n",
       "    <tr>\n",
       "      <th>19</th>\n",
       "      <td>Samsung Galaxy A02 (4G 3GB 64GB Blue) With Off...</td>\n",
       "    </tr>\n",
       "    <tr>\n",
       "      <th>20</th>\n",
       "      <td>Asus ROG Phone 5 (5G 12GB 128GB Black) - Non PTA</td>\n",
       "    </tr>\n",
       "    <tr>\n",
       "      <th>21</th>\n",
       "      <td>Nokia 216 Dual Sim Black With 1 Year Official ...</td>\n",
       "    </tr>\n",
       "    <tr>\n",
       "      <th>22</th>\n",
       "      <td>OnePlus 9 (5G 8GB 128GB Winter Mist) - Non PTA</td>\n",
       "    </tr>\n",
       "    <tr>\n",
       "      <th>23</th>\n",
       "      <td>Apple iPhone 12 Pro Max (5G 512GB Gold) US - N...</td>\n",
       "    </tr>\n",
       "  </tbody>\n",
       "</table>\n",
       "</div>"
      ],
      "text/plain": [
       "                                                    0\n",
       "0   Vivo Y20 (4G 4GB 64GB Obsidian Black) With Off...\n",
       "1   Samsung Galaxy Note 10 Plus Dual Sim (4G, 12GB...\n",
       "2   Oppo A53 (4G 4GB 64GB Electric Black) With Off...\n",
       "3   Samsung Galaxy Note 20 Ultra (5G 12GB 256GB Sn...\n",
       "4   Samsung Galaxy S21 Ultra (5G 12GB 256GB Phanto...\n",
       "5   Infinix Hot 9 Play (4G 4GB 64GB Midnight Black...\n",
       "6   Huawei Y9 Prime (2019) (4G, 4GB RAM, 128GB ROM...\n",
       "7   Nokia 105 (2019) Black With 1 Year Official Wa...\n",
       "8       Apple iPhone XS Max (4G, 64GB Gold) - Non PTA\n",
       "9      Apple iPhone 11 Pro (4G, 64GB ,Gold) - Non PTA\n",
       "10  Infinix Note 10 Pro (4G 8GB 128GB Purple) With...\n",
       "11        Apple iPhone 8 (4G, 128GB, Black) - Non PTA\n",
       "12  Xiaomi Mi 10T (5G 8GB 128GB Lunar Silver) With...\n",
       "13  Xiaomi Mi 10T (5G 8GB 128GB Cosmic Black) With...\n",
       "14   Qmobile K116 Plus 1.8'' Inches - Dual Sim - Blue\n",
       "15         Apple iPhone 8 (4G, 128GB, Gold) - Non PTA\n",
       "16  Samsung Galaxy A32 (4G 6GB 128GB Awesome Black...\n",
       "17     Google Pixel 4a (5G 6GB 128GB White) - Non PTA\n",
       "18  Infinix Note 10 Pro (4G 8GB 128GB Black) With ...\n",
       "19  Samsung Galaxy A02 (4G 3GB 64GB Blue) With Off...\n",
       "20   Asus ROG Phone 5 (5G 12GB 128GB Black) - Non PTA\n",
       "21  Nokia 216 Dual Sim Black With 1 Year Official ...\n",
       "22     OnePlus 9 (5G 8GB 128GB Winter Mist) - Non PTA\n",
       "23  Apple iPhone 12 Pro Max (5G 512GB Gold) US - N..."
      ]
     },
     "execution_count": 21,
     "metadata": {},
     "output_type": "execute_result"
    }
   ],
   "source": [
    "ndf.drop_duplicates()"
   ]
  },
  {
   "cell_type": "code",
   "execution_count": 22,
   "id": "36335554-d4c2-4763-b472-7ab814fef646",
   "metadata": {
    "execution": {
     "iopub.execute_input": "2021-06-02T12:30:44.742126Z",
     "iopub.status.busy": "2021-06-02T12:30:44.742126Z",
     "iopub.status.idle": "2021-06-02T12:30:44.766794Z",
     "shell.execute_reply": "2021-06-02T12:30:44.765794Z",
     "shell.execute_reply.started": "2021-06-02T12:30:44.742126Z"
    },
    "tags": []
   },
   "outputs": [
    {
     "data": {
      "text/html": [
       "<div>\n",
       "<style scoped>\n",
       "    .dataframe tbody tr th:only-of-type {\n",
       "        vertical-align: middle;\n",
       "    }\n",
       "\n",
       "    .dataframe tbody tr th {\n",
       "        vertical-align: top;\n",
       "    }\n",
       "\n",
       "    .dataframe thead th {\n",
       "        text-align: right;\n",
       "    }\n",
       "</style>\n",
       "<table border=\"1\" class=\"dataframe\">\n",
       "  <thead>\n",
       "    <tr style=\"text-align: right;\">\n",
       "      <th></th>\n",
       "      <th>0</th>\n",
       "    </tr>\n",
       "  </thead>\n",
       "  <tbody>\n",
       "    <tr>\n",
       "      <th>0</th>\n",
       "      <td>Vivo Y20 (4G 4GB 64GB Obsidian Black) With Off...</td>\n",
       "    </tr>\n",
       "    <tr>\n",
       "      <th>1</th>\n",
       "      <td>Samsung Galaxy Note 10 Plus Dual Sim (4G, 12GB...</td>\n",
       "    </tr>\n",
       "    <tr>\n",
       "      <th>2</th>\n",
       "      <td>Oppo A53 (4G 4GB 64GB Electric Black) With Off...</td>\n",
       "    </tr>\n",
       "    <tr>\n",
       "      <th>3</th>\n",
       "      <td>Samsung Galaxy Note 20 Ultra (5G 12GB 256GB Sn...</td>\n",
       "    </tr>\n",
       "    <tr>\n",
       "      <th>4</th>\n",
       "      <td>Samsung Galaxy S21 Ultra (5G 12GB 256GB Phanto...</td>\n",
       "    </tr>\n",
       "    <tr>\n",
       "      <th>...</th>\n",
       "      <td>...</td>\n",
       "    </tr>\n",
       "    <tr>\n",
       "      <th>475</th>\n",
       "      <td>Samsung Galaxy A02 (4G 3GB 64GB Blue) With Off...</td>\n",
       "    </tr>\n",
       "    <tr>\n",
       "      <th>476</th>\n",
       "      <td>Asus ROG Phone 5 (5G 12GB 128GB Black) - Non PTA</td>\n",
       "    </tr>\n",
       "    <tr>\n",
       "      <th>477</th>\n",
       "      <td>Nokia 216 Dual Sim Black With 1 Year Official ...</td>\n",
       "    </tr>\n",
       "    <tr>\n",
       "      <th>478</th>\n",
       "      <td>OnePlus 9 (5G 8GB 128GB Winter Mist) - Non PTA</td>\n",
       "    </tr>\n",
       "    <tr>\n",
       "      <th>479</th>\n",
       "      <td>Apple iPhone 12 Pro Max (5G 512GB Gold) US - N...</td>\n",
       "    </tr>\n",
       "  </tbody>\n",
       "</table>\n",
       "<p>480 rows × 1 columns</p>\n",
       "</div>"
      ],
      "text/plain": [
       "                                                     0\n",
       "0    Vivo Y20 (4G 4GB 64GB Obsidian Black) With Off...\n",
       "1    Samsung Galaxy Note 10 Plus Dual Sim (4G, 12GB...\n",
       "2    Oppo A53 (4G 4GB 64GB Electric Black) With Off...\n",
       "3    Samsung Galaxy Note 20 Ultra (5G 12GB 256GB Sn...\n",
       "4    Samsung Galaxy S21 Ultra (5G 12GB 256GB Phanto...\n",
       "..                                                 ...\n",
       "475  Samsung Galaxy A02 (4G 3GB 64GB Blue) With Off...\n",
       "476   Asus ROG Phone 5 (5G 12GB 128GB Black) - Non PTA\n",
       "477  Nokia 216 Dual Sim Black With 1 Year Official ...\n",
       "478     OnePlus 9 (5G 8GB 128GB Winter Mist) - Non PTA\n",
       "479  Apple iPhone 12 Pro Max (5G 512GB Gold) US - N...\n",
       "\n",
       "[480 rows x 1 columns]"
      ]
     },
     "execution_count": 22,
     "metadata": {},
     "output_type": "execute_result"
    }
   ],
   "source": [
    "ndf"
   ]
  }
 ],
 "metadata": {
  "kernelspec": {
   "display_name": "Python 3",
   "language": "python",
   "name": "python3"
  },
  "language_info": {
   "codemirror_mode": {
    "name": "ipython",
    "version": 3
   },
   "file_extension": ".py",
   "mimetype": "text/x-python",
   "name": "python",
   "nbconvert_exporter": "python",
   "pygments_lexer": "ipython3",
   "version": "3.8.10"
  }
 },
 "nbformat": 4,
 "nbformat_minor": 5
}
