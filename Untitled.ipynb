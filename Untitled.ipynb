{
 "cells": [
  {
   "cell_type": "markdown",
   "id": "8ced7116-baa0-4d02-bb66-583724e48428",
   "metadata": {
    "execution": {
     "iopub.execute_input": "2021-05-12T04:56:47.464188Z",
     "iopub.status.busy": "2021-05-12T04:56:47.463190Z",
     "iopub.status.idle": "2021-05-12T04:56:47.477443Z",
     "shell.execute_reply": "2021-05-12T04:56:47.475041Z",
     "shell.execute_reply.started": "2021-05-12T04:56:47.464188Z"
    },
    "tags": []
   },
   "source": [
    "https://towardsdatascience.com/nosql-on-the-cloud-with-python-55a1383752fc"
   ]
  },
  {
   "cell_type": "code",
   "execution_count": 2,
   "id": "4edc7904-04e3-490f-9e98-45c2226bb706",
   "metadata": {
    "execution": {
     "iopub.execute_input": "2021-06-17T05:15:48.757092Z",
     "iopub.status.busy": "2021-06-17T05:15:48.757092Z",
     "iopub.status.idle": "2021-06-17T05:15:50.012647Z",
     "shell.execute_reply": "2021-06-17T05:15:50.012647Z",
     "shell.execute_reply.started": "2021-06-17T05:15:48.757092Z"
    },
    "tags": []
   },
   "outputs": [],
   "source": [
    "import firebase_admin\n",
    "from firebase_admin import credentials, firestore"
   ]
  },
  {
   "cell_type": "code",
   "execution_count": 3,
   "id": "8e3c3403-f163-4cd3-a681-b7e0cd8e3b4c",
   "metadata": {
    "execution": {
     "iopub.execute_input": "2021-06-17T05:15:52.123520Z",
     "iopub.status.busy": "2021-06-17T05:15:52.123520Z",
     "iopub.status.idle": "2021-06-17T05:15:52.150446Z",
     "shell.execute_reply": "2021-06-17T05:15:52.149450Z",
     "shell.execute_reply.started": "2021-06-17T05:15:52.123520Z"
    },
    "tags": []
   },
   "outputs": [
    {
     "data": {
      "text/plain": [
       "<firebase_admin.App at 0x14d8a485fd0>"
      ]
     },
     "execution_count": 3,
     "metadata": {},
     "output_type": "execute_result"
    }
   ],
   "source": [
    "# cred = credentials.Certificate(\n",
    "#     \"C://Users/OwaisGondal/Documents/Python/FYP/test/ServiceAccountKey.json\"\n",
    "# )\n",
    "cred = credentials.Certificate(\n",
    "    \"C://Users/OwaisGondal/Documents/Python/FYP/TestKey.json\"\n",
    ")\n",
    "firebase_admin.initialize_app(cred)"
   ]
  },
  {
   "cell_type": "code",
   "execution_count": 4,
   "id": "9b36e5ac-6458-4823-be51-1fda5c6457ea",
   "metadata": {
    "execution": {
     "iopub.execute_input": "2021-06-17T05:15:54.355873Z",
     "iopub.status.busy": "2021-06-17T05:15:54.355873Z",
     "iopub.status.idle": "2021-06-17T05:15:54.369836Z",
     "shell.execute_reply": "2021-06-17T05:15:54.368839Z",
     "shell.execute_reply.started": "2021-06-17T05:15:54.355873Z"
    },
    "tags": []
   },
   "outputs": [],
   "source": [
    "db = firestore.client()  # this connects to Firestore"
   ]
  },
  {
   "cell_type": "code",
   "execution_count": 5,
   "id": "aa825c8e-1883-4a0f-bc9a-6d03561f6750",
   "metadata": {
    "execution": {
     "iopub.execute_input": "2021-06-17T05:15:55.268904Z",
     "iopub.status.busy": "2021-06-17T05:15:55.268904Z",
     "iopub.status.idle": "2021-06-17T05:15:55.275854Z",
     "shell.execute_reply": "2021-06-17T05:15:55.274856Z",
     "shell.execute_reply.started": "2021-06-17T05:15:55.268904Z"
    },
    "tags": []
   },
   "outputs": [],
   "source": [
    "collection = db.collection(\"places\")  # opens 'places' collection"
   ]
  },
  {
   "cell_type": "code",
   "execution_count": 6,
   "id": "461f05d6-f859-490b-8c06-fd1cd51ba3d1",
   "metadata": {
    "execution": {
     "iopub.execute_input": "2021-06-17T05:15:57.171888Z",
     "iopub.status.busy": "2021-06-17T05:15:57.171888Z",
     "iopub.status.idle": "2021-06-17T05:15:57.189841Z",
     "shell.execute_reply": "2021-06-17T05:15:57.188872Z",
     "shell.execute_reply.started": "2021-06-17T05:15:57.171888Z"
    },
    "tags": []
   },
   "outputs": [],
   "source": [
    "doc = collection.document(\"rome\")  # specifies the rome document"
   ]
  },
  {
   "cell_type": "code",
   "execution_count": 7,
   "id": "6056f8ef-8a02-424a-a69b-9fa4ee32e86c",
   "metadata": {
    "execution": {
     "iopub.execute_input": "2021-06-17T05:15:57.734706Z",
     "iopub.status.busy": "2021-06-17T05:15:57.734706Z",
     "iopub.status.idle": "2021-06-17T05:16:00.789254Z",
     "shell.execute_reply": "2021-06-17T05:16:00.787219Z",
     "shell.execute_reply.started": "2021-06-17T05:15:57.734706Z"
    },
    "tags": []
   },
   "outputs": [],
   "source": [
    "doc = collection.document(\"rome\")\n",
    "res = doc.get().to_dict()"
   ]
  },
  {
   "cell_type": "code",
   "execution_count": 8,
   "id": "f6735747-8b35-46ed-b8c2-4589a5c8fc33",
   "metadata": {
    "execution": {
     "iopub.execute_input": "2021-06-17T05:16:00.791251Z",
     "iopub.status.busy": "2021-06-17T05:16:00.791251Z",
     "iopub.status.idle": "2021-06-17T05:16:00.803221Z",
     "shell.execute_reply": "2021-06-17T05:16:00.802225Z",
     "shell.execute_reply.started": "2021-06-17T05:16:00.791251Z"
    },
    "tags": []
   },
   "outputs": [],
   "source": [
    "res"
   ]
  },
  {
   "cell_type": "code",
   "execution_count": 9,
   "id": "46d861ea-ca92-4cda-a45d-a0703dc14cd6",
   "metadata": {
    "execution": {
     "iopub.execute_input": "2021-06-17T05:16:01.689474Z",
     "iopub.status.busy": "2021-06-17T05:16:01.689474Z",
     "iopub.status.idle": "2021-06-17T05:16:02.220241Z",
     "shell.execute_reply": "2021-06-17T05:16:02.219244Z",
     "shell.execute_reply.started": "2021-06-17T05:16:01.689474Z"
    },
    "tags": []
   },
   "outputs": [
    {
     "name": "stdout",
     "output_type": "stream",
     "text": [
      "[]\n"
     ]
    }
   ],
   "source": [
    "docs = collection.get()\n",
    "print(docs)"
   ]
  },
  {
   "cell_type": "code",
   "execution_count": 10,
   "id": "efa44886-cb87-49bc-ad73-a9e60c3f39f4",
   "metadata": {
    "execution": {
     "iopub.execute_input": "2021-06-17T05:16:24.616543Z",
     "iopub.status.busy": "2021-06-17T05:16:24.615542Z",
     "iopub.status.idle": "2021-06-17T05:16:24.997810Z",
     "shell.execute_reply": "2021-06-17T05:16:24.996812Z",
     "shell.execute_reply.started": "2021-06-17T05:16:24.616543Z"
    },
    "tags": []
   },
   "outputs": [
    {
     "name": "stdout",
     "output_type": "stream",
     "text": [
      "update_time {\n",
      "  seconds: 1623906984\n",
      "  nanos: 903788000\n",
      "}\n",
      "\n"
     ]
    }
   ],
   "source": [
    "res = collection.document(\"barcelona\").set(\n",
    "    {\n",
    "        \"lat\": 41.3851,\n",
    "        \"long\": 2.1734,\n",
    "        \"weather\": \"great\",\n",
    "        \"landmarks\": [\"guadi park\", \"guadi church\", \"guadi everything\"],\n",
    "    }\n",
    ")\n",
    "\n",
    "print(res)"
   ]
  },
  {
   "cell_type": "code",
   "execution_count": 11,
   "id": "94607afa-5e21-4a01-8861-697009021720",
   "metadata": {
    "execution": {
     "iopub.execute_input": "2021-06-17T05:16:54.390253Z",
     "iopub.status.busy": "2021-06-17T05:16:54.389255Z",
     "iopub.status.idle": "2021-06-17T05:16:54.944252Z",
     "shell.execute_reply": "2021-06-17T05:16:54.944252Z",
     "shell.execute_reply.started": "2021-06-17T05:16:54.390253Z"
    },
    "tags": []
   },
   "outputs": [],
   "source": [
    "res = collection.document(\"barcelona\").update({\"weather\": \"sun\"})"
   ]
  },
  {
   "cell_type": "code",
   "execution_count": 12,
   "id": "0e7bc3f0-e482-4887-94ec-fd3682a8d34c",
   "metadata": {
    "execution": {
     "iopub.execute_input": "2021-06-17T05:18:09.896259Z",
     "iopub.status.busy": "2021-06-17T05:18:09.895261Z",
     "iopub.status.idle": "2021-06-17T05:18:11.305551Z",
     "shell.execute_reply": "2021-06-17T05:18:11.303558Z",
     "shell.execute_reply.started": "2021-06-17T05:18:09.896259Z"
    },
    "tags": []
   },
   "outputs": [
    {
     "ename": "NotFound",
     "evalue": "404 No document to update: projects/testfire-6dcab/databases/(default)/documents/places/rome",
     "output_type": "error",
     "traceback": [
      "\u001b[1;31m---------------------------------------------------------------------------\u001b[0m",
      "\u001b[1;31m_InactiveRpcError\u001b[0m                         Traceback (most recent call last)",
      "\u001b[1;32m~\\Anaconda3\\lib\\site-packages\\google\\api_core\\grpc_helpers.py\u001b[0m in \u001b[0;36merror_remapped_callable\u001b[1;34m(*args, **kwargs)\u001b[0m\n\u001b[0;32m     72\u001b[0m         \u001b[1;32mtry\u001b[0m\u001b[1;33m:\u001b[0m\u001b[1;33m\u001b[0m\u001b[1;33m\u001b[0m\u001b[0m\n\u001b[1;32m---> 73\u001b[1;33m             \u001b[1;32mreturn\u001b[0m \u001b[0mcallable_\u001b[0m\u001b[1;33m(\u001b[0m\u001b[1;33m*\u001b[0m\u001b[0margs\u001b[0m\u001b[1;33m,\u001b[0m \u001b[1;33m**\u001b[0m\u001b[0mkwargs\u001b[0m\u001b[1;33m)\u001b[0m\u001b[1;33m\u001b[0m\u001b[1;33m\u001b[0m\u001b[0m\n\u001b[0m\u001b[0;32m     74\u001b[0m         \u001b[1;32mexcept\u001b[0m \u001b[0mgrpc\u001b[0m\u001b[1;33m.\u001b[0m\u001b[0mRpcError\u001b[0m \u001b[1;32mas\u001b[0m \u001b[0mexc\u001b[0m\u001b[1;33m:\u001b[0m\u001b[1;33m\u001b[0m\u001b[1;33m\u001b[0m\u001b[0m\n",
      "\u001b[1;32m~\\Anaconda3\\lib\\site-packages\\grpc\\_channel.py\u001b[0m in \u001b[0;36m__call__\u001b[1;34m(self, request, timeout, metadata, credentials, wait_for_ready, compression)\u001b[0m\n\u001b[0;32m    945\u001b[0m                                       wait_for_ready, compression)\n\u001b[1;32m--> 946\u001b[1;33m         \u001b[1;32mreturn\u001b[0m \u001b[0m_end_unary_response_blocking\u001b[0m\u001b[1;33m(\u001b[0m\u001b[0mstate\u001b[0m\u001b[1;33m,\u001b[0m \u001b[0mcall\u001b[0m\u001b[1;33m,\u001b[0m \u001b[1;32mFalse\u001b[0m\u001b[1;33m,\u001b[0m \u001b[1;32mNone\u001b[0m\u001b[1;33m)\u001b[0m\u001b[1;33m\u001b[0m\u001b[1;33m\u001b[0m\u001b[0m\n\u001b[0m\u001b[0;32m    947\u001b[0m \u001b[1;33m\u001b[0m\u001b[0m\n",
      "\u001b[1;32m~\\Anaconda3\\lib\\site-packages\\grpc\\_channel.py\u001b[0m in \u001b[0;36m_end_unary_response_blocking\u001b[1;34m(state, call, with_call, deadline)\u001b[0m\n\u001b[0;32m    848\u001b[0m     \u001b[1;32melse\u001b[0m\u001b[1;33m:\u001b[0m\u001b[1;33m\u001b[0m\u001b[1;33m\u001b[0m\u001b[0m\n\u001b[1;32m--> 849\u001b[1;33m         \u001b[1;32mraise\u001b[0m \u001b[0m_InactiveRpcError\u001b[0m\u001b[1;33m(\u001b[0m\u001b[0mstate\u001b[0m\u001b[1;33m)\u001b[0m\u001b[1;33m\u001b[0m\u001b[1;33m\u001b[0m\u001b[0m\n\u001b[0m\u001b[0;32m    850\u001b[0m \u001b[1;33m\u001b[0m\u001b[0m\n",
      "\u001b[1;31m_InactiveRpcError\u001b[0m: <_InactiveRpcError of RPC that terminated with:\n\tstatus = StatusCode.NOT_FOUND\n\tdetails = \"No document to update: projects/testfire-6dcab/databases/(default)/documents/places/rome\"\n\tdebug_error_string = \"{\"created\":\"@1623907091.140000000\",\"description\":\"Error received from peer ipv4:172.217.18.138:443\",\"file\":\"src/core/lib/surface/call.cc\",\"file_line\":1068,\"grpc_message\":\"No document to update: projects/testfire-6dcab/databases/(default)/documents/places/rome\",\"grpc_status\":5}\"\n>",
      "\nThe above exception was the direct cause of the following exception:\n",
      "\u001b[1;31mNotFound\u001b[0m                                  Traceback (most recent call last)",
      "\u001b[1;32m<ipython-input-12-f48ca9757dd3>\u001b[0m in \u001b[0;36m<module>\u001b[1;34m\u001b[0m\n\u001b[1;32m----> 1\u001b[1;33m \u001b[0mcollection\u001b[0m\u001b[1;33m.\u001b[0m\u001b[0mdocument\u001b[0m\u001b[1;33m(\u001b[0m\u001b[1;34m\"rome\"\u001b[0m\u001b[1;33m)\u001b[0m\u001b[1;33m.\u001b[0m\u001b[0mupdate\u001b[0m\u001b[1;33m(\u001b[0m\u001b[1;33m{\u001b[0m\u001b[1;34m\"where_to_go\"\u001b[0m\u001b[1;33m:\u001b[0m \u001b[0mfirestore\u001b[0m\u001b[1;33m.\u001b[0m\u001b[0mArrayUnion\u001b[0m\u001b[1;33m(\u001b[0m\u001b[1;33m[\u001b[0m\u001b[1;34m\"colosseum\"\u001b[0m\u001b[1;33m]\u001b[0m\u001b[1;33m)\u001b[0m\u001b[1;33m}\u001b[0m\u001b[1;33m)\u001b[0m\u001b[1;33m\u001b[0m\u001b[1;33m\u001b[0m\u001b[0m\n\u001b[0m",
      "\u001b[1;32m~\\Anaconda3\\lib\\site-packages\\google\\cloud\\firestore_v1\\document.py\u001b[0m in \u001b[0;36mupdate\u001b[1;34m(self, field_updates, option, retry, timeout)\u001b[0m\n\u001b[0;32m    322\u001b[0m         \"\"\"\n\u001b[0;32m    323\u001b[0m         \u001b[0mbatch\u001b[0m\u001b[1;33m,\u001b[0m \u001b[0mkwargs\u001b[0m \u001b[1;33m=\u001b[0m \u001b[0mself\u001b[0m\u001b[1;33m.\u001b[0m\u001b[0m_prep_update\u001b[0m\u001b[1;33m(\u001b[0m\u001b[0mfield_updates\u001b[0m\u001b[1;33m,\u001b[0m \u001b[0moption\u001b[0m\u001b[1;33m,\u001b[0m \u001b[0mretry\u001b[0m\u001b[1;33m,\u001b[0m \u001b[0mtimeout\u001b[0m\u001b[1;33m)\u001b[0m\u001b[1;33m\u001b[0m\u001b[1;33m\u001b[0m\u001b[0m\n\u001b[1;32m--> 324\u001b[1;33m         \u001b[0mwrite_results\u001b[0m \u001b[1;33m=\u001b[0m \u001b[0mbatch\u001b[0m\u001b[1;33m.\u001b[0m\u001b[0mcommit\u001b[0m\u001b[1;33m(\u001b[0m\u001b[1;33m**\u001b[0m\u001b[0mkwargs\u001b[0m\u001b[1;33m)\u001b[0m\u001b[1;33m\u001b[0m\u001b[1;33m\u001b[0m\u001b[0m\n\u001b[0m\u001b[0;32m    325\u001b[0m         \u001b[1;32mreturn\u001b[0m \u001b[0m_first_write_result\u001b[0m\u001b[1;33m(\u001b[0m\u001b[0mwrite_results\u001b[0m\u001b[1;33m)\u001b[0m\u001b[1;33m\u001b[0m\u001b[1;33m\u001b[0m\u001b[0m\n\u001b[0;32m    326\u001b[0m \u001b[1;33m\u001b[0m\u001b[0m\n",
      "\u001b[1;32m~\\Anaconda3\\lib\\site-packages\\google\\cloud\\firestore_v1\\batch.py\u001b[0m in \u001b[0;36mcommit\u001b[1;34m(self, retry, timeout)\u001b[0m\n\u001b[0;32m     55\u001b[0m         \u001b[0mrequest\u001b[0m\u001b[1;33m,\u001b[0m \u001b[0mkwargs\u001b[0m \u001b[1;33m=\u001b[0m \u001b[0mself\u001b[0m\u001b[1;33m.\u001b[0m\u001b[0m_prep_commit\u001b[0m\u001b[1;33m(\u001b[0m\u001b[0mretry\u001b[0m\u001b[1;33m,\u001b[0m \u001b[0mtimeout\u001b[0m\u001b[1;33m)\u001b[0m\u001b[1;33m\u001b[0m\u001b[1;33m\u001b[0m\u001b[0m\n\u001b[0;32m     56\u001b[0m \u001b[1;33m\u001b[0m\u001b[0m\n\u001b[1;32m---> 57\u001b[1;33m         commit_response = self._client._firestore_api.commit(\n\u001b[0m\u001b[0;32m     58\u001b[0m             \u001b[0mrequest\u001b[0m\u001b[1;33m=\u001b[0m\u001b[0mrequest\u001b[0m\u001b[1;33m,\u001b[0m \u001b[0mmetadata\u001b[0m\u001b[1;33m=\u001b[0m\u001b[0mself\u001b[0m\u001b[1;33m.\u001b[0m\u001b[0m_client\u001b[0m\u001b[1;33m.\u001b[0m\u001b[0m_rpc_metadata\u001b[0m\u001b[1;33m,\u001b[0m \u001b[1;33m**\u001b[0m\u001b[0mkwargs\u001b[0m\u001b[1;33m,\u001b[0m\u001b[1;33m\u001b[0m\u001b[1;33m\u001b[0m\u001b[0m\n\u001b[0;32m     59\u001b[0m         )\n",
      "\u001b[1;32m~\\Anaconda3\\lib\\site-packages\\google\\cloud\\firestore_v1\\services\\firestore\\client.py\u001b[0m in \u001b[0;36mcommit\u001b[1;34m(self, request, database, writes, retry, timeout, metadata)\u001b[0m\n\u001b[0;32m    834\u001b[0m \u001b[1;33m\u001b[0m\u001b[0m\n\u001b[0;32m    835\u001b[0m         \u001b[1;31m# Send the request.\u001b[0m\u001b[1;33m\u001b[0m\u001b[1;33m\u001b[0m\u001b[1;33m\u001b[0m\u001b[0m\n\u001b[1;32m--> 836\u001b[1;33m         \u001b[0mresponse\u001b[0m \u001b[1;33m=\u001b[0m \u001b[0mrpc\u001b[0m\u001b[1;33m(\u001b[0m\u001b[0mrequest\u001b[0m\u001b[1;33m,\u001b[0m \u001b[0mretry\u001b[0m\u001b[1;33m=\u001b[0m\u001b[0mretry\u001b[0m\u001b[1;33m,\u001b[0m \u001b[0mtimeout\u001b[0m\u001b[1;33m=\u001b[0m\u001b[0mtimeout\u001b[0m\u001b[1;33m,\u001b[0m \u001b[0mmetadata\u001b[0m\u001b[1;33m=\u001b[0m\u001b[0mmetadata\u001b[0m\u001b[1;33m,\u001b[0m\u001b[1;33m)\u001b[0m\u001b[1;33m\u001b[0m\u001b[1;33m\u001b[0m\u001b[0m\n\u001b[0m\u001b[0;32m    837\u001b[0m \u001b[1;33m\u001b[0m\u001b[0m\n\u001b[0;32m    838\u001b[0m         \u001b[1;31m# Done; return the response.\u001b[0m\u001b[1;33m\u001b[0m\u001b[1;33m\u001b[0m\u001b[1;33m\u001b[0m\u001b[0m\n",
      "\u001b[1;32m~\\Anaconda3\\lib\\site-packages\\google\\api_core\\gapic_v1\\method.py\u001b[0m in \u001b[0;36m__call__\u001b[1;34m(self, *args, **kwargs)\u001b[0m\n\u001b[0;32m    143\u001b[0m             \u001b[0mkwargs\u001b[0m\u001b[1;33m[\u001b[0m\u001b[1;34m\"metadata\"\u001b[0m\u001b[1;33m]\u001b[0m \u001b[1;33m=\u001b[0m \u001b[0mmetadata\u001b[0m\u001b[1;33m\u001b[0m\u001b[1;33m\u001b[0m\u001b[0m\n\u001b[0;32m    144\u001b[0m \u001b[1;33m\u001b[0m\u001b[0m\n\u001b[1;32m--> 145\u001b[1;33m         \u001b[1;32mreturn\u001b[0m \u001b[0mwrapped_func\u001b[0m\u001b[1;33m(\u001b[0m\u001b[1;33m*\u001b[0m\u001b[0margs\u001b[0m\u001b[1;33m,\u001b[0m \u001b[1;33m**\u001b[0m\u001b[0mkwargs\u001b[0m\u001b[1;33m)\u001b[0m\u001b[1;33m\u001b[0m\u001b[1;33m\u001b[0m\u001b[0m\n\u001b[0m\u001b[0;32m    146\u001b[0m \u001b[1;33m\u001b[0m\u001b[0m\n\u001b[0;32m    147\u001b[0m \u001b[1;33m\u001b[0m\u001b[0m\n",
      "\u001b[1;32m~\\Anaconda3\\lib\\site-packages\\google\\api_core\\retry.py\u001b[0m in \u001b[0;36mretry_wrapped_func\u001b[1;34m(*args, **kwargs)\u001b[0m\n\u001b[0;32m    279\u001b[0m                 \u001b[0mself\u001b[0m\u001b[1;33m.\u001b[0m\u001b[0m_initial\u001b[0m\u001b[1;33m,\u001b[0m \u001b[0mself\u001b[0m\u001b[1;33m.\u001b[0m\u001b[0m_maximum\u001b[0m\u001b[1;33m,\u001b[0m \u001b[0mmultiplier\u001b[0m\u001b[1;33m=\u001b[0m\u001b[0mself\u001b[0m\u001b[1;33m.\u001b[0m\u001b[0m_multiplier\u001b[0m\u001b[1;33m\u001b[0m\u001b[1;33m\u001b[0m\u001b[0m\n\u001b[0;32m    280\u001b[0m             )\n\u001b[1;32m--> 281\u001b[1;33m             return retry_target(\n\u001b[0m\u001b[0;32m    282\u001b[0m                 \u001b[0mtarget\u001b[0m\u001b[1;33m,\u001b[0m\u001b[1;33m\u001b[0m\u001b[1;33m\u001b[0m\u001b[0m\n\u001b[0;32m    283\u001b[0m                 \u001b[0mself\u001b[0m\u001b[1;33m.\u001b[0m\u001b[0m_predicate\u001b[0m\u001b[1;33m,\u001b[0m\u001b[1;33m\u001b[0m\u001b[1;33m\u001b[0m\u001b[0m\n",
      "\u001b[1;32m~\\Anaconda3\\lib\\site-packages\\google\\api_core\\retry.py\u001b[0m in \u001b[0;36mretry_target\u001b[1;34m(target, predicate, sleep_generator, deadline, on_error)\u001b[0m\n\u001b[0;32m    182\u001b[0m     \u001b[1;32mfor\u001b[0m \u001b[0msleep\u001b[0m \u001b[1;32min\u001b[0m \u001b[0msleep_generator\u001b[0m\u001b[1;33m:\u001b[0m\u001b[1;33m\u001b[0m\u001b[1;33m\u001b[0m\u001b[0m\n\u001b[0;32m    183\u001b[0m         \u001b[1;32mtry\u001b[0m\u001b[1;33m:\u001b[0m\u001b[1;33m\u001b[0m\u001b[1;33m\u001b[0m\u001b[0m\n\u001b[1;32m--> 184\u001b[1;33m             \u001b[1;32mreturn\u001b[0m \u001b[0mtarget\u001b[0m\u001b[1;33m(\u001b[0m\u001b[1;33m)\u001b[0m\u001b[1;33m\u001b[0m\u001b[1;33m\u001b[0m\u001b[0m\n\u001b[0m\u001b[0;32m    185\u001b[0m \u001b[1;33m\u001b[0m\u001b[0m\n\u001b[0;32m    186\u001b[0m         \u001b[1;31m# pylint: disable=broad-except\u001b[0m\u001b[1;33m\u001b[0m\u001b[1;33m\u001b[0m\u001b[1;33m\u001b[0m\u001b[0m\n",
      "\u001b[1;32m~\\Anaconda3\\lib\\site-packages\\google\\api_core\\grpc_helpers.py\u001b[0m in \u001b[0;36merror_remapped_callable\u001b[1;34m(*args, **kwargs)\u001b[0m\n\u001b[0;32m     73\u001b[0m             \u001b[1;32mreturn\u001b[0m \u001b[0mcallable_\u001b[0m\u001b[1;33m(\u001b[0m\u001b[1;33m*\u001b[0m\u001b[0margs\u001b[0m\u001b[1;33m,\u001b[0m \u001b[1;33m**\u001b[0m\u001b[0mkwargs\u001b[0m\u001b[1;33m)\u001b[0m\u001b[1;33m\u001b[0m\u001b[1;33m\u001b[0m\u001b[0m\n\u001b[0;32m     74\u001b[0m         \u001b[1;32mexcept\u001b[0m \u001b[0mgrpc\u001b[0m\u001b[1;33m.\u001b[0m\u001b[0mRpcError\u001b[0m \u001b[1;32mas\u001b[0m \u001b[0mexc\u001b[0m\u001b[1;33m:\u001b[0m\u001b[1;33m\u001b[0m\u001b[1;33m\u001b[0m\u001b[0m\n\u001b[1;32m---> 75\u001b[1;33m             \u001b[0msix\u001b[0m\u001b[1;33m.\u001b[0m\u001b[0mraise_from\u001b[0m\u001b[1;33m(\u001b[0m\u001b[0mexceptions\u001b[0m\u001b[1;33m.\u001b[0m\u001b[0mfrom_grpc_error\u001b[0m\u001b[1;33m(\u001b[0m\u001b[0mexc\u001b[0m\u001b[1;33m)\u001b[0m\u001b[1;33m,\u001b[0m \u001b[0mexc\u001b[0m\u001b[1;33m)\u001b[0m\u001b[1;33m\u001b[0m\u001b[1;33m\u001b[0m\u001b[0m\n\u001b[0m\u001b[0;32m     76\u001b[0m \u001b[1;33m\u001b[0m\u001b[0m\n\u001b[0;32m     77\u001b[0m     \u001b[1;32mreturn\u001b[0m \u001b[0merror_remapped_callable\u001b[0m\u001b[1;33m\u001b[0m\u001b[1;33m\u001b[0m\u001b[0m\n",
      "\u001b[1;32m~\\Anaconda3\\lib\\site-packages\\six.py\u001b[0m in \u001b[0;36mraise_from\u001b[1;34m(value, from_value)\u001b[0m\n",
      "\u001b[1;31mNotFound\u001b[0m: 404 No document to update: projects/testfire-6dcab/databases/(default)/documents/places/rome"
     ]
    }
   ],
   "source": [
    "collection.document(\"rome\").update({\"where_to_go\": firestore.ArrayUnion([\"colosseum\"])})"
   ]
  },
  {
   "cell_type": "code",
   "execution_count": 13,
   "id": "6dc5782e-91f0-48cc-8815-fb2631a99c2a",
   "metadata": {
    "execution": {
     "iopub.execute_input": "2021-06-17T05:18:19.079632Z",
     "iopub.status.busy": "2021-06-17T05:18:19.079632Z",
     "iopub.status.idle": "2021-06-17T05:18:19.600005Z",
     "shell.execute_reply": "2021-06-17T05:18:19.599039Z",
     "shell.execute_reply.started": "2021-06-17T05:18:19.079632Z"
    },
    "scrolled": true,
    "tags": []
   },
   "outputs": [
    {
     "ename": "NotFound",
     "evalue": "404 No document to update: projects/testfire-6dcab/databases/(default)/documents/places/rome",
     "output_type": "error",
     "traceback": [
      "\u001b[1;31m---------------------------------------------------------------------------\u001b[0m",
      "\u001b[1;31m_InactiveRpcError\u001b[0m                         Traceback (most recent call last)",
      "\u001b[1;32m~\\Anaconda3\\lib\\site-packages\\google\\api_core\\grpc_helpers.py\u001b[0m in \u001b[0;36merror_remapped_callable\u001b[1;34m(*args, **kwargs)\u001b[0m\n\u001b[0;32m     72\u001b[0m         \u001b[1;32mtry\u001b[0m\u001b[1;33m:\u001b[0m\u001b[1;33m\u001b[0m\u001b[1;33m\u001b[0m\u001b[0m\n\u001b[1;32m---> 73\u001b[1;33m             \u001b[1;32mreturn\u001b[0m \u001b[0mcallable_\u001b[0m\u001b[1;33m(\u001b[0m\u001b[1;33m*\u001b[0m\u001b[0margs\u001b[0m\u001b[1;33m,\u001b[0m \u001b[1;33m**\u001b[0m\u001b[0mkwargs\u001b[0m\u001b[1;33m)\u001b[0m\u001b[1;33m\u001b[0m\u001b[1;33m\u001b[0m\u001b[0m\n\u001b[0m\u001b[0;32m     74\u001b[0m         \u001b[1;32mexcept\u001b[0m \u001b[0mgrpc\u001b[0m\u001b[1;33m.\u001b[0m\u001b[0mRpcError\u001b[0m \u001b[1;32mas\u001b[0m \u001b[0mexc\u001b[0m\u001b[1;33m:\u001b[0m\u001b[1;33m\u001b[0m\u001b[1;33m\u001b[0m\u001b[0m\n",
      "\u001b[1;32m~\\Anaconda3\\lib\\site-packages\\grpc\\_channel.py\u001b[0m in \u001b[0;36m__call__\u001b[1;34m(self, request, timeout, metadata, credentials, wait_for_ready, compression)\u001b[0m\n\u001b[0;32m    945\u001b[0m                                       wait_for_ready, compression)\n\u001b[1;32m--> 946\u001b[1;33m         \u001b[1;32mreturn\u001b[0m \u001b[0m_end_unary_response_blocking\u001b[0m\u001b[1;33m(\u001b[0m\u001b[0mstate\u001b[0m\u001b[1;33m,\u001b[0m \u001b[0mcall\u001b[0m\u001b[1;33m,\u001b[0m \u001b[1;32mFalse\u001b[0m\u001b[1;33m,\u001b[0m \u001b[1;32mNone\u001b[0m\u001b[1;33m)\u001b[0m\u001b[1;33m\u001b[0m\u001b[1;33m\u001b[0m\u001b[0m\n\u001b[0m\u001b[0;32m    947\u001b[0m \u001b[1;33m\u001b[0m\u001b[0m\n",
      "\u001b[1;32m~\\Anaconda3\\lib\\site-packages\\grpc\\_channel.py\u001b[0m in \u001b[0;36m_end_unary_response_blocking\u001b[1;34m(state, call, with_call, deadline)\u001b[0m\n\u001b[0;32m    848\u001b[0m     \u001b[1;32melse\u001b[0m\u001b[1;33m:\u001b[0m\u001b[1;33m\u001b[0m\u001b[1;33m\u001b[0m\u001b[0m\n\u001b[1;32m--> 849\u001b[1;33m         \u001b[1;32mraise\u001b[0m \u001b[0m_InactiveRpcError\u001b[0m\u001b[1;33m(\u001b[0m\u001b[0mstate\u001b[0m\u001b[1;33m)\u001b[0m\u001b[1;33m\u001b[0m\u001b[1;33m\u001b[0m\u001b[0m\n\u001b[0m\u001b[0;32m    850\u001b[0m \u001b[1;33m\u001b[0m\u001b[0m\n",
      "\u001b[1;31m_InactiveRpcError\u001b[0m: <_InactiveRpcError of RPC that terminated with:\n\tstatus = StatusCode.NOT_FOUND\n\tdetails = \"No document to update: projects/testfire-6dcab/databases/(default)/documents/places/rome\"\n\tdebug_error_string = \"{\"created\":\"@1623907099.571000000\",\"description\":\"Error received from peer ipv4:172.217.18.138:443\",\"file\":\"src/core/lib/surface/call.cc\",\"file_line\":1068,\"grpc_message\":\"No document to update: projects/testfire-6dcab/databases/(default)/documents/places/rome\",\"grpc_status\":5}\"\n>",
      "\nThe above exception was the direct cause of the following exception:\n",
      "\u001b[1;31mNotFound\u001b[0m                                  Traceback (most recent call last)",
      "\u001b[1;32m<ipython-input-13-d551d551b3be>\u001b[0m in \u001b[0;36m<module>\u001b[1;34m\u001b[0m\n\u001b[1;32m----> 1\u001b[1;33m collection.document(\"rome\").update(\n\u001b[0m\u001b[0;32m      2\u001b[0m     \u001b[1;33m{\u001b[0m\u001b[1;34m\"where_to_go\"\u001b[0m\u001b[1;33m:\u001b[0m \u001b[0mfirestore\u001b[0m\u001b[1;33m.\u001b[0m\u001b[0mArrayRemove\u001b[0m\u001b[1;33m(\u001b[0m\u001b[1;33m[\u001b[0m\u001b[1;34m\"vatican_city\"\u001b[0m\u001b[1;33m,\u001b[0m \u001b[1;34m\"traverse\"\u001b[0m\u001b[1;33m]\u001b[0m\u001b[1;33m)\u001b[0m\u001b[1;33m}\u001b[0m\u001b[1;33m\u001b[0m\u001b[1;33m\u001b[0m\u001b[0m\n\u001b[0;32m      3\u001b[0m )\n",
      "\u001b[1;32m~\\Anaconda3\\lib\\site-packages\\google\\cloud\\firestore_v1\\document.py\u001b[0m in \u001b[0;36mupdate\u001b[1;34m(self, field_updates, option, retry, timeout)\u001b[0m\n\u001b[0;32m    322\u001b[0m         \"\"\"\n\u001b[0;32m    323\u001b[0m         \u001b[0mbatch\u001b[0m\u001b[1;33m,\u001b[0m \u001b[0mkwargs\u001b[0m \u001b[1;33m=\u001b[0m \u001b[0mself\u001b[0m\u001b[1;33m.\u001b[0m\u001b[0m_prep_update\u001b[0m\u001b[1;33m(\u001b[0m\u001b[0mfield_updates\u001b[0m\u001b[1;33m,\u001b[0m \u001b[0moption\u001b[0m\u001b[1;33m,\u001b[0m \u001b[0mretry\u001b[0m\u001b[1;33m,\u001b[0m \u001b[0mtimeout\u001b[0m\u001b[1;33m)\u001b[0m\u001b[1;33m\u001b[0m\u001b[1;33m\u001b[0m\u001b[0m\n\u001b[1;32m--> 324\u001b[1;33m         \u001b[0mwrite_results\u001b[0m \u001b[1;33m=\u001b[0m \u001b[0mbatch\u001b[0m\u001b[1;33m.\u001b[0m\u001b[0mcommit\u001b[0m\u001b[1;33m(\u001b[0m\u001b[1;33m**\u001b[0m\u001b[0mkwargs\u001b[0m\u001b[1;33m)\u001b[0m\u001b[1;33m\u001b[0m\u001b[1;33m\u001b[0m\u001b[0m\n\u001b[0m\u001b[0;32m    325\u001b[0m         \u001b[1;32mreturn\u001b[0m \u001b[0m_first_write_result\u001b[0m\u001b[1;33m(\u001b[0m\u001b[0mwrite_results\u001b[0m\u001b[1;33m)\u001b[0m\u001b[1;33m\u001b[0m\u001b[1;33m\u001b[0m\u001b[0m\n\u001b[0;32m    326\u001b[0m \u001b[1;33m\u001b[0m\u001b[0m\n",
      "\u001b[1;32m~\\Anaconda3\\lib\\site-packages\\google\\cloud\\firestore_v1\\batch.py\u001b[0m in \u001b[0;36mcommit\u001b[1;34m(self, retry, timeout)\u001b[0m\n\u001b[0;32m     55\u001b[0m         \u001b[0mrequest\u001b[0m\u001b[1;33m,\u001b[0m \u001b[0mkwargs\u001b[0m \u001b[1;33m=\u001b[0m \u001b[0mself\u001b[0m\u001b[1;33m.\u001b[0m\u001b[0m_prep_commit\u001b[0m\u001b[1;33m(\u001b[0m\u001b[0mretry\u001b[0m\u001b[1;33m,\u001b[0m \u001b[0mtimeout\u001b[0m\u001b[1;33m)\u001b[0m\u001b[1;33m\u001b[0m\u001b[1;33m\u001b[0m\u001b[0m\n\u001b[0;32m     56\u001b[0m \u001b[1;33m\u001b[0m\u001b[0m\n\u001b[1;32m---> 57\u001b[1;33m         commit_response = self._client._firestore_api.commit(\n\u001b[0m\u001b[0;32m     58\u001b[0m             \u001b[0mrequest\u001b[0m\u001b[1;33m=\u001b[0m\u001b[0mrequest\u001b[0m\u001b[1;33m,\u001b[0m \u001b[0mmetadata\u001b[0m\u001b[1;33m=\u001b[0m\u001b[0mself\u001b[0m\u001b[1;33m.\u001b[0m\u001b[0m_client\u001b[0m\u001b[1;33m.\u001b[0m\u001b[0m_rpc_metadata\u001b[0m\u001b[1;33m,\u001b[0m \u001b[1;33m**\u001b[0m\u001b[0mkwargs\u001b[0m\u001b[1;33m,\u001b[0m\u001b[1;33m\u001b[0m\u001b[1;33m\u001b[0m\u001b[0m\n\u001b[0;32m     59\u001b[0m         )\n",
      "\u001b[1;32m~\\Anaconda3\\lib\\site-packages\\google\\cloud\\firestore_v1\\services\\firestore\\client.py\u001b[0m in \u001b[0;36mcommit\u001b[1;34m(self, request, database, writes, retry, timeout, metadata)\u001b[0m\n\u001b[0;32m    834\u001b[0m \u001b[1;33m\u001b[0m\u001b[0m\n\u001b[0;32m    835\u001b[0m         \u001b[1;31m# Send the request.\u001b[0m\u001b[1;33m\u001b[0m\u001b[1;33m\u001b[0m\u001b[1;33m\u001b[0m\u001b[0m\n\u001b[1;32m--> 836\u001b[1;33m         \u001b[0mresponse\u001b[0m \u001b[1;33m=\u001b[0m \u001b[0mrpc\u001b[0m\u001b[1;33m(\u001b[0m\u001b[0mrequest\u001b[0m\u001b[1;33m,\u001b[0m \u001b[0mretry\u001b[0m\u001b[1;33m=\u001b[0m\u001b[0mretry\u001b[0m\u001b[1;33m,\u001b[0m \u001b[0mtimeout\u001b[0m\u001b[1;33m=\u001b[0m\u001b[0mtimeout\u001b[0m\u001b[1;33m,\u001b[0m \u001b[0mmetadata\u001b[0m\u001b[1;33m=\u001b[0m\u001b[0mmetadata\u001b[0m\u001b[1;33m,\u001b[0m\u001b[1;33m)\u001b[0m\u001b[1;33m\u001b[0m\u001b[1;33m\u001b[0m\u001b[0m\n\u001b[0m\u001b[0;32m    837\u001b[0m \u001b[1;33m\u001b[0m\u001b[0m\n\u001b[0;32m    838\u001b[0m         \u001b[1;31m# Done; return the response.\u001b[0m\u001b[1;33m\u001b[0m\u001b[1;33m\u001b[0m\u001b[1;33m\u001b[0m\u001b[0m\n",
      "\u001b[1;32m~\\Anaconda3\\lib\\site-packages\\google\\api_core\\gapic_v1\\method.py\u001b[0m in \u001b[0;36m__call__\u001b[1;34m(self, *args, **kwargs)\u001b[0m\n\u001b[0;32m    143\u001b[0m             \u001b[0mkwargs\u001b[0m\u001b[1;33m[\u001b[0m\u001b[1;34m\"metadata\"\u001b[0m\u001b[1;33m]\u001b[0m \u001b[1;33m=\u001b[0m \u001b[0mmetadata\u001b[0m\u001b[1;33m\u001b[0m\u001b[1;33m\u001b[0m\u001b[0m\n\u001b[0;32m    144\u001b[0m \u001b[1;33m\u001b[0m\u001b[0m\n\u001b[1;32m--> 145\u001b[1;33m         \u001b[1;32mreturn\u001b[0m \u001b[0mwrapped_func\u001b[0m\u001b[1;33m(\u001b[0m\u001b[1;33m*\u001b[0m\u001b[0margs\u001b[0m\u001b[1;33m,\u001b[0m \u001b[1;33m**\u001b[0m\u001b[0mkwargs\u001b[0m\u001b[1;33m)\u001b[0m\u001b[1;33m\u001b[0m\u001b[1;33m\u001b[0m\u001b[0m\n\u001b[0m\u001b[0;32m    146\u001b[0m \u001b[1;33m\u001b[0m\u001b[0m\n\u001b[0;32m    147\u001b[0m \u001b[1;33m\u001b[0m\u001b[0m\n",
      "\u001b[1;32m~\\Anaconda3\\lib\\site-packages\\google\\api_core\\retry.py\u001b[0m in \u001b[0;36mretry_wrapped_func\u001b[1;34m(*args, **kwargs)\u001b[0m\n\u001b[0;32m    279\u001b[0m                 \u001b[0mself\u001b[0m\u001b[1;33m.\u001b[0m\u001b[0m_initial\u001b[0m\u001b[1;33m,\u001b[0m \u001b[0mself\u001b[0m\u001b[1;33m.\u001b[0m\u001b[0m_maximum\u001b[0m\u001b[1;33m,\u001b[0m \u001b[0mmultiplier\u001b[0m\u001b[1;33m=\u001b[0m\u001b[0mself\u001b[0m\u001b[1;33m.\u001b[0m\u001b[0m_multiplier\u001b[0m\u001b[1;33m\u001b[0m\u001b[1;33m\u001b[0m\u001b[0m\n\u001b[0;32m    280\u001b[0m             )\n\u001b[1;32m--> 281\u001b[1;33m             return retry_target(\n\u001b[0m\u001b[0;32m    282\u001b[0m                 \u001b[0mtarget\u001b[0m\u001b[1;33m,\u001b[0m\u001b[1;33m\u001b[0m\u001b[1;33m\u001b[0m\u001b[0m\n\u001b[0;32m    283\u001b[0m                 \u001b[0mself\u001b[0m\u001b[1;33m.\u001b[0m\u001b[0m_predicate\u001b[0m\u001b[1;33m,\u001b[0m\u001b[1;33m\u001b[0m\u001b[1;33m\u001b[0m\u001b[0m\n",
      "\u001b[1;32m~\\Anaconda3\\lib\\site-packages\\google\\api_core\\retry.py\u001b[0m in \u001b[0;36mretry_target\u001b[1;34m(target, predicate, sleep_generator, deadline, on_error)\u001b[0m\n\u001b[0;32m    182\u001b[0m     \u001b[1;32mfor\u001b[0m \u001b[0msleep\u001b[0m \u001b[1;32min\u001b[0m \u001b[0msleep_generator\u001b[0m\u001b[1;33m:\u001b[0m\u001b[1;33m\u001b[0m\u001b[1;33m\u001b[0m\u001b[0m\n\u001b[0;32m    183\u001b[0m         \u001b[1;32mtry\u001b[0m\u001b[1;33m:\u001b[0m\u001b[1;33m\u001b[0m\u001b[1;33m\u001b[0m\u001b[0m\n\u001b[1;32m--> 184\u001b[1;33m             \u001b[1;32mreturn\u001b[0m \u001b[0mtarget\u001b[0m\u001b[1;33m(\u001b[0m\u001b[1;33m)\u001b[0m\u001b[1;33m\u001b[0m\u001b[1;33m\u001b[0m\u001b[0m\n\u001b[0m\u001b[0;32m    185\u001b[0m \u001b[1;33m\u001b[0m\u001b[0m\n\u001b[0;32m    186\u001b[0m         \u001b[1;31m# pylint: disable=broad-except\u001b[0m\u001b[1;33m\u001b[0m\u001b[1;33m\u001b[0m\u001b[1;33m\u001b[0m\u001b[0m\n",
      "\u001b[1;32m~\\Anaconda3\\lib\\site-packages\\google\\api_core\\grpc_helpers.py\u001b[0m in \u001b[0;36merror_remapped_callable\u001b[1;34m(*args, **kwargs)\u001b[0m\n\u001b[0;32m     73\u001b[0m             \u001b[1;32mreturn\u001b[0m \u001b[0mcallable_\u001b[0m\u001b[1;33m(\u001b[0m\u001b[1;33m*\u001b[0m\u001b[0margs\u001b[0m\u001b[1;33m,\u001b[0m \u001b[1;33m**\u001b[0m\u001b[0mkwargs\u001b[0m\u001b[1;33m)\u001b[0m\u001b[1;33m\u001b[0m\u001b[1;33m\u001b[0m\u001b[0m\n\u001b[0;32m     74\u001b[0m         \u001b[1;32mexcept\u001b[0m \u001b[0mgrpc\u001b[0m\u001b[1;33m.\u001b[0m\u001b[0mRpcError\u001b[0m \u001b[1;32mas\u001b[0m \u001b[0mexc\u001b[0m\u001b[1;33m:\u001b[0m\u001b[1;33m\u001b[0m\u001b[1;33m\u001b[0m\u001b[0m\n\u001b[1;32m---> 75\u001b[1;33m             \u001b[0msix\u001b[0m\u001b[1;33m.\u001b[0m\u001b[0mraise_from\u001b[0m\u001b[1;33m(\u001b[0m\u001b[0mexceptions\u001b[0m\u001b[1;33m.\u001b[0m\u001b[0mfrom_grpc_error\u001b[0m\u001b[1;33m(\u001b[0m\u001b[0mexc\u001b[0m\u001b[1;33m)\u001b[0m\u001b[1;33m,\u001b[0m \u001b[0mexc\u001b[0m\u001b[1;33m)\u001b[0m\u001b[1;33m\u001b[0m\u001b[1;33m\u001b[0m\u001b[0m\n\u001b[0m\u001b[0;32m     76\u001b[0m \u001b[1;33m\u001b[0m\u001b[0m\n\u001b[0;32m     77\u001b[0m     \u001b[1;32mreturn\u001b[0m \u001b[0merror_remapped_callable\u001b[0m\u001b[1;33m\u001b[0m\u001b[1;33m\u001b[0m\u001b[0m\n",
      "\u001b[1;32m~\\Anaconda3\\lib\\site-packages\\six.py\u001b[0m in \u001b[0;36mraise_from\u001b[1;34m(value, from_value)\u001b[0m\n",
      "\u001b[1;31mNotFound\u001b[0m: 404 No document to update: projects/testfire-6dcab/databases/(default)/documents/places/rome"
     ]
    }
   ],
   "source": [
    "collection.document(\"rome\").update(\n",
    "    {\"where_to_go\": firestore.ArrayRemove([\"vatican_city\", \"traverse\"])}\n",
    ")"
   ]
  },
  {
   "cell_type": "code",
   "execution_count": 14,
   "id": "426cfc59-5f20-418c-b2fe-f5070fc5eddc",
   "metadata": {
    "execution": {
     "iopub.execute_input": "2021-06-17T05:18:28.966704Z",
     "iopub.status.busy": "2021-06-17T05:18:28.965707Z",
     "iopub.status.idle": "2021-06-17T05:18:29.492874Z",
     "shell.execute_reply": "2021-06-17T05:18:29.491879Z",
     "shell.execute_reply.started": "2021-06-17T05:18:28.966704Z"
    },
    "tags": []
   },
   "outputs": [
    {
     "data": {
      "text/plain": [
       "DatetimeWithNanoseconds(2021, 6, 17, 5, 18, 28, 890233, tzinfo=datetime.timezone.utc)"
      ]
     },
     "execution_count": 14,
     "metadata": {},
     "output_type": "execute_result"
    }
   ],
   "source": [
    "collection.document(\"rome\").delete()"
   ]
  },
  {
   "cell_type": "code",
   "execution_count": 15,
   "id": "67a82745-1108-4654-8240-00e0f1a3e20d",
   "metadata": {
    "execution": {
     "iopub.execute_input": "2021-06-17T05:18:38.209422Z",
     "iopub.status.busy": "2021-06-17T05:18:38.208423Z",
     "iopub.status.idle": "2021-06-17T05:18:38.950822Z",
     "shell.execute_reply": "2021-06-17T05:18:38.949825Z",
     "shell.execute_reply.started": "2021-06-17T05:18:38.208423Z"
    },
    "tags": []
   },
   "outputs": [
    {
     "data": {
      "text/plain": [
       "update_time {\n",
       "  seconds: 1623907118\n",
       "  nanos: 461012000\n",
       "}"
      ]
     },
     "execution_count": 15,
     "metadata": {},
     "output_type": "execute_result"
    }
   ],
   "source": [
    "collection.document(\"barcelona\").update({\"weather\": firestore.DELETE_FIELD})"
   ]
  },
  {
   "cell_type": "code",
   "execution_count": 16,
   "id": "3083271d-2f7a-4fe7-a066-b003e750129e",
   "metadata": {
    "execution": {
     "iopub.execute_input": "2021-06-17T05:38:40.365442Z",
     "iopub.status.busy": "2021-06-17T05:38:40.365442Z",
     "iopub.status.idle": "2021-06-17T05:38:40.379404Z",
     "shell.execute_reply": "2021-06-17T05:38:40.378406Z",
     "shell.execute_reply.started": "2021-06-17T05:38:40.365442Z"
    },
    "tags": []
   },
   "outputs": [],
   "source": [
    "data = [\n",
    "    (\n",
    "        \"barcelona\",\n",
    "        {\n",
    "            \"lat\": 41.3851,\n",
    "            \"long\": 2.1734,\n",
    "            \"landmarks\": [\"guadí park\", \"gaudí church\", \"gaudí everything\"],\n",
    "        },\n",
    "    ),\n",
    "    (\n",
    "        \"rome\",\n",
    "        {\n",
    "            \"lat\": 41.9028,\n",
    "            \"long\": 12.4964,\n",
    "            \"landmarks\": [\"villa_borghese\", \"trastevere\", \"vatican_city\"],\n",
    "        },\n",
    "    ),\n",
    "    (\n",
    "        \"nyc\",\n",
    "        {\n",
    "            \"lat\": 40.7128,\n",
    "            \"long\": -74.0061,\n",
    "            \"landmarks\": [\"central_park\", \"statue_of_liberty\", \"empire_state_building\"],\n",
    "        },\n",
    "    ),\n",
    "    (\n",
    "        \"brisbane\",\n",
    "        {\n",
    "            \"lat\": 27.4698,\n",
    "            \"long\": 153.0251,\n",
    "            \"landmarks\": [\n",
    "                \"south_bank_parklands\",\n",
    "                \"lone_pine_koala_sanctuary\",\n",
    "                \"glass_house_mountains\",\n",
    "            ],\n",
    "        },\n",
    "    ),\n",
    "]\n",
    "collection = db.collection(\"places\")"
   ]
  },
  {
   "cell_type": "code",
   "execution_count": 20,
   "id": "d5b68a9f-fb76-432e-b997-9a5ce3345cd9",
   "metadata": {
    "execution": {
     "iopub.execute_input": "2021-06-17T05:41:05.188086Z",
     "iopub.status.busy": "2021-06-17T05:41:05.188086Z",
     "iopub.status.idle": "2021-06-17T05:41:07.532895Z",
     "shell.execute_reply": "2021-06-17T05:41:07.531898Z",
     "shell.execute_reply.started": "2021-06-17T05:41:05.188086Z"
    },
    "tags": []
   },
   "outputs": [],
   "source": [
    "for item in data:\n",
    "    collection.document(item[0]).set(item[1])\n",
    "# data[0][0]"
   ]
  },
  {
   "cell_type": "code",
   "execution_count": null,
   "id": "d0c04cc1-e2e2-4ce6-b8d4-00544188402d",
   "metadata": {},
   "outputs": [],
   "source": [
    "collection = db.collection(\"places\")"
   ]
  },
  {
   "cell_type": "code",
   "execution_count": 50,
   "id": "b63067ad-de0c-44bb-a3ce-7d448d5711e2",
   "metadata": {
    "execution": {
     "iopub.execute_input": "2021-05-12T07:11:48.432271Z",
     "iopub.status.busy": "2021-05-12T07:11:48.432271Z",
     "iopub.status.idle": "2021-05-12T07:11:48.817532Z",
     "shell.execute_reply": "2021-05-12T07:11:48.815536Z",
     "shell.execute_reply.started": "2021-05-12T07:11:48.432271Z"
    },
    "tags": []
   },
   "outputs": [
    {
     "data": {
      "text/plain": [
       "[<google.cloud.firestore_v1.base_document.DocumentSnapshot at 0x278cca0fd00>,\n",
       " <google.cloud.firestore_v1.base_document.DocumentSnapshot at 0x278cca0feb0>]"
      ]
     },
     "execution_count": 50,
     "metadata": {},
     "output_type": "execute_result"
    }
   ],
   "source": [
    "collection.where(\"long\", \">\", 9.4989).get()"
   ]
  },
  {
   "cell_type": "code",
   "execution_count": 33,
   "id": "3ae5aaeb-8ce0-4d5d-bc9b-aa64ec58440c",
   "metadata": {
    "execution": {
     "iopub.execute_input": "2021-05-12T07:08:05.814627Z",
     "iopub.status.busy": "2021-05-12T07:08:05.814627Z",
     "iopub.status.idle": "2021-05-12T07:08:06.216228Z",
     "shell.execute_reply": "2021-05-12T07:08:06.214234Z",
     "shell.execute_reply.started": "2021-05-12T07:08:05.814627Z"
    },
    "tags": []
   },
   "outputs": [
    {
     "data": {
      "text/plain": [
       "[<google.cloud.firestore_v1.base_document.DocumentSnapshot at 0x278cc9c25e0>,\n",
       " <google.cloud.firestore_v1.base_document.DocumentSnapshot at 0x278cc9c2dc0>]"
      ]
     },
     "execution_count": 33,
     "metadata": {},
     "output_type": "execute_result"
    }
   ],
   "source": [
    "collection.where(\"long\", \">\", -9.4989).where(\"long\", \"<\", 33.4299).get()"
   ]
  },
  {
   "cell_type": "code",
   "execution_count": 1,
   "id": "a2d38758-a72c-4e8d-9c2e-a384652bad53",
   "metadata": {
    "execution": {
     "iopub.execute_input": "2021-05-17T05:08:51.890900Z",
     "iopub.status.busy": "2021-05-17T05:08:51.890900Z",
     "iopub.status.idle": "2021-05-17T05:08:51.909850Z",
     "shell.execute_reply": "2021-05-17T05:08:51.909028Z",
     "shell.execute_reply.started": "2021-05-17T05:08:51.890900Z"
    }
   },
   "outputs": [],
   "source": [
    "x = 1 + 2 * 3 - 8 / 4"
   ]
  },
  {
   "cell_type": "code",
   "execution_count": 2,
   "id": "bd50c1d1-ef43-43ea-a88a-986640b02355",
   "metadata": {
    "execution": {
     "iopub.execute_input": "2021-05-17T05:08:54.335128Z",
     "iopub.status.busy": "2021-05-17T05:08:54.334130Z",
     "iopub.status.idle": "2021-05-17T05:08:54.356657Z",
     "shell.execute_reply": "2021-05-17T05:08:54.356149Z",
     "shell.execute_reply.started": "2021-05-17T05:08:54.335128Z"
    }
   },
   "outputs": [
    {
     "data": {
      "text/plain": [
       "5.0"
      ]
     },
     "execution_count": 2,
     "metadata": {},
     "output_type": "execute_result"
    }
   ],
   "source": [
    "x"
   ]
  },
  {
   "cell_type": "code",
   "execution_count": 3,
   "id": "fe083904-7b04-4f2f-969e-119bf401d62c",
   "metadata": {
    "execution": {
     "iopub.execute_input": "2021-05-17T05:09:21.271477Z",
     "iopub.status.busy": "2021-05-17T05:09:21.270452Z",
     "iopub.status.idle": "2021-05-17T05:09:21.278107Z",
     "shell.execute_reply": "2021-05-17T05:09:21.277110Z",
     "shell.execute_reply.started": "2021-05-17T05:09:21.271477Z"
    }
   },
   "outputs": [],
   "source": [
    "x = int(98.6)"
   ]
  },
  {
   "cell_type": "code",
   "execution_count": 4,
   "id": "4e016ca5-ea9a-4218-ae68-3020d066bef5",
   "metadata": {
    "execution": {
     "iopub.execute_input": "2021-05-17T05:09:25.441218Z",
     "iopub.status.busy": "2021-05-17T05:09:25.441218Z",
     "iopub.status.idle": "2021-05-17T05:09:25.454462Z",
     "shell.execute_reply": "2021-05-17T05:09:25.453465Z",
     "shell.execute_reply.started": "2021-05-17T05:09:25.441218Z"
    }
   },
   "outputs": [
    {
     "data": {
      "text/plain": [
       "98"
      ]
     },
     "execution_count": 4,
     "metadata": {},
     "output_type": "execute_result"
    }
   ],
   "source": [
    "x"
   ]
  },
  {
   "cell_type": "code",
   "execution_count": null,
   "id": "4a15b85a-55b7-4317-82bf-60f79d58a975",
   "metadata": {},
   "outputs": [],
   "source": []
  }
 ],
 "metadata": {
  "kernelspec": {
   "display_name": "Python 3",
   "language": "python",
   "name": "python3"
  },
  "language_info": {
   "codemirror_mode": {
    "name": "ipython",
    "version": 3
   },
   "file_extension": ".py",
   "mimetype": "text/x-python",
   "name": "python",
   "nbconvert_exporter": "python",
   "pygments_lexer": "ipython3",
   "version": "3.8.10"
  }
 },
 "nbformat": 4,
 "nbformat_minor": 5
}
