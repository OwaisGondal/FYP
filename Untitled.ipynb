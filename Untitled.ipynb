{
 "cells": [
  {
   "cell_type": "markdown",
   "id": "8ced7116-baa0-4d02-bb66-583724e48428",
   "metadata": {
    "execution": {
     "iopub.execute_input": "2021-05-12T04:56:47.464188Z",
     "iopub.status.busy": "2021-05-12T04:56:47.463190Z",
     "iopub.status.idle": "2021-05-12T04:56:47.477443Z",
     "shell.execute_reply": "2021-05-12T04:56:47.475041Z",
     "shell.execute_reply.started": "2021-05-12T04:56:47.464188Z"
    },
    "tags": []
   },
   "source": [
    "https://towardsdatascience.com/nosql-on-the-cloud-with-python-55a1383752fc"
   ]
  },
  {
   "cell_type": "code",
   "execution_count": 34,
   "id": "4edc7904-04e3-490f-9e98-45c2226bb706",
   "metadata": {
    "execution": {
     "iopub.execute_input": "2021-05-12T07:10:47.638045Z",
     "iopub.status.busy": "2021-05-12T07:10:47.638045Z",
     "iopub.status.idle": "2021-05-12T07:10:47.653368Z",
     "shell.execute_reply": "2021-05-12T07:10:47.652370Z",
     "shell.execute_reply.started": "2021-05-12T07:10:47.638045Z"
    },
    "tags": []
   },
   "outputs": [],
   "source": [
    "import firebase_admin\n",
    "from firebase_admin import credentials, firestore"
   ]
  },
  {
   "cell_type": "code",
   "execution_count": 35,
   "id": "8e3c3403-f163-4cd3-a681-b7e0cd8e3b4c",
   "metadata": {
    "execution": {
     "iopub.execute_input": "2021-05-12T07:10:59.744338Z",
     "iopub.status.busy": "2021-05-12T07:10:59.744338Z",
     "iopub.status.idle": "2021-05-12T07:10:59.780805Z",
     "shell.execute_reply": "2021-05-12T07:10:59.779296Z",
     "shell.execute_reply.started": "2021-05-12T07:10:59.744338Z"
    },
    "tags": []
   },
   "outputs": [
    {
     "ename": "ValueError",
     "evalue": "The default Firebase app already exists. This means you called initialize_app() more than once without providing an app name as the second argument. In most cases you only need to call initialize_app() once. But if you do want to initialize multiple apps, pass a second argument to initialize_app() to give each app a unique name.",
     "output_type": "error",
     "traceback": [
      "\u001b[1;31m---------------------------------------------------------------------------\u001b[0m",
      "\u001b[1;31mValueError\u001b[0m                                Traceback (most recent call last)",
      "\u001b[1;32m<ipython-input-35-845c729bf607>\u001b[0m in \u001b[0;36m<module>\u001b[1;34m\u001b[0m\n\u001b[0;32m      1\u001b[0m \u001b[0mcred\u001b[0m\u001b[1;33m=\u001b[0m\u001b[0mcredentials\u001b[0m\u001b[1;33m.\u001b[0m\u001b[0mCertificate\u001b[0m\u001b[1;33m(\u001b[0m\u001b[1;34m\"C://Users/OwaisGondal/Documents/Python/FYP/test/ServiceAccountKey.json\"\u001b[0m\u001b[1;33m)\u001b[0m\u001b[1;33m\u001b[0m\u001b[1;33m\u001b[0m\u001b[0m\n\u001b[1;32m----> 2\u001b[1;33m \u001b[0mfirebase_admin\u001b[0m\u001b[1;33m.\u001b[0m\u001b[0minitialize_app\u001b[0m\u001b[1;33m(\u001b[0m\u001b[0mcred\u001b[0m\u001b[1;33m)\u001b[0m\u001b[1;33m\u001b[0m\u001b[1;33m\u001b[0m\u001b[0m\n\u001b[0m",
      "\u001b[1;32m~\\Anaconda3\\lib\\site-packages\\firebase_admin\\__init__.py\u001b[0m in \u001b[0;36minitialize_app\u001b[1;34m(credential, options, name)\u001b[0m\n\u001b[0;32m     69\u001b[0m \u001b[1;33m\u001b[0m\u001b[0m\n\u001b[0;32m     70\u001b[0m     \u001b[1;32mif\u001b[0m \u001b[0mname\u001b[0m \u001b[1;33m==\u001b[0m \u001b[0m_DEFAULT_APP_NAME\u001b[0m\u001b[1;33m:\u001b[0m\u001b[1;33m\u001b[0m\u001b[1;33m\u001b[0m\u001b[0m\n\u001b[1;32m---> 71\u001b[1;33m         raise ValueError((\n\u001b[0m\u001b[0;32m     72\u001b[0m             \u001b[1;34m'The default Firebase app already exists. This means you called '\u001b[0m\u001b[1;33m\u001b[0m\u001b[1;33m\u001b[0m\u001b[0m\n\u001b[0;32m     73\u001b[0m             \u001b[1;34m'initialize_app() more than once without providing an app name as '\u001b[0m\u001b[1;33m\u001b[0m\u001b[1;33m\u001b[0m\u001b[0m\n",
      "\u001b[1;31mValueError\u001b[0m: The default Firebase app already exists. This means you called initialize_app() more than once without providing an app name as the second argument. In most cases you only need to call initialize_app() once. But if you do want to initialize multiple apps, pass a second argument to initialize_app() to give each app a unique name."
     ]
    }
   ],
   "source": [
    "cred = credentials.Certificate(\n",
    "    \"C://Users/OwaisGondal/Documents/Python/FYP/test/ServiceAccountKey.json\"\n",
    ")\n",
    "firebase_admin.initialize_app(cred)"
   ]
  },
  {
   "cell_type": "code",
   "execution_count": 36,
   "id": "9b36e5ac-6458-4823-be51-1fda5c6457ea",
   "metadata": {
    "execution": {
     "iopub.execute_input": "2021-05-12T07:11:04.759765Z",
     "iopub.status.busy": "2021-05-12T07:11:04.759765Z",
     "iopub.status.idle": "2021-05-12T07:11:04.774088Z",
     "shell.execute_reply": "2021-05-12T07:11:04.773138Z",
     "shell.execute_reply.started": "2021-05-12T07:11:04.759765Z"
    },
    "tags": []
   },
   "outputs": [],
   "source": [
    "db = firestore.client()  # this connects to Firestore"
   ]
  },
  {
   "cell_type": "code",
   "execution_count": 37,
   "id": "aa825c8e-1883-4a0f-bc9a-6d03561f6750",
   "metadata": {
    "execution": {
     "iopub.execute_input": "2021-05-12T07:11:05.861987Z",
     "iopub.status.busy": "2021-05-12T07:11:05.861987Z",
     "iopub.status.idle": "2021-05-12T07:11:05.873107Z",
     "shell.execute_reply": "2021-05-12T07:11:05.872057Z",
     "shell.execute_reply.started": "2021-05-12T07:11:05.861987Z"
    },
    "tags": []
   },
   "outputs": [],
   "source": [
    "collection = db.collection(\"places\")  # opens 'places' collection"
   ]
  },
  {
   "cell_type": "code",
   "execution_count": 38,
   "id": "461f05d6-f859-490b-8c06-fd1cd51ba3d1",
   "metadata": {
    "execution": {
     "iopub.execute_input": "2021-05-12T07:11:07.514550Z",
     "iopub.status.busy": "2021-05-12T07:11:07.514550Z",
     "iopub.status.idle": "2021-05-12T07:11:07.521178Z",
     "shell.execute_reply": "2021-05-12T07:11:07.520179Z",
     "shell.execute_reply.started": "2021-05-12T07:11:07.514550Z"
    },
    "tags": []
   },
   "outputs": [],
   "source": [
    "doc = collection.document(\"rome\")  # specifies the rome document"
   ]
  },
  {
   "cell_type": "code",
   "execution_count": 39,
   "id": "6056f8ef-8a02-424a-a69b-9fa4ee32e86c",
   "metadata": {
    "execution": {
     "iopub.execute_input": "2021-05-12T07:11:10.899187Z",
     "iopub.status.busy": "2021-05-12T07:11:10.899187Z",
     "iopub.status.idle": "2021-05-12T07:11:11.235234Z",
     "shell.execute_reply": "2021-05-12T07:11:11.235234Z",
     "shell.execute_reply.started": "2021-05-12T07:11:10.899187Z"
    },
    "tags": []
   },
   "outputs": [],
   "source": [
    "doc = collection.document(\"rome\")\n",
    "res = doc.get().to_dict()"
   ]
  },
  {
   "cell_type": "code",
   "execution_count": 40,
   "id": "f6735747-8b35-46ed-b8c2-4589a5c8fc33",
   "metadata": {
    "execution": {
     "iopub.execute_input": "2021-05-12T07:11:12.086108Z",
     "iopub.status.busy": "2021-05-12T07:11:12.085108Z",
     "iopub.status.idle": "2021-05-12T07:11:12.103053Z",
     "shell.execute_reply": "2021-05-12T07:11:12.102056Z",
     "shell.execute_reply.started": "2021-05-12T07:11:12.086108Z"
    },
    "tags": []
   },
   "outputs": [
    {
     "data": {
      "text/plain": [
       "{'long': 12.4964,\n",
       " 'lat': 41.9028,\n",
       " 'landmarks': ['villa_borghese', 'trastevere', 'vatican_city']}"
      ]
     },
     "execution_count": 40,
     "metadata": {},
     "output_type": "execute_result"
    }
   ],
   "source": [
    "res"
   ]
  },
  {
   "cell_type": "code",
   "execution_count": 41,
   "id": "46d861ea-ca92-4cda-a45d-a0703dc14cd6",
   "metadata": {
    "execution": {
     "iopub.execute_input": "2021-05-12T07:11:14.525295Z",
     "iopub.status.busy": "2021-05-12T07:11:14.525295Z",
     "iopub.status.idle": "2021-05-12T07:11:14.927462Z",
     "shell.execute_reply": "2021-05-12T07:11:14.924395Z",
     "shell.execute_reply.started": "2021-05-12T07:11:14.525295Z"
    },
    "tags": []
   },
   "outputs": [
    {
     "name": "stdout",
     "output_type": "stream",
     "text": [
      "[<google.cloud.firestore_v1.base_document.DocumentSnapshot object at 0x00000278CC8A87F0>]\n"
     ]
    }
   ],
   "source": [
    "docs = collection.get()\n",
    "print(docs)"
   ]
  },
  {
   "cell_type": "code",
   "execution_count": 42,
   "id": "efa44886-cb87-49bc-ad73-a9e60c3f39f4",
   "metadata": {
    "execution": {
     "iopub.execute_input": "2021-05-12T07:11:20.379199Z",
     "iopub.status.busy": "2021-05-12T07:11:20.379199Z",
     "iopub.status.idle": "2021-05-12T07:11:20.772674Z",
     "shell.execute_reply": "2021-05-12T07:11:20.768097Z",
     "shell.execute_reply.started": "2021-05-12T07:11:20.379199Z"
    },
    "tags": []
   },
   "outputs": [
    {
     "name": "stdout",
     "output_type": "stream",
     "text": [
      "update_time {\n",
      "  seconds: 1620803481\n",
      "  nanos: 177106000\n",
      "}\n",
      "\n"
     ]
    }
   ],
   "source": [
    "res = collection.document(\"barcelona\").set(\n",
    "    {\n",
    "        \"lat\": 41.3851,\n",
    "        \"long\": 2.1734,\n",
    "        \"weather\": \"great\",\n",
    "        \"landmarks\": [\"guadi park\", \"guadi church\", \"guadi everything\"],\n",
    "    }\n",
    ")\n",
    "\n",
    "print(res)"
   ]
  },
  {
   "cell_type": "code",
   "execution_count": 43,
   "id": "94607afa-5e21-4a01-8861-697009021720",
   "metadata": {
    "execution": {
     "iopub.execute_input": "2021-05-12T07:11:24.072740Z",
     "iopub.status.busy": "2021-05-12T07:11:24.072740Z",
     "iopub.status.idle": "2021-05-12T07:11:24.445969Z",
     "shell.execute_reply": "2021-05-12T07:11:24.445969Z",
     "shell.execute_reply.started": "2021-05-12T07:11:24.072740Z"
    },
    "tags": []
   },
   "outputs": [],
   "source": [
    "res = collection.document(\"barcelona\").update({\"weather\": \"sun\"})"
   ]
  },
  {
   "cell_type": "code",
   "execution_count": 44,
   "id": "0e7bc3f0-e482-4887-94ec-fd3682a8d34c",
   "metadata": {
    "execution": {
     "iopub.execute_input": "2021-05-12T07:11:27.555780Z",
     "iopub.status.busy": "2021-05-12T07:11:27.554783Z",
     "iopub.status.idle": "2021-05-12T07:11:28.052984Z",
     "shell.execute_reply": "2021-05-12T07:11:28.048387Z",
     "shell.execute_reply.started": "2021-05-12T07:11:27.554783Z"
    },
    "tags": []
   },
   "outputs": [
    {
     "data": {
      "text/plain": [
       "update_time {\n",
       "  seconds: 1620803488\n",
       "  nanos: 410572000\n",
       "}\n",
       "transform_results {\n",
       "  null_value: NULL_VALUE\n",
       "}"
      ]
     },
     "execution_count": 44,
     "metadata": {},
     "output_type": "execute_result"
    }
   ],
   "source": [
    "collection.document(\"rome\").update({\"where_to_go\": firestore.ArrayUnion([\"colosseum\"])})"
   ]
  },
  {
   "cell_type": "code",
   "execution_count": 45,
   "id": "6dc5782e-91f0-48cc-8815-fb2631a99c2a",
   "metadata": {
    "execution": {
     "iopub.execute_input": "2021-05-12T07:11:30.087284Z",
     "iopub.status.busy": "2021-05-12T07:11:30.087284Z",
     "iopub.status.idle": "2021-05-12T07:11:30.507461Z",
     "shell.execute_reply": "2021-05-12T07:11:30.502114Z",
     "shell.execute_reply.started": "2021-05-12T07:11:30.087284Z"
    },
    "tags": []
   },
   "outputs": [
    {
     "data": {
      "text/plain": [
       "update_time {\n",
       "  seconds: 1620803488\n",
       "  nanos: 410572000\n",
       "}\n",
       "transform_results {\n",
       "  null_value: NULL_VALUE\n",
       "}"
      ]
     },
     "execution_count": 45,
     "metadata": {},
     "output_type": "execute_result"
    }
   ],
   "source": [
    "collection.document(\"rome\").update(\n",
    "    {\"where_to_go\": firestore.ArrayRemove([\"vatican_city\", \"traverse\"])}\n",
    ")"
   ]
  },
  {
   "cell_type": "code",
   "execution_count": 46,
   "id": "426cfc59-5f20-418c-b2fe-f5070fc5eddc",
   "metadata": {
    "execution": {
     "iopub.execute_input": "2021-05-12T07:11:31.788302Z",
     "iopub.status.busy": "2021-05-12T07:11:31.787305Z",
     "iopub.status.idle": "2021-05-12T07:11:32.228185Z",
     "shell.execute_reply": "2021-05-12T07:11:32.226191Z",
     "shell.execute_reply.started": "2021-05-12T07:11:31.788302Z"
    },
    "tags": []
   },
   "outputs": [
    {
     "data": {
      "text/plain": [
       "DatetimeWithNanoseconds(2021, 5, 12, 7, 11, 32, 588347, tzinfo=datetime.timezone.utc)"
      ]
     },
     "execution_count": 46,
     "metadata": {},
     "output_type": "execute_result"
    }
   ],
   "source": [
    "collection.document(\"rome\").delete()"
   ]
  },
  {
   "cell_type": "code",
   "execution_count": 47,
   "id": "67a82745-1108-4654-8240-00e0f1a3e20d",
   "metadata": {
    "execution": {
     "iopub.execute_input": "2021-05-12T07:11:39.167293Z",
     "iopub.status.busy": "2021-05-12T07:11:39.166310Z",
     "iopub.status.idle": "2021-05-12T07:11:39.608854Z",
     "shell.execute_reply": "2021-05-12T07:11:39.606859Z",
     "shell.execute_reply.started": "2021-05-12T07:11:39.167293Z"
    },
    "tags": []
   },
   "outputs": [
    {
     "data": {
      "text/plain": [
       "update_time {\n",
       "  seconds: 1620803499\n",
       "  nanos: 950610000\n",
       "}"
      ]
     },
     "execution_count": 47,
     "metadata": {},
     "output_type": "execute_result"
    }
   ],
   "source": [
    "collection.document(\"barcelona\").update({\"weather\": firestore.DELETE_FIELD})"
   ]
  },
  {
   "cell_type": "code",
   "execution_count": 1,
   "id": "3083271d-2f7a-4fe7-a066-b003e750129e",
   "metadata": {
    "execution": {
     "iopub.execute_input": "2021-06-01T14:22:28.281043Z",
     "iopub.status.busy": "2021-06-01T14:22:28.280045Z",
     "iopub.status.idle": "2021-06-01T14:22:28.504562Z",
     "shell.execute_reply": "2021-06-01T14:22:28.503594Z",
     "shell.execute_reply.started": "2021-06-01T14:22:28.281043Z"
    },
    "tags": []
   },
   "outputs": [
    {
     "ename": "NameError",
     "evalue": "name 'db' is not defined",
     "output_type": "error",
     "traceback": [
      "\u001b[1;31m---------------------------------------------------------------------------\u001b[0m",
      "\u001b[1;31mNameError\u001b[0m                                 Traceback (most recent call last)",
      "\u001b[1;32m<ipython-input-1-7eaa82a76b5f>\u001b[0m in \u001b[0;36m<module>\u001b[1;34m\u001b[0m\n\u001b[0;32m     37\u001b[0m     ),\n\u001b[0;32m     38\u001b[0m ]\n\u001b[1;32m---> 39\u001b[1;33m \u001b[0mcollection\u001b[0m \u001b[1;33m=\u001b[0m \u001b[0mdb\u001b[0m\u001b[1;33m.\u001b[0m\u001b[0mcollection\u001b[0m\u001b[1;33m(\u001b[0m\u001b[1;34m\"places\"\u001b[0m\u001b[1;33m)\u001b[0m\u001b[1;33m\u001b[0m\u001b[1;33m\u001b[0m\u001b[0m\n\u001b[0m",
      "\u001b[1;31mNameError\u001b[0m: name 'db' is not defined"
     ]
    }
   ],
   "source": [
    "data = [\n",
    "    (\n",
    "        \"barcelona\",\n",
    "        {\n",
    "            \"lat\": 41.3851,\n",
    "            \"long\": 2.1734,\n",
    "            \"landmarks\": [\"guadí park\", \"gaudí church\", \"gaudí everything\"],\n",
    "        },\n",
    "    ),\n",
    "    (\n",
    "        \"rome\",\n",
    "        {\n",
    "            \"lat\": 41.9028,\n",
    "            \"long\": 12.4964,\n",
    "            \"landmarks\": [\"villa_borghese\", \"trastevere\", \"vatican_city\"],\n",
    "        },\n",
    "    ),\n",
    "    (\n",
    "        \"nyc\",\n",
    "        {\n",
    "            \"lat\": 40.7128,\n",
    "            \"long\": -74.0061,\n",
    "            \"landmarks\": [\"central_park\", \"statue_of_liberty\", \"empire_state_building\"],\n",
    "        },\n",
    "    ),\n",
    "    (\n",
    "        \"brisbane\",\n",
    "        {\n",
    "            \"lat\": 27.4698,\n",
    "            \"long\": 153.0251,\n",
    "            \"landmarks\": [\n",
    "                \"south_bank_parklands\",\n",
    "                \"lone_pine_koala_sanctuary\",\n",
    "                \"glass_house_mountains\",\n",
    "            ],\n",
    "        },\n",
    "    ),\n",
    "]\n",
    "collection = db.collection(\"places\")"
   ]
  },
  {
   "cell_type": "code",
   "execution_count": 49,
   "id": "d5b68a9f-fb76-432e-b997-9a5ce3345cd9",
   "metadata": {
    "execution": {
     "iopub.execute_input": "2021-05-12T07:11:44.264564Z",
     "iopub.status.busy": "2021-05-12T07:11:44.264564Z",
     "iopub.status.idle": "2021-05-12T07:11:45.647862Z",
     "shell.execute_reply": "2021-05-12T07:11:45.641987Z",
     "shell.execute_reply.started": "2021-05-12T07:11:44.264564Z"
    },
    "tags": []
   },
   "outputs": [],
   "source": [
    "for item in data:\n",
    "    collection.document(item[0]).set(item[1])"
   ]
  },
  {
   "cell_type": "code",
   "execution_count": 50,
   "id": "b63067ad-de0c-44bb-a3ce-7d448d5711e2",
   "metadata": {
    "execution": {
     "iopub.execute_input": "2021-05-12T07:11:48.432271Z",
     "iopub.status.busy": "2021-05-12T07:11:48.432271Z",
     "iopub.status.idle": "2021-05-12T07:11:48.817532Z",
     "shell.execute_reply": "2021-05-12T07:11:48.815536Z",
     "shell.execute_reply.started": "2021-05-12T07:11:48.432271Z"
    },
    "tags": []
   },
   "outputs": [
    {
     "data": {
      "text/plain": [
       "[<google.cloud.firestore_v1.base_document.DocumentSnapshot at 0x278cca0fd00>,\n",
       " <google.cloud.firestore_v1.base_document.DocumentSnapshot at 0x278cca0feb0>]"
      ]
     },
     "execution_count": 50,
     "metadata": {},
     "output_type": "execute_result"
    }
   ],
   "source": [
    "collection.where(\"long\", \">\", 9.4989).get()"
   ]
  },
  {
   "cell_type": "code",
   "execution_count": 33,
   "id": "3ae5aaeb-8ce0-4d5d-bc9b-aa64ec58440c",
   "metadata": {
    "execution": {
     "iopub.execute_input": "2021-05-12T07:08:05.814627Z",
     "iopub.status.busy": "2021-05-12T07:08:05.814627Z",
     "iopub.status.idle": "2021-05-12T07:08:06.216228Z",
     "shell.execute_reply": "2021-05-12T07:08:06.214234Z",
     "shell.execute_reply.started": "2021-05-12T07:08:05.814627Z"
    },
    "tags": []
   },
   "outputs": [
    {
     "data": {
      "text/plain": [
       "[<google.cloud.firestore_v1.base_document.DocumentSnapshot at 0x278cc9c25e0>,\n",
       " <google.cloud.firestore_v1.base_document.DocumentSnapshot at 0x278cc9c2dc0>]"
      ]
     },
     "execution_count": 33,
     "metadata": {},
     "output_type": "execute_result"
    }
   ],
   "source": [
    "collection.where(\"long\", \">\", -9.4989).where(\"long\", \"<\", 33.4299).get()"
   ]
  },
  {
   "cell_type": "code",
   "execution_count": 1,
   "id": "a2d38758-a72c-4e8d-9c2e-a384652bad53",
   "metadata": {
    "execution": {
     "iopub.execute_input": "2021-05-17T05:08:51.890900Z",
     "iopub.status.busy": "2021-05-17T05:08:51.890900Z",
     "iopub.status.idle": "2021-05-17T05:08:51.909850Z",
     "shell.execute_reply": "2021-05-17T05:08:51.909028Z",
     "shell.execute_reply.started": "2021-05-17T05:08:51.890900Z"
    }
   },
   "outputs": [],
   "source": [
    "x = 1 + 2 * 3 - 8 / 4"
   ]
  },
  {
   "cell_type": "code",
   "execution_count": 2,
   "id": "bd50c1d1-ef43-43ea-a88a-986640b02355",
   "metadata": {
    "execution": {
     "iopub.execute_input": "2021-05-17T05:08:54.335128Z",
     "iopub.status.busy": "2021-05-17T05:08:54.334130Z",
     "iopub.status.idle": "2021-05-17T05:08:54.356657Z",
     "shell.execute_reply": "2021-05-17T05:08:54.356149Z",
     "shell.execute_reply.started": "2021-05-17T05:08:54.335128Z"
    }
   },
   "outputs": [
    {
     "data": {
      "text/plain": [
       "5.0"
      ]
     },
     "execution_count": 2,
     "metadata": {},
     "output_type": "execute_result"
    }
   ],
   "source": [
    "x"
   ]
  },
  {
   "cell_type": "code",
   "execution_count": 3,
   "id": "fe083904-7b04-4f2f-969e-119bf401d62c",
   "metadata": {
    "execution": {
     "iopub.execute_input": "2021-05-17T05:09:21.271477Z",
     "iopub.status.busy": "2021-05-17T05:09:21.270452Z",
     "iopub.status.idle": "2021-05-17T05:09:21.278107Z",
     "shell.execute_reply": "2021-05-17T05:09:21.277110Z",
     "shell.execute_reply.started": "2021-05-17T05:09:21.271477Z"
    }
   },
   "outputs": [],
   "source": [
    "x = int(98.6)"
   ]
  },
  {
   "cell_type": "code",
   "execution_count": 4,
   "id": "4e016ca5-ea9a-4218-ae68-3020d066bef5",
   "metadata": {
    "execution": {
     "iopub.execute_input": "2021-05-17T05:09:25.441218Z",
     "iopub.status.busy": "2021-05-17T05:09:25.441218Z",
     "iopub.status.idle": "2021-05-17T05:09:25.454462Z",
     "shell.execute_reply": "2021-05-17T05:09:25.453465Z",
     "shell.execute_reply.started": "2021-05-17T05:09:25.441218Z"
    }
   },
   "outputs": [
    {
     "data": {
      "text/plain": [
       "98"
      ]
     },
     "execution_count": 4,
     "metadata": {},
     "output_type": "execute_result"
    }
   ],
   "source": [
    "x"
   ]
  },
  {
   "cell_type": "code",
   "execution_count": null,
   "id": "4a15b85a-55b7-4317-82bf-60f79d58a975",
   "metadata": {},
   "outputs": [],
   "source": []
  }
 ],
 "metadata": {
  "kernelspec": {
   "display_name": "Python 3",
   "language": "python",
   "name": "python3"
  },
  "language_info": {
   "codemirror_mode": {
    "name": "ipython",
    "version": 3
   },
   "file_extension": ".py",
   "mimetype": "text/x-python",
   "name": "python",
   "nbconvert_exporter": "python",
   "pygments_lexer": "ipython3",
   "version": "3.8.10"
  }
 },
 "nbformat": 4,
 "nbformat_minor": 5
}
