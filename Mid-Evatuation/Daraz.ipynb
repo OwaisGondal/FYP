{
 "cells": [
  {
   "cell_type": "code",
   "execution_count": 35,
   "id": "cb02129c-d2c1-4809-b19b-7dd9f02a230b",
   "metadata": {},
   "outputs": [],
   "source": [
    "import pandas as pd\n",
    "from selenium import webdriver"
   ]
  },
  {
   "cell_type": "code",
   "execution_count": 36,
   "id": "b434691f-ad1c-4e8d-b993-f1f9eb6b88a1",
   "metadata": {},
   "outputs": [],
   "source": [
    "Names=[]\n",
    "Prices=[]"
   ]
  },
  {
   "cell_type": "code",
   "execution_count": 37,
   "id": "1444799e-691c-4b35-b03a-52403e470892",
   "metadata": {},
   "outputs": [],
   "source": [
    "url=\"https://www.daraz.pk/smartphones\""
   ]
  },
  {
   "cell_type": "code",
   "execution_count": 38,
   "id": "ce4a265f-21e5-4d62-9621-facfd33667cd",
   "metadata": {},
   "outputs": [],
   "source": [
    "driver = webdriver.Chrome(\n",
    "    \"C:/Users/OwaisGondal/Downloads/Compressed/chromedriver_win32/chromedriver.exe\"\n",
    ")"
   ]
  },
  {
   "cell_type": "code",
   "execution_count": 39,
   "id": "0e5c4c8b-2efa-4bca-8692-6f0e07c92229",
   "metadata": {},
   "outputs": [],
   "source": [
    "driver.get(url)"
   ]
  },
  {
   "cell_type": "code",
   "execution_count": 40,
   "id": "c740ad9a-dd78-4e22-99be-00f14c9f30a9",
   "metadata": {},
   "outputs": [],
   "source": [
    "for i in range(2,9):\n",
    "    page=driver.find_element_by_xpath('//*[@id=\"root\"]/div/div[3]/div[1]/div/div[1]/div[3]/div/ul/li['+str(i)+\"]/a\")\n",
    "    driver.get(page.get_attribute(\"href\"))\n",
    "    for j in range(1,40):\n",
    "        Name=driver.find_element_by_xpath(\n",
    "        '//*[@id=\"root\"]/div/div[3]/div[1]/div/div[1]/div[2]/div['\n",
    "        + str(j)\n",
    "        + \"]/div/div/div[2]/div[2]/a\"\n",
    "    )\n",
    "        Price=driver.find_element_by_xpath(\n",
    "        '//*[@id=\"root\"]/div/div[3]/div[1]/div/div[1]/div[2]/div['\n",
    "        + str(j)\n",
    "        + \"]/div/div/div[2]/div[3]/span\"\n",
    "    )\n",
    "        Names.append(Name.text)\n",
    "        Prices.append(Price.text)\n",
    "        \n",
    "        "
   ]
  },
  {
   "cell_type": "code",
   "execution_count": 41,
   "id": "463593d4-9b4e-4552-932d-1b4fcb11d827",
   "metadata": {},
   "outputs": [
    {
     "data": {
      "text/plain": [
       "273"
      ]
     },
     "execution_count": 41,
     "metadata": {},
     "output_type": "execute_result"
    }
   ],
   "source": [
    "len(Names)"
   ]
  },
  {
   "cell_type": "code",
   "execution_count": 42,
   "id": "6532cfff-0f1e-4554-869a-55817c54b0d8",
   "metadata": {},
   "outputs": [
    {
     "data": {
      "text/plain": [
       "273"
      ]
     },
     "execution_count": 42,
     "metadata": {},
     "output_type": "execute_result"
    }
   ],
   "source": [
    "len(Prices)"
   ]
  },
  {
   "cell_type": "code",
   "execution_count": 43,
   "id": "66f16b6f-6c25-4e7b-9dc7-20b4fa12f958",
   "metadata": {
    "scrolled": true,
    "tags": []
   },
   "outputs": [],
   "source": [
    "# Names"
   ]
  },
  {
   "cell_type": "code",
   "execution_count": 44,
   "id": "66a316a0-166e-4909-883b-162fb2eaac87",
   "metadata": {},
   "outputs": [],
   "source": [
    "# driver.back()"
   ]
  },
  {
   "cell_type": "code",
   "execution_count": 45,
   "id": "738b3b97-55cd-4f60-b975-1b456970dcab",
   "metadata": {},
   "outputs": [],
   "source": []
  },
  {
   "cell_type": "code",
   "execution_count": 46,
   "id": "26ddc378-3a25-434b-b11d-da934ddf5478",
   "metadata": {},
   "outputs": [],
   "source": [
    "df=pd.DataFrame(list(zip(Names,Prices)),columns=[\"Name\",\"Price\"])"
   ]
  },
  {
   "cell_type": "code",
   "execution_count": 47,
   "id": "5a252888-eba3-412e-95ee-d4339209f13e",
   "metadata": {},
   "outputs": [
    {
     "data": {
      "text/html": [
       "<div>\n",
       "<style scoped>\n",
       "    .dataframe tbody tr th:only-of-type {\n",
       "        vertical-align: middle;\n",
       "    }\n",
       "\n",
       "    .dataframe tbody tr th {\n",
       "        vertical-align: top;\n",
       "    }\n",
       "\n",
       "    .dataframe thead th {\n",
       "        text-align: right;\n",
       "    }\n",
       "</style>\n",
       "<table border=\"1\" class=\"dataframe\">\n",
       "  <thead>\n",
       "    <tr style=\"text-align: right;\">\n",
       "      <th></th>\n",
       "      <th>Name</th>\n",
       "      <th>Price</th>\n",
       "    </tr>\n",
       "  </thead>\n",
       "  <tbody>\n",
       "    <tr>\n",
       "      <th>0</th>\n",
       "      <td>Samsung M31s - 6.5\" Infinity O Display - 64MP ...</td>\n",
       "      <td>Rs. 46,499</td>\n",
       "    </tr>\n",
       "    <tr>\n",
       "      <th>1</th>\n",
       "      <td>Redmi Note 10 (4GB+128GB) - 48MP Quad camera -...</td>\n",
       "      <td>Rs. 31,999</td>\n",
       "    </tr>\n",
       "    <tr>\n",
       "      <th>2</th>\n",
       "      <td>POCO X3 Pro 6+128GB - 6.67\" IPS Display - 48MP...</td>\n",
       "      <td>Rs. 41,999</td>\n",
       "    </tr>\n",
       "    <tr>\n",
       "      <th>3</th>\n",
       "      <td>Samsung M51 - 6.7\" sAMOLED Plus Display - 64MP...</td>\n",
       "      <td>Rs. 58,999</td>\n",
       "    </tr>\n",
       "    <tr>\n",
       "      <th>4</th>\n",
       "      <td>QMobile GLi 2020 - 4\" Display, 1.3 GHz Quad Co...</td>\n",
       "      <td>Rs. 4,699</td>\n",
       "    </tr>\n",
       "    <tr>\n",
       "      <th>...</th>\n",
       "      <td>...</td>\n",
       "      <td>...</td>\n",
       "    </tr>\n",
       "    <tr>\n",
       "      <th>268</th>\n",
       "      <td>vivo Y51s - 8GB - 128GB - 48MP Rear Camera - 5...</td>\n",
       "      <td>Rs. 36,999</td>\n",
       "    </tr>\n",
       "    <tr>\n",
       "      <th>269</th>\n",
       "      <td>Vivo - V20 - 8GB RAM - 44MP Front Camera - SDM...</td>\n",
       "      <td>Rs. 54,999</td>\n",
       "    </tr>\n",
       "    <tr>\n",
       "      <th>270</th>\n",
       "      <td>Itel Vision 1 Pro - 6.5\" Inch Display - 2GB RA...</td>\n",
       "      <td>Rs. 12,148</td>\n",
       "    </tr>\n",
       "    <tr>\n",
       "      <th>271</th>\n",
       "      <td>Samsung Galaxy A02s 6.5 Inch 4 GB RAM 64 GB RO...</td>\n",
       "      <td>Rs. 22,195</td>\n",
       "    </tr>\n",
       "    <tr>\n",
       "      <th>272</th>\n",
       "      <td>Xiaomi Redmi 9T - 6.53\" Inch Display - 6GB RAM...</td>\n",
       "      <td>Rs. 28,490</td>\n",
       "    </tr>\n",
       "  </tbody>\n",
       "</table>\n",
       "<p>273 rows × 2 columns</p>\n",
       "</div>"
      ],
      "text/plain": [
       "                                                  Name       Price\n",
       "0    Samsung M31s - 6.5\" Infinity O Display - 64MP ...  Rs. 46,499\n",
       "1    Redmi Note 10 (4GB+128GB) - 48MP Quad camera -...  Rs. 31,999\n",
       "2    POCO X3 Pro 6+128GB - 6.67\" IPS Display - 48MP...  Rs. 41,999\n",
       "3    Samsung M51 - 6.7\" sAMOLED Plus Display - 64MP...  Rs. 58,999\n",
       "4    QMobile GLi 2020 - 4\" Display, 1.3 GHz Quad Co...   Rs. 4,699\n",
       "..                                                 ...         ...\n",
       "268  vivo Y51s - 8GB - 128GB - 48MP Rear Camera - 5...  Rs. 36,999\n",
       "269  Vivo - V20 - 8GB RAM - 44MP Front Camera - SDM...  Rs. 54,999\n",
       "270  Itel Vision 1 Pro - 6.5\" Inch Display - 2GB RA...  Rs. 12,148\n",
       "271  Samsung Galaxy A02s 6.5 Inch 4 GB RAM 64 GB RO...  Rs. 22,195\n",
       "272  Xiaomi Redmi 9T - 6.53\" Inch Display - 6GB RAM...  Rs. 28,490\n",
       "\n",
       "[273 rows x 2 columns]"
      ]
     },
     "execution_count": 47,
     "metadata": {},
     "output_type": "execute_result"
    }
   ],
   "source": [
    "df"
   ]
  },
  {
   "cell_type": "code",
   "execution_count": 48,
   "id": "5dc18b05-4cbe-4d6c-8ed5-93ec9b4d8f5b",
   "metadata": {},
   "outputs": [],
   "source": [
    "df.sort_values([\"Name\",\"Price\"],inplace=True)"
   ]
  },
  {
   "cell_type": "code",
   "execution_count": 49,
   "id": "9bc8b0f1-0a1d-4b0f-9bf7-5f26fc1b1b50",
   "metadata": {},
   "outputs": [
    {
     "data": {
      "text/html": [
       "<div>\n",
       "<style scoped>\n",
       "    .dataframe tbody tr th:only-of-type {\n",
       "        vertical-align: middle;\n",
       "    }\n",
       "\n",
       "    .dataframe tbody tr th {\n",
       "        vertical-align: top;\n",
       "    }\n",
       "\n",
       "    .dataframe thead th {\n",
       "        text-align: right;\n",
       "    }\n",
       "</style>\n",
       "<table border=\"1\" class=\"dataframe\">\n",
       "  <thead>\n",
       "    <tr style=\"text-align: right;\">\n",
       "      <th></th>\n",
       "      <th>Name</th>\n",
       "      <th>Price</th>\n",
       "    </tr>\n",
       "  </thead>\n",
       "  <tbody>\n",
       "    <tr>\n",
       "      <th>183</th>\n",
       "      <td>216 Dual Sim - 2.4'' - 16MB RAM</td>\n",
       "      <td>Rs. 5,598</td>\n",
       "    </tr>\n",
       "    <tr>\n",
       "      <th>186</th>\n",
       "      <td>Apple iPhone 12 - 64GB - PTA Approved</td>\n",
       "      <td>Rs. 215,000</td>\n",
       "    </tr>\n",
       "    <tr>\n",
       "      <th>20</th>\n",
       "      <td>ELEPHONE A6 Mini 4GB - 32GB - 5.71 - Finger Print</td>\n",
       "      <td>Rs. 12,999</td>\n",
       "    </tr>\n",
       "    <tr>\n",
       "      <th>192</th>\n",
       "      <td>Elephone A6 Max - 6.53\" IPS Display - 4GB RAM ...</td>\n",
       "      <td>Rs. 14,999</td>\n",
       "    </tr>\n",
       "    <tr>\n",
       "      <th>231</th>\n",
       "      <td>Elephone U2 - 6.26 FHD+ Display - 6GB RAM - 12...</td>\n",
       "      <td>Rs. 29,999</td>\n",
       "    </tr>\n",
       "    <tr>\n",
       "      <th>...</th>\n",
       "      <td>...</td>\n",
       "      <td>...</td>\n",
       "    </tr>\n",
       "    <tr>\n",
       "      <th>37</th>\n",
       "      <td>vivo Y20s - 4GB - 128GB - 5000 mAh - Side Fing...</td>\n",
       "      <td>Rs. 29,999</td>\n",
       "    </tr>\n",
       "    <tr>\n",
       "      <th>132</th>\n",
       "      <td>vivo Y31 - 4GB - 128GB - 5000mAh - 48MP Rear C...</td>\n",
       "      <td>Rs. 34,999</td>\n",
       "    </tr>\n",
       "    <tr>\n",
       "      <th>265</th>\n",
       "      <td>vivo Y51s - 8GB - 128GB - 48MP Rear Camera - 5...</td>\n",
       "      <td>Rs. 36,999</td>\n",
       "    </tr>\n",
       "    <tr>\n",
       "      <th>268</th>\n",
       "      <td>vivo Y51s - 8GB - 128GB - 48MP Rear Camera - 5...</td>\n",
       "      <td>Rs. 36,999</td>\n",
       "    </tr>\n",
       "    <tr>\n",
       "      <th>52</th>\n",
       "      <td>vivo Y51s - 8GB - 128GB - 48MP Rear Camera - 5...</td>\n",
       "      <td>Rs. 39,999</td>\n",
       "    </tr>\n",
       "  </tbody>\n",
       "</table>\n",
       "<p>273 rows × 2 columns</p>\n",
       "</div>"
      ],
      "text/plain": [
       "                                                  Name        Price\n",
       "183                    216 Dual Sim - 2.4'' - 16MB RAM    Rs. 5,598\n",
       "186              Apple iPhone 12 - 64GB - PTA Approved  Rs. 215,000\n",
       "20   ELEPHONE A6 Mini 4GB - 32GB - 5.71 - Finger Print   Rs. 12,999\n",
       "192  Elephone A6 Max - 6.53\" IPS Display - 4GB RAM ...   Rs. 14,999\n",
       "231  Elephone U2 - 6.26 FHD+ Display - 6GB RAM - 12...   Rs. 29,999\n",
       "..                                                 ...          ...\n",
       "37   vivo Y20s - 4GB - 128GB - 5000 mAh - Side Fing...   Rs. 29,999\n",
       "132  vivo Y31 - 4GB - 128GB - 5000mAh - 48MP Rear C...   Rs. 34,999\n",
       "265  vivo Y51s - 8GB - 128GB - 48MP Rear Camera - 5...   Rs. 36,999\n",
       "268  vivo Y51s - 8GB - 128GB - 48MP Rear Camera - 5...   Rs. 36,999\n",
       "52   vivo Y51s - 8GB - 128GB - 48MP Rear Camera - 5...   Rs. 39,999\n",
       "\n",
       "[273 rows x 2 columns]"
      ]
     },
     "execution_count": 49,
     "metadata": {},
     "output_type": "execute_result"
    }
   ],
   "source": [
    "df"
   ]
  },
  {
   "cell_type": "code",
   "execution_count": 50,
   "id": "b548aa2a-8f2c-4bad-857d-033624ca075a",
   "metadata": {},
   "outputs": [],
   "source": [
    "df.reset_index(0,inplace=True)"
   ]
  },
  {
   "cell_type": "code",
   "execution_count": 51,
   "id": "5925b61f-1115-4a99-986e-20d37b6bf08d",
   "metadata": {},
   "outputs": [
    {
     "data": {
      "text/html": [
       "<div>\n",
       "<style scoped>\n",
       "    .dataframe tbody tr th:only-of-type {\n",
       "        vertical-align: middle;\n",
       "    }\n",
       "\n",
       "    .dataframe tbody tr th {\n",
       "        vertical-align: top;\n",
       "    }\n",
       "\n",
       "    .dataframe thead th {\n",
       "        text-align: right;\n",
       "    }\n",
       "</style>\n",
       "<table border=\"1\" class=\"dataframe\">\n",
       "  <thead>\n",
       "    <tr style=\"text-align: right;\">\n",
       "      <th></th>\n",
       "      <th>index</th>\n",
       "      <th>Name</th>\n",
       "      <th>Price</th>\n",
       "    </tr>\n",
       "  </thead>\n",
       "  <tbody>\n",
       "    <tr>\n",
       "      <th>0</th>\n",
       "      <td>183</td>\n",
       "      <td>216 Dual Sim - 2.4'' - 16MB RAM</td>\n",
       "      <td>Rs. 5,598</td>\n",
       "    </tr>\n",
       "    <tr>\n",
       "      <th>1</th>\n",
       "      <td>186</td>\n",
       "      <td>Apple iPhone 12 - 64GB - PTA Approved</td>\n",
       "      <td>Rs. 215,000</td>\n",
       "    </tr>\n",
       "    <tr>\n",
       "      <th>2</th>\n",
       "      <td>20</td>\n",
       "      <td>ELEPHONE A6 Mini 4GB - 32GB - 5.71 - Finger Print</td>\n",
       "      <td>Rs. 12,999</td>\n",
       "    </tr>\n",
       "    <tr>\n",
       "      <th>3</th>\n",
       "      <td>192</td>\n",
       "      <td>Elephone A6 Max - 6.53\" IPS Display - 4GB RAM ...</td>\n",
       "      <td>Rs. 14,999</td>\n",
       "    </tr>\n",
       "    <tr>\n",
       "      <th>4</th>\n",
       "      <td>231</td>\n",
       "      <td>Elephone U2 - 6.26 FHD+ Display - 6GB RAM - 12...</td>\n",
       "      <td>Rs. 29,999</td>\n",
       "    </tr>\n",
       "    <tr>\n",
       "      <th>...</th>\n",
       "      <td>...</td>\n",
       "      <td>...</td>\n",
       "      <td>...</td>\n",
       "    </tr>\n",
       "    <tr>\n",
       "      <th>268</th>\n",
       "      <td>37</td>\n",
       "      <td>vivo Y20s - 4GB - 128GB - 5000 mAh - Side Fing...</td>\n",
       "      <td>Rs. 29,999</td>\n",
       "    </tr>\n",
       "    <tr>\n",
       "      <th>269</th>\n",
       "      <td>132</td>\n",
       "      <td>vivo Y31 - 4GB - 128GB - 5000mAh - 48MP Rear C...</td>\n",
       "      <td>Rs. 34,999</td>\n",
       "    </tr>\n",
       "    <tr>\n",
       "      <th>270</th>\n",
       "      <td>265</td>\n",
       "      <td>vivo Y51s - 8GB - 128GB - 48MP Rear Camera - 5...</td>\n",
       "      <td>Rs. 36,999</td>\n",
       "    </tr>\n",
       "    <tr>\n",
       "      <th>271</th>\n",
       "      <td>268</td>\n",
       "      <td>vivo Y51s - 8GB - 128GB - 48MP Rear Camera - 5...</td>\n",
       "      <td>Rs. 36,999</td>\n",
       "    </tr>\n",
       "    <tr>\n",
       "      <th>272</th>\n",
       "      <td>52</td>\n",
       "      <td>vivo Y51s - 8GB - 128GB - 48MP Rear Camera - 5...</td>\n",
       "      <td>Rs. 39,999</td>\n",
       "    </tr>\n",
       "  </tbody>\n",
       "</table>\n",
       "<p>273 rows × 3 columns</p>\n",
       "</div>"
      ],
      "text/plain": [
       "     index                                               Name        Price\n",
       "0      183                    216 Dual Sim - 2.4'' - 16MB RAM    Rs. 5,598\n",
       "1      186              Apple iPhone 12 - 64GB - PTA Approved  Rs. 215,000\n",
       "2       20  ELEPHONE A6 Mini 4GB - 32GB - 5.71 - Finger Print   Rs. 12,999\n",
       "3      192  Elephone A6 Max - 6.53\" IPS Display - 4GB RAM ...   Rs. 14,999\n",
       "4      231  Elephone U2 - 6.26 FHD+ Display - 6GB RAM - 12...   Rs. 29,999\n",
       "..     ...                                                ...          ...\n",
       "268     37  vivo Y20s - 4GB - 128GB - 5000 mAh - Side Fing...   Rs. 29,999\n",
       "269    132  vivo Y31 - 4GB - 128GB - 5000mAh - 48MP Rear C...   Rs. 34,999\n",
       "270    265  vivo Y51s - 8GB - 128GB - 48MP Rear Camera - 5...   Rs. 36,999\n",
       "271    268  vivo Y51s - 8GB - 128GB - 48MP Rear Camera - 5...   Rs. 36,999\n",
       "272     52  vivo Y51s - 8GB - 128GB - 48MP Rear Camera - 5...   Rs. 39,999\n",
       "\n",
       "[273 rows x 3 columns]"
      ]
     },
     "execution_count": 51,
     "metadata": {},
     "output_type": "execute_result"
    }
   ],
   "source": [
    "df"
   ]
  },
  {
   "cell_type": "code",
   "execution_count": null,
   "id": "29e91734-ebe3-4ef4-bdd8-84c1d0affe8b",
   "metadata": {},
   "outputs": [],
   "source": [
    "driver.close()"
   ]
  }
 ],
 "metadata": {
  "kernelspec": {
   "display_name": "Python 3",
   "language": "python",
   "name": "python3"
  },
  "language_info": {
   "codemirror_mode": {
    "name": "ipython",
    "version": 3
   },
   "file_extension": ".py",
   "mimetype": "text/x-python",
   "name": "python",
   "nbconvert_exporter": "python",
   "pygments_lexer": "ipython3",
   "version": "3.8.8"
  }
 },
 "nbformat": 4,
 "nbformat_minor": 5
}
